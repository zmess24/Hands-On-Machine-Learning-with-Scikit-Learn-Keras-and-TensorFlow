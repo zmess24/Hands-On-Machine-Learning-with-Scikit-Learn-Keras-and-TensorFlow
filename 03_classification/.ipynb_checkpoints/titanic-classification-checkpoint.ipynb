{
 "cells": [
  {
   "cell_type": "markdown",
   "id": "d9363c5b",
   "metadata": {
    "_cell_guid": "b1076dfc-b9ad-4769-8c92-a6c4dae69d19",
    "_uuid": "8f2839f25d086af736a60e9eeb907d3b93b6e0e5",
    "papermill": {
     "duration": 0.015153,
     "end_time": "2023-08-30T02:25:06.002432",
     "exception": false,
     "start_time": "2023-08-30T02:25:05.987279",
     "status": "completed"
    },
    "tags": []
   },
   "source": [
    "## ☀️ Import Libraries"
   ]
  },
  {
   "cell_type": "code",
   "execution_count": 1,
   "id": "792a5eb1",
   "metadata": {
    "execution": {
     "iopub.execute_input": "2023-08-30T02:25:06.034849Z",
     "iopub.status.busy": "2023-08-30T02:25:06.033830Z",
     "iopub.status.idle": "2023-08-30T02:25:07.387527Z",
     "shell.execute_reply": "2023-08-30T02:25:07.386710Z"
    },
    "papermill": {
     "duration": 1.372706,
     "end_time": "2023-08-30T02:25:07.389983",
     "exception": false,
     "start_time": "2023-08-30T02:25:06.017277",
     "status": "completed"
    },
    "tags": []
   },
   "outputs": [
    {
     "name": "stderr",
     "output_type": "stream",
     "text": [
      "/opt/conda/lib/python3.10/site-packages/scipy/__init__.py:146: UserWarning: A NumPy version >=1.16.5 and <1.23.0 is required for this version of SciPy (detected version 1.23.5\n",
      "  warnings.warn(f\"A NumPy version >={np_minversion} and <{np_maxversion}\"\n"
     ]
    }
   ],
   "source": [
    "import numpy as np\n",
    "import pandas as pd\n",
    "import matplotlib.pyplot as plt\n",
    "import seaborn as sns\n",
    "%matplotlib inline"
   ]
  },
  {
   "cell_type": "markdown",
   "id": "677884a3",
   "metadata": {
    "papermill": {
     "duration": 0.01475,
     "end_time": "2023-08-30T02:25:07.419843",
     "exception": false,
     "start_time": "2023-08-30T02:25:07.405093",
     "status": "completed"
    },
    "tags": []
   },
   "source": [
    "## ✏️ Frame the Problem\n",
    "\n",
    "Given a set of data about the passengers of the Titanic, create a model that predicts whether or not the passengers survived."
   ]
  },
  {
   "cell_type": "markdown",
   "id": "fdbe622e",
   "metadata": {
    "papermill": {
     "duration": 0.01487,
     "end_time": "2023-08-30T02:25:07.449405",
     "exception": false,
     "start_time": "2023-08-30T02:25:07.434535",
     "status": "completed"
    },
    "tags": []
   },
   "source": [
    "## 💾 Load The Data\n"
   ]
  },
  {
   "cell_type": "code",
   "execution_count": 2,
   "id": "f62be99f",
   "metadata": {
    "execution": {
     "iopub.execute_input": "2023-08-30T02:25:07.481258Z",
     "iopub.status.busy": "2023-08-30T02:25:07.480593Z",
     "iopub.status.idle": "2023-08-30T02:25:07.511247Z",
     "shell.execute_reply": "2023-08-30T02:25:07.510274Z"
    },
    "papermill": {
     "duration": 0.049325,
     "end_time": "2023-08-30T02:25:07.513737",
     "exception": false,
     "start_time": "2023-08-30T02:25:07.464412",
     "status": "completed"
    },
    "tags": []
   },
   "outputs": [],
   "source": [
    "data_train = pd.read_csv(\"/kaggle/input/titanic/train.csv\")\n",
    "data_test = pd.read_csv(\"/kaggle/input/titanic/test.csv\")"
   ]
  },
  {
   "cell_type": "code",
   "execution_count": 3,
   "id": "8f07bd6e",
   "metadata": {
    "execution": {
     "iopub.execute_input": "2023-08-30T02:25:07.546055Z",
     "iopub.status.busy": "2023-08-30T02:25:07.545247Z",
     "iopub.status.idle": "2023-08-30T02:25:07.551892Z",
     "shell.execute_reply": "2023-08-30T02:25:07.550742Z"
    },
    "papermill": {
     "duration": 0.024679,
     "end_time": "2023-08-30T02:25:07.553797",
     "exception": false,
     "start_time": "2023-08-30T02:25:07.529118",
     "status": "completed"
    },
    "tags": []
   },
   "outputs": [
    {
     "name": "stdout",
     "output_type": "stream",
     "text": [
      " Training Data: 891 | 0.680672268907563\n",
      " Test Data: 418 | 0.31932773109243695\n"
     ]
    }
   ],
   "source": [
    "total_length = len(data_train) + len(data_test)\n",
    "\n",
    "print(f\" Training Data: {len(data_train)} | {len(data_train) / total_length}\")\n",
    "print(f\" Test Data: {len(data_test)} | {len(data_test) / total_length}\")"
   ]
  },
  {
   "cell_type": "code",
   "execution_count": 4,
   "id": "ac139c88",
   "metadata": {
    "execution": {
     "iopub.execute_input": "2023-08-30T02:25:07.585558Z",
     "iopub.status.busy": "2023-08-30T02:25:07.584586Z",
     "iopub.status.idle": "2023-08-30T02:25:07.614923Z",
     "shell.execute_reply": "2023-08-30T02:25:07.613752Z"
    },
    "papermill": {
     "duration": 0.048631,
     "end_time": "2023-08-30T02:25:07.617219",
     "exception": false,
     "start_time": "2023-08-30T02:25:07.568588",
     "status": "completed"
    },
    "tags": []
   },
   "outputs": [
    {
     "data": {
      "text/html": [
       "<div>\n",
       "<style scoped>\n",
       "    .dataframe tbody tr th:only-of-type {\n",
       "        vertical-align: middle;\n",
       "    }\n",
       "\n",
       "    .dataframe tbody tr th {\n",
       "        vertical-align: top;\n",
       "    }\n",
       "\n",
       "    .dataframe thead th {\n",
       "        text-align: right;\n",
       "    }\n",
       "</style>\n",
       "<table border=\"1\" class=\"dataframe\">\n",
       "  <thead>\n",
       "    <tr style=\"text-align: right;\">\n",
       "      <th></th>\n",
       "      <th>PassengerId</th>\n",
       "      <th>Survived</th>\n",
       "      <th>Pclass</th>\n",
       "      <th>Name</th>\n",
       "      <th>Sex</th>\n",
       "      <th>Age</th>\n",
       "      <th>SibSp</th>\n",
       "      <th>Parch</th>\n",
       "      <th>Ticket</th>\n",
       "      <th>Fare</th>\n",
       "      <th>Cabin</th>\n",
       "      <th>Embarked</th>\n",
       "    </tr>\n",
       "  </thead>\n",
       "  <tbody>\n",
       "    <tr>\n",
       "      <th>0</th>\n",
       "      <td>1</td>\n",
       "      <td>0</td>\n",
       "      <td>3</td>\n",
       "      <td>Braund, Mr. Owen Harris</td>\n",
       "      <td>male</td>\n",
       "      <td>22.0</td>\n",
       "      <td>1</td>\n",
       "      <td>0</td>\n",
       "      <td>A/5 21171</td>\n",
       "      <td>7.2500</td>\n",
       "      <td>NaN</td>\n",
       "      <td>S</td>\n",
       "    </tr>\n",
       "    <tr>\n",
       "      <th>1</th>\n",
       "      <td>2</td>\n",
       "      <td>1</td>\n",
       "      <td>1</td>\n",
       "      <td>Cumings, Mrs. John Bradley (Florence Briggs Th...</td>\n",
       "      <td>female</td>\n",
       "      <td>38.0</td>\n",
       "      <td>1</td>\n",
       "      <td>0</td>\n",
       "      <td>PC 17599</td>\n",
       "      <td>71.2833</td>\n",
       "      <td>C85</td>\n",
       "      <td>C</td>\n",
       "    </tr>\n",
       "    <tr>\n",
       "      <th>2</th>\n",
       "      <td>3</td>\n",
       "      <td>1</td>\n",
       "      <td>3</td>\n",
       "      <td>Heikkinen, Miss. Laina</td>\n",
       "      <td>female</td>\n",
       "      <td>26.0</td>\n",
       "      <td>0</td>\n",
       "      <td>0</td>\n",
       "      <td>STON/O2. 3101282</td>\n",
       "      <td>7.9250</td>\n",
       "      <td>NaN</td>\n",
       "      <td>S</td>\n",
       "    </tr>\n",
       "    <tr>\n",
       "      <th>3</th>\n",
       "      <td>4</td>\n",
       "      <td>1</td>\n",
       "      <td>1</td>\n",
       "      <td>Futrelle, Mrs. Jacques Heath (Lily May Peel)</td>\n",
       "      <td>female</td>\n",
       "      <td>35.0</td>\n",
       "      <td>1</td>\n",
       "      <td>0</td>\n",
       "      <td>113803</td>\n",
       "      <td>53.1000</td>\n",
       "      <td>C123</td>\n",
       "      <td>S</td>\n",
       "    </tr>\n",
       "    <tr>\n",
       "      <th>4</th>\n",
       "      <td>5</td>\n",
       "      <td>0</td>\n",
       "      <td>3</td>\n",
       "      <td>Allen, Mr. William Henry</td>\n",
       "      <td>male</td>\n",
       "      <td>35.0</td>\n",
       "      <td>0</td>\n",
       "      <td>0</td>\n",
       "      <td>373450</td>\n",
       "      <td>8.0500</td>\n",
       "      <td>NaN</td>\n",
       "      <td>S</td>\n",
       "    </tr>\n",
       "    <tr>\n",
       "      <th>5</th>\n",
       "      <td>6</td>\n",
       "      <td>0</td>\n",
       "      <td>3</td>\n",
       "      <td>Moran, Mr. James</td>\n",
       "      <td>male</td>\n",
       "      <td>NaN</td>\n",
       "      <td>0</td>\n",
       "      <td>0</td>\n",
       "      <td>330877</td>\n",
       "      <td>8.4583</td>\n",
       "      <td>NaN</td>\n",
       "      <td>Q</td>\n",
       "    </tr>\n",
       "    <tr>\n",
       "      <th>6</th>\n",
       "      <td>7</td>\n",
       "      <td>0</td>\n",
       "      <td>1</td>\n",
       "      <td>McCarthy, Mr. Timothy J</td>\n",
       "      <td>male</td>\n",
       "      <td>54.0</td>\n",
       "      <td>0</td>\n",
       "      <td>0</td>\n",
       "      <td>17463</td>\n",
       "      <td>51.8625</td>\n",
       "      <td>E46</td>\n",
       "      <td>S</td>\n",
       "    </tr>\n",
       "    <tr>\n",
       "      <th>7</th>\n",
       "      <td>8</td>\n",
       "      <td>0</td>\n",
       "      <td>3</td>\n",
       "      <td>Palsson, Master. Gosta Leonard</td>\n",
       "      <td>male</td>\n",
       "      <td>2.0</td>\n",
       "      <td>3</td>\n",
       "      <td>1</td>\n",
       "      <td>349909</td>\n",
       "      <td>21.0750</td>\n",
       "      <td>NaN</td>\n",
       "      <td>S</td>\n",
       "    </tr>\n",
       "    <tr>\n",
       "      <th>8</th>\n",
       "      <td>9</td>\n",
       "      <td>1</td>\n",
       "      <td>3</td>\n",
       "      <td>Johnson, Mrs. Oscar W (Elisabeth Vilhelmina Berg)</td>\n",
       "      <td>female</td>\n",
       "      <td>27.0</td>\n",
       "      <td>0</td>\n",
       "      <td>2</td>\n",
       "      <td>347742</td>\n",
       "      <td>11.1333</td>\n",
       "      <td>NaN</td>\n",
       "      <td>S</td>\n",
       "    </tr>\n",
       "    <tr>\n",
       "      <th>9</th>\n",
       "      <td>10</td>\n",
       "      <td>1</td>\n",
       "      <td>2</td>\n",
       "      <td>Nasser, Mrs. Nicholas (Adele Achem)</td>\n",
       "      <td>female</td>\n",
       "      <td>14.0</td>\n",
       "      <td>1</td>\n",
       "      <td>0</td>\n",
       "      <td>237736</td>\n",
       "      <td>30.0708</td>\n",
       "      <td>NaN</td>\n",
       "      <td>C</td>\n",
       "    </tr>\n",
       "    <tr>\n",
       "      <th>10</th>\n",
       "      <td>11</td>\n",
       "      <td>1</td>\n",
       "      <td>3</td>\n",
       "      <td>Sandstrom, Miss. Marguerite Rut</td>\n",
       "      <td>female</td>\n",
       "      <td>4.0</td>\n",
       "      <td>1</td>\n",
       "      <td>1</td>\n",
       "      <td>PP 9549</td>\n",
       "      <td>16.7000</td>\n",
       "      <td>G6</td>\n",
       "      <td>S</td>\n",
       "    </tr>\n",
       "    <tr>\n",
       "      <th>11</th>\n",
       "      <td>12</td>\n",
       "      <td>1</td>\n",
       "      <td>1</td>\n",
       "      <td>Bonnell, Miss. Elizabeth</td>\n",
       "      <td>female</td>\n",
       "      <td>58.0</td>\n",
       "      <td>0</td>\n",
       "      <td>0</td>\n",
       "      <td>113783</td>\n",
       "      <td>26.5500</td>\n",
       "      <td>C103</td>\n",
       "      <td>S</td>\n",
       "    </tr>\n",
       "    <tr>\n",
       "      <th>12</th>\n",
       "      <td>13</td>\n",
       "      <td>0</td>\n",
       "      <td>3</td>\n",
       "      <td>Saundercock, Mr. William Henry</td>\n",
       "      <td>male</td>\n",
       "      <td>20.0</td>\n",
       "      <td>0</td>\n",
       "      <td>0</td>\n",
       "      <td>A/5. 2151</td>\n",
       "      <td>8.0500</td>\n",
       "      <td>NaN</td>\n",
       "      <td>S</td>\n",
       "    </tr>\n",
       "    <tr>\n",
       "      <th>13</th>\n",
       "      <td>14</td>\n",
       "      <td>0</td>\n",
       "      <td>3</td>\n",
       "      <td>Andersson, Mr. Anders Johan</td>\n",
       "      <td>male</td>\n",
       "      <td>39.0</td>\n",
       "      <td>1</td>\n",
       "      <td>5</td>\n",
       "      <td>347082</td>\n",
       "      <td>31.2750</td>\n",
       "      <td>NaN</td>\n",
       "      <td>S</td>\n",
       "    </tr>\n",
       "    <tr>\n",
       "      <th>14</th>\n",
       "      <td>15</td>\n",
       "      <td>0</td>\n",
       "      <td>3</td>\n",
       "      <td>Vestrom, Miss. Hulda Amanda Adolfina</td>\n",
       "      <td>female</td>\n",
       "      <td>14.0</td>\n",
       "      <td>0</td>\n",
       "      <td>0</td>\n",
       "      <td>350406</td>\n",
       "      <td>7.8542</td>\n",
       "      <td>NaN</td>\n",
       "      <td>S</td>\n",
       "    </tr>\n",
       "    <tr>\n",
       "      <th>15</th>\n",
       "      <td>16</td>\n",
       "      <td>1</td>\n",
       "      <td>2</td>\n",
       "      <td>Hewlett, Mrs. (Mary D Kingcome)</td>\n",
       "      <td>female</td>\n",
       "      <td>55.0</td>\n",
       "      <td>0</td>\n",
       "      <td>0</td>\n",
       "      <td>248706</td>\n",
       "      <td>16.0000</td>\n",
       "      <td>NaN</td>\n",
       "      <td>S</td>\n",
       "    </tr>\n",
       "    <tr>\n",
       "      <th>16</th>\n",
       "      <td>17</td>\n",
       "      <td>0</td>\n",
       "      <td>3</td>\n",
       "      <td>Rice, Master. Eugene</td>\n",
       "      <td>male</td>\n",
       "      <td>2.0</td>\n",
       "      <td>4</td>\n",
       "      <td>1</td>\n",
       "      <td>382652</td>\n",
       "      <td>29.1250</td>\n",
       "      <td>NaN</td>\n",
       "      <td>Q</td>\n",
       "    </tr>\n",
       "    <tr>\n",
       "      <th>17</th>\n",
       "      <td>18</td>\n",
       "      <td>1</td>\n",
       "      <td>2</td>\n",
       "      <td>Williams, Mr. Charles Eugene</td>\n",
       "      <td>male</td>\n",
       "      <td>NaN</td>\n",
       "      <td>0</td>\n",
       "      <td>0</td>\n",
       "      <td>244373</td>\n",
       "      <td>13.0000</td>\n",
       "      <td>NaN</td>\n",
       "      <td>S</td>\n",
       "    </tr>\n",
       "    <tr>\n",
       "      <th>18</th>\n",
       "      <td>19</td>\n",
       "      <td>0</td>\n",
       "      <td>3</td>\n",
       "      <td>Vander Planke, Mrs. Julius (Emelia Maria Vande...</td>\n",
       "      <td>female</td>\n",
       "      <td>31.0</td>\n",
       "      <td>1</td>\n",
       "      <td>0</td>\n",
       "      <td>345763</td>\n",
       "      <td>18.0000</td>\n",
       "      <td>NaN</td>\n",
       "      <td>S</td>\n",
       "    </tr>\n",
       "    <tr>\n",
       "      <th>19</th>\n",
       "      <td>20</td>\n",
       "      <td>1</td>\n",
       "      <td>3</td>\n",
       "      <td>Masselmani, Mrs. Fatima</td>\n",
       "      <td>female</td>\n",
       "      <td>NaN</td>\n",
       "      <td>0</td>\n",
       "      <td>0</td>\n",
       "      <td>2649</td>\n",
       "      <td>7.2250</td>\n",
       "      <td>NaN</td>\n",
       "      <td>C</td>\n",
       "    </tr>\n",
       "  </tbody>\n",
       "</table>\n",
       "</div>"
      ],
      "text/plain": [
       "    PassengerId  Survived  Pclass  \\\n",
       "0             1         0       3   \n",
       "1             2         1       1   \n",
       "2             3         1       3   \n",
       "3             4         1       1   \n",
       "4             5         0       3   \n",
       "5             6         0       3   \n",
       "6             7         0       1   \n",
       "7             8         0       3   \n",
       "8             9         1       3   \n",
       "9            10         1       2   \n",
       "10           11         1       3   \n",
       "11           12         1       1   \n",
       "12           13         0       3   \n",
       "13           14         0       3   \n",
       "14           15         0       3   \n",
       "15           16         1       2   \n",
       "16           17         0       3   \n",
       "17           18         1       2   \n",
       "18           19         0       3   \n",
       "19           20         1       3   \n",
       "\n",
       "                                                 Name     Sex   Age  SibSp  \\\n",
       "0                             Braund, Mr. Owen Harris    male  22.0      1   \n",
       "1   Cumings, Mrs. John Bradley (Florence Briggs Th...  female  38.0      1   \n",
       "2                              Heikkinen, Miss. Laina  female  26.0      0   \n",
       "3        Futrelle, Mrs. Jacques Heath (Lily May Peel)  female  35.0      1   \n",
       "4                            Allen, Mr. William Henry    male  35.0      0   \n",
       "5                                    Moran, Mr. James    male   NaN      0   \n",
       "6                             McCarthy, Mr. Timothy J    male  54.0      0   \n",
       "7                      Palsson, Master. Gosta Leonard    male   2.0      3   \n",
       "8   Johnson, Mrs. Oscar W (Elisabeth Vilhelmina Berg)  female  27.0      0   \n",
       "9                 Nasser, Mrs. Nicholas (Adele Achem)  female  14.0      1   \n",
       "10                    Sandstrom, Miss. Marguerite Rut  female   4.0      1   \n",
       "11                           Bonnell, Miss. Elizabeth  female  58.0      0   \n",
       "12                     Saundercock, Mr. William Henry    male  20.0      0   \n",
       "13                        Andersson, Mr. Anders Johan    male  39.0      1   \n",
       "14               Vestrom, Miss. Hulda Amanda Adolfina  female  14.0      0   \n",
       "15                   Hewlett, Mrs. (Mary D Kingcome)   female  55.0      0   \n",
       "16                               Rice, Master. Eugene    male   2.0      4   \n",
       "17                       Williams, Mr. Charles Eugene    male   NaN      0   \n",
       "18  Vander Planke, Mrs. Julius (Emelia Maria Vande...  female  31.0      1   \n",
       "19                            Masselmani, Mrs. Fatima  female   NaN      0   \n",
       "\n",
       "    Parch            Ticket     Fare Cabin Embarked  \n",
       "0       0         A/5 21171   7.2500   NaN        S  \n",
       "1       0          PC 17599  71.2833   C85        C  \n",
       "2       0  STON/O2. 3101282   7.9250   NaN        S  \n",
       "3       0            113803  53.1000  C123        S  \n",
       "4       0            373450   8.0500   NaN        S  \n",
       "5       0            330877   8.4583   NaN        Q  \n",
       "6       0             17463  51.8625   E46        S  \n",
       "7       1            349909  21.0750   NaN        S  \n",
       "8       2            347742  11.1333   NaN        S  \n",
       "9       0            237736  30.0708   NaN        C  \n",
       "10      1           PP 9549  16.7000    G6        S  \n",
       "11      0            113783  26.5500  C103        S  \n",
       "12      0         A/5. 2151   8.0500   NaN        S  \n",
       "13      5            347082  31.2750   NaN        S  \n",
       "14      0            350406   7.8542   NaN        S  \n",
       "15      0            248706  16.0000   NaN        S  \n",
       "16      1            382652  29.1250   NaN        Q  \n",
       "17      0            244373  13.0000   NaN        S  \n",
       "18      0            345763  18.0000   NaN        S  \n",
       "19      0              2649   7.2250   NaN        C  "
      ]
     },
     "execution_count": 4,
     "metadata": {},
     "output_type": "execute_result"
    }
   ],
   "source": [
    "data_train.head(20)"
   ]
  },
  {
   "cell_type": "code",
   "execution_count": 5,
   "id": "425b785a",
   "metadata": {
    "execution": {
     "iopub.execute_input": "2023-08-30T02:25:07.650923Z",
     "iopub.status.busy": "2023-08-30T02:25:07.650504Z",
     "iopub.status.idle": "2023-08-30T02:25:07.657432Z",
     "shell.execute_reply": "2023-08-30T02:25:07.656584Z"
    },
    "papermill": {
     "duration": 0.025633,
     "end_time": "2023-08-30T02:25:07.659497",
     "exception": false,
     "start_time": "2023-08-30T02:25:07.633864",
     "status": "completed"
    },
    "tags": []
   },
   "outputs": [
    {
     "data": {
      "text/plain": [
       "Index(['PassengerId', 'Survived', 'Pclass', 'Name', 'Sex', 'Age', 'SibSp',\n",
       "       'Parch', 'Ticket', 'Fare', 'Cabin', 'Embarked'],\n",
       "      dtype='object')"
      ]
     },
     "execution_count": 5,
     "metadata": {},
     "output_type": "execute_result"
    }
   ],
   "source": [
    "data_train.keys()"
   ]
  },
  {
   "cell_type": "code",
   "execution_count": 6,
   "id": "c620b0ef",
   "metadata": {
    "execution": {
     "iopub.execute_input": "2023-08-30T02:25:07.692312Z",
     "iopub.status.busy": "2023-08-30T02:25:07.691518Z",
     "iopub.status.idle": "2023-08-30T02:25:07.702890Z",
     "shell.execute_reply": "2023-08-30T02:25:07.702030Z"
    },
    "papermill": {
     "duration": 0.03008,
     "end_time": "2023-08-30T02:25:07.704932",
     "exception": false,
     "start_time": "2023-08-30T02:25:07.674852",
     "status": "completed"
    },
    "tags": []
   },
   "outputs": [
    {
     "data": {
      "text/plain": [
       "PassengerId      0\n",
       "Survived         0\n",
       "Pclass           0\n",
       "Name             0\n",
       "Sex              0\n",
       "Age            177\n",
       "SibSp            0\n",
       "Parch            0\n",
       "Ticket           0\n",
       "Fare             0\n",
       "Cabin          687\n",
       "Embarked         2\n",
       "dtype: int64"
      ]
     },
     "execution_count": 6,
     "metadata": {},
     "output_type": "execute_result"
    }
   ],
   "source": [
    "data_train.isna().sum()"
   ]
  },
  {
   "cell_type": "code",
   "execution_count": 7,
   "id": "679787e4",
   "metadata": {
    "execution": {
     "iopub.execute_input": "2023-08-30T02:25:07.737813Z",
     "iopub.status.busy": "2023-08-30T02:25:07.737354Z",
     "iopub.status.idle": "2023-08-30T02:25:07.769813Z",
     "shell.execute_reply": "2023-08-30T02:25:07.768788Z"
    },
    "papermill": {
     "duration": 0.051758,
     "end_time": "2023-08-30T02:25:07.771983",
     "exception": false,
     "start_time": "2023-08-30T02:25:07.720225",
     "status": "completed"
    },
    "tags": []
   },
   "outputs": [
    {
     "data": {
      "text/html": [
       "<div>\n",
       "<style scoped>\n",
       "    .dataframe tbody tr th:only-of-type {\n",
       "        vertical-align: middle;\n",
       "    }\n",
       "\n",
       "    .dataframe tbody tr th {\n",
       "        vertical-align: top;\n",
       "    }\n",
       "\n",
       "    .dataframe thead th {\n",
       "        text-align: right;\n",
       "    }\n",
       "</style>\n",
       "<table border=\"1\" class=\"dataframe\">\n",
       "  <thead>\n",
       "    <tr style=\"text-align: right;\">\n",
       "      <th></th>\n",
       "      <th>PassengerId</th>\n",
       "      <th>Survived</th>\n",
       "      <th>Pclass</th>\n",
       "      <th>Age</th>\n",
       "      <th>SibSp</th>\n",
       "      <th>Parch</th>\n",
       "      <th>Fare</th>\n",
       "    </tr>\n",
       "  </thead>\n",
       "  <tbody>\n",
       "    <tr>\n",
       "      <th>count</th>\n",
       "      <td>891.000000</td>\n",
       "      <td>891.000000</td>\n",
       "      <td>891.000000</td>\n",
       "      <td>714.000000</td>\n",
       "      <td>891.000000</td>\n",
       "      <td>891.000000</td>\n",
       "      <td>891.000000</td>\n",
       "    </tr>\n",
       "    <tr>\n",
       "      <th>mean</th>\n",
       "      <td>446.000000</td>\n",
       "      <td>0.383838</td>\n",
       "      <td>2.308642</td>\n",
       "      <td>29.699118</td>\n",
       "      <td>0.523008</td>\n",
       "      <td>0.381594</td>\n",
       "      <td>32.204208</td>\n",
       "    </tr>\n",
       "    <tr>\n",
       "      <th>std</th>\n",
       "      <td>257.353842</td>\n",
       "      <td>0.486592</td>\n",
       "      <td>0.836071</td>\n",
       "      <td>14.526497</td>\n",
       "      <td>1.102743</td>\n",
       "      <td>0.806057</td>\n",
       "      <td>49.693429</td>\n",
       "    </tr>\n",
       "    <tr>\n",
       "      <th>min</th>\n",
       "      <td>1.000000</td>\n",
       "      <td>0.000000</td>\n",
       "      <td>1.000000</td>\n",
       "      <td>0.420000</td>\n",
       "      <td>0.000000</td>\n",
       "      <td>0.000000</td>\n",
       "      <td>0.000000</td>\n",
       "    </tr>\n",
       "    <tr>\n",
       "      <th>25%</th>\n",
       "      <td>223.500000</td>\n",
       "      <td>0.000000</td>\n",
       "      <td>2.000000</td>\n",
       "      <td>20.125000</td>\n",
       "      <td>0.000000</td>\n",
       "      <td>0.000000</td>\n",
       "      <td>7.910400</td>\n",
       "    </tr>\n",
       "    <tr>\n",
       "      <th>50%</th>\n",
       "      <td>446.000000</td>\n",
       "      <td>0.000000</td>\n",
       "      <td>3.000000</td>\n",
       "      <td>28.000000</td>\n",
       "      <td>0.000000</td>\n",
       "      <td>0.000000</td>\n",
       "      <td>14.454200</td>\n",
       "    </tr>\n",
       "    <tr>\n",
       "      <th>75%</th>\n",
       "      <td>668.500000</td>\n",
       "      <td>1.000000</td>\n",
       "      <td>3.000000</td>\n",
       "      <td>38.000000</td>\n",
       "      <td>1.000000</td>\n",
       "      <td>0.000000</td>\n",
       "      <td>31.000000</td>\n",
       "    </tr>\n",
       "    <tr>\n",
       "      <th>max</th>\n",
       "      <td>891.000000</td>\n",
       "      <td>1.000000</td>\n",
       "      <td>3.000000</td>\n",
       "      <td>80.000000</td>\n",
       "      <td>8.000000</td>\n",
       "      <td>6.000000</td>\n",
       "      <td>512.329200</td>\n",
       "    </tr>\n",
       "  </tbody>\n",
       "</table>\n",
       "</div>"
      ],
      "text/plain": [
       "       PassengerId    Survived      Pclass         Age       SibSp  \\\n",
       "count   891.000000  891.000000  891.000000  714.000000  891.000000   \n",
       "mean    446.000000    0.383838    2.308642   29.699118    0.523008   \n",
       "std     257.353842    0.486592    0.836071   14.526497    1.102743   \n",
       "min       1.000000    0.000000    1.000000    0.420000    0.000000   \n",
       "25%     223.500000    0.000000    2.000000   20.125000    0.000000   \n",
       "50%     446.000000    0.000000    3.000000   28.000000    0.000000   \n",
       "75%     668.500000    1.000000    3.000000   38.000000    1.000000   \n",
       "max     891.000000    1.000000    3.000000   80.000000    8.000000   \n",
       "\n",
       "            Parch        Fare  \n",
       "count  891.000000  891.000000  \n",
       "mean     0.381594   32.204208  \n",
       "std      0.806057   49.693429  \n",
       "min      0.000000    0.000000  \n",
       "25%      0.000000    7.910400  \n",
       "50%      0.000000   14.454200  \n",
       "75%      0.000000   31.000000  \n",
       "max      6.000000  512.329200  "
      ]
     },
     "execution_count": 7,
     "metadata": {},
     "output_type": "execute_result"
    }
   ],
   "source": [
    "data_train.describe()"
   ]
  },
  {
   "cell_type": "code",
   "execution_count": 8,
   "id": "edc95c7f",
   "metadata": {
    "execution": {
     "iopub.execute_input": "2023-08-30T02:25:07.805611Z",
     "iopub.status.busy": "2023-08-30T02:25:07.805205Z",
     "iopub.status.idle": "2023-08-30T02:25:07.830095Z",
     "shell.execute_reply": "2023-08-30T02:25:07.828645Z"
    },
    "papermill": {
     "duration": 0.044307,
     "end_time": "2023-08-30T02:25:07.832053",
     "exception": false,
     "start_time": "2023-08-30T02:25:07.787746",
     "status": "completed"
    },
    "tags": []
   },
   "outputs": [
    {
     "name": "stdout",
     "output_type": "stream",
     "text": [
      "<class 'pandas.core.frame.DataFrame'>\n",
      "RangeIndex: 891 entries, 0 to 890\n",
      "Data columns (total 12 columns):\n",
      " #   Column       Non-Null Count  Dtype  \n",
      "---  ------       --------------  -----  \n",
      " 0   PassengerId  891 non-null    int64  \n",
      " 1   Survived     891 non-null    int64  \n",
      " 2   Pclass       891 non-null    int64  \n",
      " 3   Name         891 non-null    object \n",
      " 4   Sex          891 non-null    object \n",
      " 5   Age          714 non-null    float64\n",
      " 6   SibSp        891 non-null    int64  \n",
      " 7   Parch        891 non-null    int64  \n",
      " 8   Ticket       891 non-null    object \n",
      " 9   Fare         891 non-null    float64\n",
      " 10  Cabin        204 non-null    object \n",
      " 11  Embarked     889 non-null    object \n",
      "dtypes: float64(2), int64(5), object(5)\n",
      "memory usage: 83.7+ KB\n"
     ]
    }
   ],
   "source": [
    "data_train.info()"
   ]
  },
  {
   "cell_type": "markdown",
   "id": "32be8d69",
   "metadata": {
    "papermill": {
     "duration": 0.015363,
     "end_time": "2023-08-30T02:25:07.863237",
     "exception": false,
     "start_time": "2023-08-30T02:25:07.847874",
     "status": "completed"
    },
    "tags": []
   },
   "source": [
    "## 📊 EDA\n"
   ]
  },
  {
   "cell_type": "code",
   "execution_count": 9,
   "id": "b8949ff5",
   "metadata": {
    "execution": {
     "iopub.execute_input": "2023-08-30T02:25:07.897231Z",
     "iopub.status.busy": "2023-08-30T02:25:07.896200Z",
     "iopub.status.idle": "2023-08-30T02:25:07.901034Z",
     "shell.execute_reply": "2023-08-30T02:25:07.900137Z"
    },
    "papermill": {
     "duration": 0.024146,
     "end_time": "2023-08-30T02:25:07.903098",
     "exception": false,
     "start_time": "2023-08-30T02:25:07.878952",
     "status": "completed"
    },
    "tags": []
   },
   "outputs": [],
   "source": [
    "data_train_copy = data_train.copy(deep=True)"
   ]
  },
  {
   "cell_type": "code",
   "execution_count": 10,
   "id": "cb11994c",
   "metadata": {
    "execution": {
     "iopub.execute_input": "2023-08-30T02:25:07.936400Z",
     "iopub.status.busy": "2023-08-30T02:25:07.936016Z",
     "iopub.status.idle": "2023-08-30T02:25:07.945831Z",
     "shell.execute_reply": "2023-08-30T02:25:07.944834Z"
    },
    "papermill": {
     "duration": 0.028776,
     "end_time": "2023-08-30T02:25:07.947752",
     "exception": false,
     "start_time": "2023-08-30T02:25:07.918976",
     "status": "completed"
    },
    "tags": []
   },
   "outputs": [
    {
     "name": "stdout",
     "output_type": "stream",
     "text": [
      "Survived       1.000000\n",
      "Fare           0.257307\n",
      "Parch          0.081629\n",
      "PassengerId   -0.005007\n",
      "SibSp         -0.035322\n",
      "Age           -0.077221\n",
      "Pclass        -0.338481\n",
      "Name: Survived, dtype: float64\n"
     ]
    }
   ],
   "source": [
    "corr_matrix = data_train_copy.corr(numeric_only=True)\n",
    "print(corr_matrix[\"Survived\"].sort_values(ascending=False))"
   ]
  },
  {
   "cell_type": "code",
   "execution_count": 11,
   "id": "94872420",
   "metadata": {
    "execution": {
     "iopub.execute_input": "2023-08-30T02:25:07.981615Z",
     "iopub.status.busy": "2023-08-30T02:25:07.981014Z",
     "iopub.status.idle": "2023-08-30T02:25:07.985597Z",
     "shell.execute_reply": "2023-08-30T02:25:07.984491Z"
    },
    "papermill": {
     "duration": 0.024012,
     "end_time": "2023-08-30T02:25:07.987821",
     "exception": false,
     "start_time": "2023-08-30T02:25:07.963809",
     "status": "completed"
    },
    "tags": []
   },
   "outputs": [],
   "source": [
    "sns.set_style('whitegrid')"
   ]
  },
  {
   "cell_type": "code",
   "execution_count": 12,
   "id": "39e84063",
   "metadata": {
    "execution": {
     "iopub.execute_input": "2023-08-30T02:25:08.021499Z",
     "iopub.status.busy": "2023-08-30T02:25:08.021052Z",
     "iopub.status.idle": "2023-08-30T02:25:08.289747Z",
     "shell.execute_reply": "2023-08-30T02:25:08.288409Z"
    },
    "papermill": {
     "duration": 0.288374,
     "end_time": "2023-08-30T02:25:08.292153",
     "exception": false,
     "start_time": "2023-08-30T02:25:08.003779",
     "status": "completed"
    },
    "tags": []
   },
   "outputs": [
    {
     "data": {
      "text/plain": [
       "<Axes: xlabel='Survived', ylabel='count'>"
      ]
     },
     "execution_count": 12,
     "metadata": {},
     "output_type": "execute_result"
    },
    {
     "data": {
      "image/png": "[encoded data removed]",
      "text/plain": [
       "<Figure size 640x480 with 1 Axes>"
      ]
     },
     "metadata": {},
     "output_type": "display_data"
    }
   ],
   "source": [
    "sns.countplot(x='Survived', data=data_train_copy)"
   ]
  },
  {
   "cell_type": "markdown",
   "id": "39774432",
   "metadata": {
    "papermill": {
     "duration": 0.015966,
     "end_time": "2023-08-30T02:25:08.324546",
     "exception": false,
     "start_time": "2023-08-30T02:25:08.308580",
     "status": "completed"
    },
    "tags": []
   },
   "source": [
    "### `Pclass`"
   ]
  },
  {
   "cell_type": "code",
   "execution_count": 13,
   "id": "fab84aea",
   "metadata": {
    "execution": {
     "iopub.execute_input": "2023-08-30T02:25:08.359474Z",
     "iopub.status.busy": "2023-08-30T02:25:08.358538Z",
     "iopub.status.idle": "2023-08-30T02:25:08.665946Z",
     "shell.execute_reply": "2023-08-30T02:25:08.664602Z"
    },
    "papermill": {
     "duration": 0.327348,
     "end_time": "2023-08-30T02:25:08.668264",
     "exception": false,
     "start_time": "2023-08-30T02:25:08.340916",
     "status": "completed"
    },
    "tags": []
   },
   "outputs": [
    {
     "data": {
      "text/plain": [
       "<Axes: xlabel='Survived', ylabel='count'>"
      ]
     },
     "execution_count": 13,
     "metadata": {},
     "output_type": "execute_result"
    },
    {
     "data": {
      "image/png": "[encoded data removed]",
      "text/plain": [
       "<Figure size 640x480 with 1 Axes>"
      ]
     },
     "metadata": {},
     "output_type": "display_data"
    }
   ],
   "source": [
    "sns.countplot(x='Survived', hue=\"Pclass\", data=data_train_copy)"
   ]
  },
  {
   "cell_type": "markdown",
   "id": "dff04fd2",
   "metadata": {
    "papermill": {
     "duration": 0.016589,
     "end_time": "2023-08-30T02:25:08.701894",
     "exception": false,
     "start_time": "2023-08-30T02:25:08.685305",
     "status": "completed"
    },
    "tags": []
   },
   "source": [
    "### `Sex`"
   ]
  },
  {
   "cell_type": "code",
   "execution_count": 14,
   "id": "83505f1d",
   "metadata": {
    "execution": {
     "iopub.execute_input": "2023-08-30T02:25:08.737535Z",
     "iopub.status.busy": "2023-08-30T02:25:08.737076Z",
     "iopub.status.idle": "2023-08-30T02:25:09.009538Z",
     "shell.execute_reply": "2023-08-30T02:25:09.008306Z"
    },
    "papermill": {
     "duration": 0.293272,
     "end_time": "2023-08-30T02:25:09.012027",
     "exception": false,
     "start_time": "2023-08-30T02:25:08.718755",
     "status": "completed"
    },
    "tags": []
   },
   "outputs": [
    {
     "data": {
      "text/plain": [
       "<Axes: xlabel='Sex', ylabel='count'>"
      ]
     },
     "execution_count": 14,
     "metadata": {},
     "output_type": "execute_result"
    },
    {
     "data": {
      "image/png": "[encoded data removed]",
      "text/plain": [
       "<Figure size 640x480 with 1 Axes>"
      ]
     },
     "metadata": {},
     "output_type": "display_data"
    }
   ],
   "source": [
    "sns.countplot(x='Sex', hue=\"Survived\", data=data_train_copy)"
   ]
  },
  {
   "cell_type": "code",
   "execution_count": 15,
   "id": "65769f7e",
   "metadata": {
    "execution": {
     "iopub.execute_input": "2023-08-30T02:25:09.048327Z",
     "iopub.status.busy": "2023-08-30T02:25:09.047949Z",
     "iopub.status.idle": "2023-08-30T02:25:09.066816Z",
     "shell.execute_reply": "2023-08-30T02:25:09.066047Z"
    },
    "papermill": {
     "duration": 0.039304,
     "end_time": "2023-08-30T02:25:09.068784",
     "exception": false,
     "start_time": "2023-08-30T02:25:09.029480",
     "status": "completed"
    },
    "tags": []
   },
   "outputs": [
    {
     "data": {
      "text/html": [
       "<div>\n",
       "<style scoped>\n",
       "    .dataframe tbody tr th:only-of-type {\n",
       "        vertical-align: middle;\n",
       "    }\n",
       "\n",
       "    .dataframe tbody tr th {\n",
       "        vertical-align: top;\n",
       "    }\n",
       "\n",
       "    .dataframe thead th {\n",
       "        text-align: right;\n",
       "    }\n",
       "</style>\n",
       "<table border=\"1\" class=\"dataframe\">\n",
       "  <thead>\n",
       "    <tr style=\"text-align: right;\">\n",
       "      <th></th>\n",
       "      <th>PassengerId</th>\n",
       "      <th>Survived</th>\n",
       "      <th>Pclass</th>\n",
       "      <th>Name</th>\n",
       "      <th>Sex</th>\n",
       "      <th>Age</th>\n",
       "      <th>SibSp</th>\n",
       "      <th>Parch</th>\n",
       "      <th>Ticket</th>\n",
       "      <th>Fare</th>\n",
       "      <th>Cabin</th>\n",
       "      <th>Embarked</th>\n",
       "      <th>male</th>\n",
       "    </tr>\n",
       "  </thead>\n",
       "  <tbody>\n",
       "    <tr>\n",
       "      <th>0</th>\n",
       "      <td>1</td>\n",
       "      <td>0</td>\n",
       "      <td>3</td>\n",
       "      <td>Braund, Mr. Owen Harris</td>\n",
       "      <td>male</td>\n",
       "      <td>22.0</td>\n",
       "      <td>1</td>\n",
       "      <td>0</td>\n",
       "      <td>A/5 21171</td>\n",
       "      <td>7.2500</td>\n",
       "      <td>NaN</td>\n",
       "      <td>S</td>\n",
       "      <td>1</td>\n",
       "    </tr>\n",
       "    <tr>\n",
       "      <th>1</th>\n",
       "      <td>2</td>\n",
       "      <td>1</td>\n",
       "      <td>1</td>\n",
       "      <td>Cumings, Mrs. John Bradley (Florence Briggs Th...</td>\n",
       "      <td>female</td>\n",
       "      <td>38.0</td>\n",
       "      <td>1</td>\n",
       "      <td>0</td>\n",
       "      <td>PC 17599</td>\n",
       "      <td>71.2833</td>\n",
       "      <td>C85</td>\n",
       "      <td>C</td>\n",
       "      <td>0</td>\n",
       "    </tr>\n",
       "    <tr>\n",
       "      <th>2</th>\n",
       "      <td>3</td>\n",
       "      <td>1</td>\n",
       "      <td>3</td>\n",
       "      <td>Heikkinen, Miss. Laina</td>\n",
       "      <td>female</td>\n",
       "      <td>26.0</td>\n",
       "      <td>0</td>\n",
       "      <td>0</td>\n",
       "      <td>STON/O2. 3101282</td>\n",
       "      <td>7.9250</td>\n",
       "      <td>NaN</td>\n",
       "      <td>S</td>\n",
       "      <td>0</td>\n",
       "    </tr>\n",
       "    <tr>\n",
       "      <th>3</th>\n",
       "      <td>4</td>\n",
       "      <td>1</td>\n",
       "      <td>1</td>\n",
       "      <td>Futrelle, Mrs. Jacques Heath (Lily May Peel)</td>\n",
       "      <td>female</td>\n",
       "      <td>35.0</td>\n",
       "      <td>1</td>\n",
       "      <td>0</td>\n",
       "      <td>113803</td>\n",
       "      <td>53.1000</td>\n",
       "      <td>C123</td>\n",
       "      <td>S</td>\n",
       "      <td>0</td>\n",
       "    </tr>\n",
       "    <tr>\n",
       "      <th>4</th>\n",
       "      <td>5</td>\n",
       "      <td>0</td>\n",
       "      <td>3</td>\n",
       "      <td>Allen, Mr. William Henry</td>\n",
       "      <td>male</td>\n",
       "      <td>35.0</td>\n",
       "      <td>0</td>\n",
       "      <td>0</td>\n",
       "      <td>373450</td>\n",
       "      <td>8.0500</td>\n",
       "      <td>NaN</td>\n",
       "      <td>S</td>\n",
       "      <td>1</td>\n",
       "    </tr>\n",
       "  </tbody>\n",
       "</table>\n",
       "</div>"
      ],
      "text/plain": [
       "   PassengerId  Survived  Pclass  \\\n",
       "0            1         0       3   \n",
       "1            2         1       1   \n",
       "2            3         1       3   \n",
       "3            4         1       1   \n",
       "4            5         0       3   \n",
       "\n",
       "                                                Name     Sex   Age  SibSp  \\\n",
       "0                            Braund, Mr. Owen Harris    male  22.0      1   \n",
       "1  Cumings, Mrs. John Bradley (Florence Briggs Th...  female  38.0      1   \n",
       "2                             Heikkinen, Miss. Laina  female  26.0      0   \n",
       "3       Futrelle, Mrs. Jacques Heath (Lily May Peel)  female  35.0      1   \n",
       "4                           Allen, Mr. William Henry    male  35.0      0   \n",
       "\n",
       "   Parch            Ticket     Fare Cabin Embarked  male  \n",
       "0      0         A/5 21171   7.2500   NaN        S     1  \n",
       "1      0          PC 17599  71.2833   C85        C     0  \n",
       "2      0  STON/O2. 3101282   7.9250   NaN        S     0  \n",
       "3      0            113803  53.1000  C123        S     0  \n",
       "4      0            373450   8.0500   NaN        S     1  "
      ]
     },
     "execution_count": 15,
     "metadata": {},
     "output_type": "execute_result"
    }
   ],
   "source": [
    "sex = pd.get_dummies(data_train_copy['Sex'], drop_first=True)\n",
    "data_train_copy = pd.concat([data_train_copy, sex], axis=1)\n",
    "data_train_copy.head()"
   ]
  },
  {
   "cell_type": "code",
   "execution_count": 16,
   "id": "ff38d1fc",
   "metadata": {
    "execution": {
     "iopub.execute_input": "2023-08-30T02:25:09.105915Z",
     "iopub.status.busy": "2023-08-30T02:25:09.104936Z",
     "iopub.status.idle": "2023-08-30T02:25:09.112398Z",
     "shell.execute_reply": "2023-08-30T02:25:09.111348Z"
    },
    "papermill": {
     "duration": 0.028262,
     "end_time": "2023-08-30T02:25:09.114456",
     "exception": false,
     "start_time": "2023-08-30T02:25:09.086194",
     "status": "completed"
    },
    "tags": []
   },
   "outputs": [
    {
     "name": "stdout",
     "output_type": "stream",
     "text": [
      "Survived       1.000000\n",
      "Fare           0.257307\n",
      "Parch          0.081629\n",
      "PassengerId   -0.005007\n",
      "SibSp         -0.035322\n",
      "Age           -0.077221\n",
      "Pclass        -0.338481\n",
      "male          -0.543351\n",
      "Name: Survived, dtype: float64\n"
     ]
    }
   ],
   "source": [
    "corr_matrix = data_train_copy.corr(numeric_only=True)\n",
    "print(corr_matrix[\"Survived\"].sort_values(ascending=False))"
   ]
  },
  {
   "cell_type": "markdown",
   "id": "b5d81c0f",
   "metadata": {
    "papermill": {
     "duration": 0.017349,
     "end_time": "2023-08-30T02:25:09.149555",
     "exception": false,
     "start_time": "2023-08-30T02:25:09.132206",
     "status": "completed"
    },
    "tags": []
   },
   "source": [
    "### `SibSp`"
   ]
  },
  {
   "cell_type": "code",
   "execution_count": 17,
   "id": "b7aa1621",
   "metadata": {
    "execution": {
     "iopub.execute_input": "2023-08-30T02:25:09.187290Z",
     "iopub.status.busy": "2023-08-30T02:25:09.186268Z",
     "iopub.status.idle": "2023-08-30T02:25:09.495416Z",
     "shell.execute_reply": "2023-08-30T02:25:09.494548Z"
    },
    "papermill": {
     "duration": 0.330249,
     "end_time": "2023-08-30T02:25:09.497483",
     "exception": false,
     "start_time": "2023-08-30T02:25:09.167234",
     "status": "completed"
    },
    "tags": []
   },
   "outputs": [
    {
     "data": {
      "text/plain": [
       "<Axes: xlabel='SibSp', ylabel='count'>"
      ]
     },
     "execution_count": 17,
     "metadata": {},
     "output_type": "execute_result"
    },
    {
     "data": {
      "image/png": "[encoded data removed]",
      "text/plain": [
       "<Figure size 640x480 with 1 Axes>"
      ]
     },
     "metadata": {},
     "output_type": "display_data"
    }
   ],
   "source": [
    "sns.countplot(x=\"SibSp\", data=data_train_copy)"
   ]
  },
  {
   "cell_type": "markdown",
   "id": "c26beddf",
   "metadata": {
    "papermill": {
     "duration": 0.017499,
     "end_time": "2023-08-30T02:25:09.533291",
     "exception": false,
     "start_time": "2023-08-30T02:25:09.515792",
     "status": "completed"
    },
    "tags": []
   },
   "source": [
    "### `Fare`"
   ]
  },
  {
   "cell_type": "code",
   "execution_count": 18,
   "id": "c62f85cb",
   "metadata": {
    "execution": {
     "iopub.execute_input": "2023-08-30T02:25:09.571538Z",
     "iopub.status.busy": "2023-08-30T02:25:09.570483Z",
     "iopub.status.idle": "2023-08-30T02:25:09.945588Z",
     "shell.execute_reply": "2023-08-30T02:25:09.944389Z"
    },
    "papermill": {
     "duration": 0.396992,
     "end_time": "2023-08-30T02:25:09.948041",
     "exception": false,
     "start_time": "2023-08-30T02:25:09.551049",
     "status": "completed"
    },
    "tags": []
   },
   "outputs": [
    {
     "data": {
      "text/plain": [
       "<Axes: >"
      ]
     },
     "execution_count": 18,
     "metadata": {},
     "output_type": "execute_result"
    },
    {
     "data": {
      "image/png": "[encoded data removed]",
      "text/plain": [
       "<Figure size 1000x400 with 1 Axes>"
      ]
     },
     "metadata": {},
     "output_type": "display_data"
    }
   ],
   "source": [
    "data_train_copy['Fare'].hist(bins=20, figsize=(10,4))"
   ]
  },
  {
   "cell_type": "code",
   "execution_count": 19,
   "id": "2f732728",
   "metadata": {
    "execution": {
     "iopub.execute_input": "2023-08-30T02:25:09.987765Z",
     "iopub.status.busy": "2023-08-30T02:25:09.987321Z",
     "iopub.status.idle": "2023-08-30T02:25:09.997054Z",
     "shell.execute_reply": "2023-08-30T02:25:09.995992Z"
    },
    "papermill": {
     "duration": 0.032101,
     "end_time": "2023-08-30T02:25:09.999222",
     "exception": false,
     "start_time": "2023-08-30T02:25:09.967121",
     "status": "completed"
    },
    "tags": []
   },
   "outputs": [
    {
     "data": {
      "text/plain": [
       "count    891.000000\n",
       "mean      32.204208\n",
       "std       49.693429\n",
       "min        0.000000\n",
       "25%        7.910400\n",
       "50%       14.454200\n",
       "75%       31.000000\n",
       "max      512.329200\n",
       "Name: Fare, dtype: float64"
      ]
     },
     "execution_count": 19,
     "metadata": {},
     "output_type": "execute_result"
    }
   ],
   "source": [
    "data_train_copy['Fare'].describe()"
   ]
  },
  {
   "cell_type": "markdown",
   "id": "e28432ce",
   "metadata": {
    "papermill": {
     "duration": 0.018936,
     "end_time": "2023-08-30T02:25:10.037146",
     "exception": false,
     "start_time": "2023-08-30T02:25:10.018210",
     "status": "completed"
    },
    "tags": []
   },
   "source": [
    "### `Embarked`"
   ]
  },
  {
   "cell_type": "code",
   "execution_count": 20,
   "id": "396e025e",
   "metadata": {
    "execution": {
     "iopub.execute_input": "2023-08-30T02:25:10.076808Z",
     "iopub.status.busy": "2023-08-30T02:25:10.076037Z",
     "iopub.status.idle": "2023-08-30T02:25:10.323846Z",
     "shell.execute_reply": "2023-08-30T02:25:10.322710Z"
    },
    "papermill": {
     "duration": 0.270135,
     "end_time": "2023-08-30T02:25:10.326127",
     "exception": false,
     "start_time": "2023-08-30T02:25:10.055992",
     "status": "completed"
    },
    "tags": []
   },
   "outputs": [
    {
     "data": {
      "text/plain": [
       "<Axes: xlabel='Embarked', ylabel='count'>"
      ]
     },
     "execution_count": 20,
     "metadata": {},
     "output_type": "execute_result"
    },
    {
     "data": {
      "image/png": "[encoded data removed]",
      "text/plain": [
       "<Figure size 640x480 with 1 Axes>"
      ]
     },
     "metadata": {},
     "output_type": "display_data"
    }
   ],
   "source": [
    "sns.countplot(x=\"Embarked\", data=data_train_copy)"
   ]
  },
  {
   "cell_type": "code",
   "execution_count": 21,
   "id": "8242b6e2",
   "metadata": {
    "execution": {
     "iopub.execute_input": "2023-08-30T02:25:10.366417Z",
     "iopub.status.busy": "2023-08-30T02:25:10.366007Z",
     "iopub.status.idle": "2023-08-30T02:25:10.679061Z",
     "shell.execute_reply": "2023-08-30T02:25:10.678099Z"
    },
    "papermill": {
     "duration": 0.336081,
     "end_time": "2023-08-30T02:25:10.681476",
     "exception": false,
     "start_time": "2023-08-30T02:25:10.345395",
     "status": "completed"
    },
    "tags": []
   },
   "outputs": [
    {
     "data": {
      "text/plain": [
       "<Axes: xlabel='Embarked', ylabel='count'>"
      ]
     },
     "execution_count": 21,
     "metadata": {},
     "output_type": "execute_result"
    },
    {
     "data": {
      "image/png": "[encoded data removed]",
      "text/plain": [
       "<Figure size 640x480 with 1 Axes>"
      ]
     },
     "metadata": {},
     "output_type": "display_data"
    }
   ],
   "source": [
    "sns.countplot(x='Embarked', hue=\"Survived\", data=data_train_copy)"
   ]
  },
  {
   "cell_type": "code",
   "execution_count": 22,
   "id": "c7b8df4f",
   "metadata": {
    "execution": {
     "iopub.execute_input": "2023-08-30T02:25:10.722739Z",
     "iopub.status.busy": "2023-08-30T02:25:10.722333Z",
     "iopub.status.idle": "2023-08-30T02:25:10.742040Z",
     "shell.execute_reply": "2023-08-30T02:25:10.740882Z"
    },
    "papermill": {
     "duration": 0.043026,
     "end_time": "2023-08-30T02:25:10.744360",
     "exception": false,
     "start_time": "2023-08-30T02:25:10.701334",
     "status": "completed"
    },
    "tags": []
   },
   "outputs": [
    {
     "data": {
      "text/html": [
       "<div>\n",
       "<style scoped>\n",
       "    .dataframe tbody tr th:only-of-type {\n",
       "        vertical-align: middle;\n",
       "    }\n",
       "\n",
       "    .dataframe tbody tr th {\n",
       "        vertical-align: top;\n",
       "    }\n",
       "\n",
       "    .dataframe thead th {\n",
       "        text-align: right;\n",
       "    }\n",
       "</style>\n",
       "<table border=\"1\" class=\"dataframe\">\n",
       "  <thead>\n",
       "    <tr style=\"text-align: right;\">\n",
       "      <th></th>\n",
       "      <th>PassengerId</th>\n",
       "      <th>Survived</th>\n",
       "      <th>Pclass</th>\n",
       "      <th>Name</th>\n",
       "      <th>Sex</th>\n",
       "      <th>Age</th>\n",
       "      <th>SibSp</th>\n",
       "      <th>Parch</th>\n",
       "      <th>Ticket</th>\n",
       "      <th>Fare</th>\n",
       "      <th>Cabin</th>\n",
       "      <th>Embarked</th>\n",
       "      <th>male</th>\n",
       "      <th>Q</th>\n",
       "      <th>S</th>\n",
       "    </tr>\n",
       "  </thead>\n",
       "  <tbody>\n",
       "    <tr>\n",
       "      <th>0</th>\n",
       "      <td>1</td>\n",
       "      <td>0</td>\n",
       "      <td>3</td>\n",
       "      <td>Braund, Mr. Owen Harris</td>\n",
       "      <td>male</td>\n",
       "      <td>22.0</td>\n",
       "      <td>1</td>\n",
       "      <td>0</td>\n",
       "      <td>A/5 21171</td>\n",
       "      <td>7.2500</td>\n",
       "      <td>NaN</td>\n",
       "      <td>S</td>\n",
       "      <td>1</td>\n",
       "      <td>0</td>\n",
       "      <td>1</td>\n",
       "    </tr>\n",
       "    <tr>\n",
       "      <th>1</th>\n",
       "      <td>2</td>\n",
       "      <td>1</td>\n",
       "      <td>1</td>\n",
       "      <td>Cumings, Mrs. John Bradley (Florence Briggs Th...</td>\n",
       "      <td>female</td>\n",
       "      <td>38.0</td>\n",
       "      <td>1</td>\n",
       "      <td>0</td>\n",
       "      <td>PC 17599</td>\n",
       "      <td>71.2833</td>\n",
       "      <td>C85</td>\n",
       "      <td>C</td>\n",
       "      <td>0</td>\n",
       "      <td>0</td>\n",
       "      <td>0</td>\n",
       "    </tr>\n",
       "    <tr>\n",
       "      <th>2</th>\n",
       "      <td>3</td>\n",
       "      <td>1</td>\n",
       "      <td>3</td>\n",
       "      <td>Heikkinen, Miss. Laina</td>\n",
       "      <td>female</td>\n",
       "      <td>26.0</td>\n",
       "      <td>0</td>\n",
       "      <td>0</td>\n",
       "      <td>STON/O2. 3101282</td>\n",
       "      <td>7.9250</td>\n",
       "      <td>NaN</td>\n",
       "      <td>S</td>\n",
       "      <td>0</td>\n",
       "      <td>0</td>\n",
       "      <td>1</td>\n",
       "    </tr>\n",
       "    <tr>\n",
       "      <th>3</th>\n",
       "      <td>4</td>\n",
       "      <td>1</td>\n",
       "      <td>1</td>\n",
       "      <td>Futrelle, Mrs. Jacques Heath (Lily May Peel)</td>\n",
       "      <td>female</td>\n",
       "      <td>35.0</td>\n",
       "      <td>1</td>\n",
       "      <td>0</td>\n",
       "      <td>113803</td>\n",
       "      <td>53.1000</td>\n",
       "      <td>C123</td>\n",
       "      <td>S</td>\n",
       "      <td>0</td>\n",
       "      <td>0</td>\n",
       "      <td>1</td>\n",
       "    </tr>\n",
       "    <tr>\n",
       "      <th>4</th>\n",
       "      <td>5</td>\n",
       "      <td>0</td>\n",
       "      <td>3</td>\n",
       "      <td>Allen, Mr. William Henry</td>\n",
       "      <td>male</td>\n",
       "      <td>35.0</td>\n",
       "      <td>0</td>\n",
       "      <td>0</td>\n",
       "      <td>373450</td>\n",
       "      <td>8.0500</td>\n",
       "      <td>NaN</td>\n",
       "      <td>S</td>\n",
       "      <td>1</td>\n",
       "      <td>0</td>\n",
       "      <td>1</td>\n",
       "    </tr>\n",
       "  </tbody>\n",
       "</table>\n",
       "</div>"
      ],
      "text/plain": [
       "   PassengerId  Survived  Pclass  \\\n",
       "0            1         0       3   \n",
       "1            2         1       1   \n",
       "2            3         1       3   \n",
       "3            4         1       1   \n",
       "4            5         0       3   \n",
       "\n",
       "                                                Name     Sex   Age  SibSp  \\\n",
       "0                            Braund, Mr. Owen Harris    male  22.0      1   \n",
       "1  Cumings, Mrs. John Bradley (Florence Briggs Th...  female  38.0      1   \n",
       "2                             Heikkinen, Miss. Laina  female  26.0      0   \n",
       "3       Futrelle, Mrs. Jacques Heath (Lily May Peel)  female  35.0      1   \n",
       "4                           Allen, Mr. William Henry    male  35.0      0   \n",
       "\n",
       "   Parch            Ticket     Fare Cabin Embarked  male  Q  S  \n",
       "0      0         A/5 21171   7.2500   NaN        S     1  0  1  \n",
       "1      0          PC 17599  71.2833   C85        C     0  0  0  \n",
       "2      0  STON/O2. 3101282   7.9250   NaN        S     0  0  1  \n",
       "3      0            113803  53.1000  C123        S     0  0  1  \n",
       "4      0            373450   8.0500   NaN        S     1  0  1  "
      ]
     },
     "execution_count": 22,
     "metadata": {},
     "output_type": "execute_result"
    }
   ],
   "source": [
    "embark = pd.get_dummies(data_train_copy['Embarked'], drop_first=True)\n",
    "data_train_copy = pd.concat([data_train_copy, embark], axis=1)\n",
    "data_train_copy.head()"
   ]
  },
  {
   "cell_type": "code",
   "execution_count": 23,
   "id": "04803d10",
   "metadata": {
    "execution": {
     "iopub.execute_input": "2023-08-30T02:25:10.786827Z",
     "iopub.status.busy": "2023-08-30T02:25:10.785598Z",
     "iopub.status.idle": "2023-08-30T02:25:10.794283Z",
     "shell.execute_reply": "2023-08-30T02:25:10.793077Z"
    },
    "papermill": {
     "duration": 0.031995,
     "end_time": "2023-08-30T02:25:10.796364",
     "exception": false,
     "start_time": "2023-08-30T02:25:10.764369",
     "status": "completed"
    },
    "tags": []
   },
   "outputs": [
    {
     "name": "stdout",
     "output_type": "stream",
     "text": [
      "Survived       1.000000\n",
      "Fare           0.257307\n",
      "Parch          0.081629\n",
      "Q              0.003650\n",
      "PassengerId   -0.005007\n",
      "SibSp         -0.035322\n",
      "Age           -0.077221\n",
      "S             -0.155660\n",
      "Pclass        -0.338481\n",
      "male          -0.543351\n",
      "Name: Survived, dtype: float64\n"
     ]
    }
   ],
   "source": [
    "corr_matrix = data_train_copy.corr(numeric_only=True)\n",
    "print(corr_matrix[\"Survived\"].sort_values(ascending=False))"
   ]
  },
  {
   "cell_type": "markdown",
   "id": "82507fc9",
   "metadata": {
    "papermill": {
     "duration": 0.0196,
     "end_time": "2023-08-30T02:25:10.837146",
     "exception": false,
     "start_time": "2023-08-30T02:25:10.817546",
     "status": "completed"
    },
    "tags": []
   },
   "source": [
    "### `Age`\n",
    "\n",
    "Can we use Pclass as a predicator for filling missing age values?"
   ]
  },
  {
   "cell_type": "code",
   "execution_count": 24,
   "id": "09336382",
   "metadata": {
    "execution": {
     "iopub.execute_input": "2023-08-30T02:25:10.878876Z",
     "iopub.status.busy": "2023-08-30T02:25:10.878405Z",
     "iopub.status.idle": "2023-08-30T02:25:11.274277Z",
     "shell.execute_reply": "2023-08-30T02:25:11.273176Z"
    },
    "papermill": {
     "duration": 0.419793,
     "end_time": "2023-08-30T02:25:11.276736",
     "exception": false,
     "start_time": "2023-08-30T02:25:10.856943",
     "status": "completed"
    },
    "tags": []
   },
   "outputs": [
    {
     "data": {
      "text/plain": [
       "<Axes: >"
      ]
     },
     "execution_count": 24,
     "metadata": {},
     "output_type": "execute_result"
    },
    {
     "data": {
      "image/png": "[encoded data removed]",
      "text/plain": [
       "<Figure size 1000x400 with 1 Axes>"
      ]
     },
     "metadata": {},
     "output_type": "display_data"
    }
   ],
   "source": [
    "data_train_copy['Age'].hist(bins=10, figsize=(10,4))"
   ]
  },
  {
   "cell_type": "code",
   "execution_count": 25,
   "id": "7e57fdac",
   "metadata": {
    "execution": {
     "iopub.execute_input": "2023-08-30T02:25:11.321768Z",
     "iopub.status.busy": "2023-08-30T02:25:11.321342Z",
     "iopub.status.idle": "2023-08-30T02:25:11.620833Z",
     "shell.execute_reply": "2023-08-30T02:25:11.619709Z"
    },
    "papermill": {
     "duration": 0.324717,
     "end_time": "2023-08-30T02:25:11.623505",
     "exception": false,
     "start_time": "2023-08-30T02:25:11.298788",
     "status": "completed"
    },
    "tags": []
   },
   "outputs": [
    {
     "data": {
      "text/plain": [
       "<Axes: xlabel='Pclass', ylabel='Age'>"
      ]
     },
     "execution_count": 25,
     "metadata": {},
     "output_type": "execute_result"
    },
    {
     "data": {
      "image/png": "[encoded data removed]",
      "text/plain": [
       "<Figure size 640x480 with 1 Axes>"
      ]
     },
     "metadata": {},
     "output_type": "display_data"
    }
   ],
   "source": [
    "sns.boxplot(x='Pclass', y=\"Age\", data=data_train_copy)"
   ]
  },
  {
   "cell_type": "code",
   "execution_count": 26,
   "id": "6df8ead9",
   "metadata": {
    "execution": {
     "iopub.execute_input": "2023-08-30T02:25:11.668937Z",
     "iopub.status.busy": "2023-08-30T02:25:11.668275Z",
     "iopub.status.idle": "2023-08-30T02:25:11.679172Z",
     "shell.execute_reply": "2023-08-30T02:25:11.678370Z"
    },
    "papermill": {
     "duration": 0.036261,
     "end_time": "2023-08-30T02:25:11.681325",
     "exception": false,
     "start_time": "2023-08-30T02:25:11.645064",
     "status": "completed"
    },
    "tags": []
   },
   "outputs": [],
   "source": [
    "pClass_1_median = data_train_copy[data_train_copy['Pclass'] == 1]['Age'].median()\n",
    "pClass_2_median = data_train_copy[data_train_copy['Pclass'] == 2]['Age'].median()\n",
    "pClass_3_median = data_train_copy[data_train_copy['Pclass'] == 3]['Age'].median()\n",
    "\n",
    "def impute_age(cols):\n",
    "    age = cols[0]\n",
    "    pClass = cols[1]\n",
    "\n",
    "    if pd.isnull(age):\n",
    "        if pClass == 1:\n",
    "            return pClass_1_median\n",
    "        elif pClass == 2:\n",
    "            return pClass_2_median\n",
    "        else:\n",
    "            return pClass_3_median\n",
    "    else:\n",
    "        return age"
   ]
  },
  {
   "cell_type": "code",
   "execution_count": 27,
   "id": "dce8bec8",
   "metadata": {
    "execution": {
     "iopub.execute_input": "2023-08-30T02:25:11.726591Z",
     "iopub.status.busy": "2023-08-30T02:25:11.725564Z",
     "iopub.status.idle": "2023-08-30T02:25:11.751076Z",
     "shell.execute_reply": "2023-08-30T02:25:11.749986Z"
    },
    "papermill": {
     "duration": 0.050717,
     "end_time": "2023-08-30T02:25:11.753308",
     "exception": false,
     "start_time": "2023-08-30T02:25:11.702591",
     "status": "completed"
    },
    "tags": []
   },
   "outputs": [
    {
     "data": {
      "text/plain": [
       "PassengerId      0\n",
       "Survived         0\n",
       "Pclass           0\n",
       "Name             0\n",
       "Sex              0\n",
       "Age              0\n",
       "SibSp            0\n",
       "Parch            0\n",
       "Ticket           0\n",
       "Fare             0\n",
       "Cabin          687\n",
       "Embarked         2\n",
       "male             0\n",
       "Q                0\n",
       "S                0\n",
       "dtype: int64"
      ]
     },
     "execution_count": 27,
     "metadata": {},
     "output_type": "execute_result"
    }
   ],
   "source": [
    "data_train_copy['Age'] = data_train_copy[['Age', 'Pclass']].apply(impute_age, axis=1)\n",
    "data_train_copy.isnull().sum()"
   ]
  },
  {
   "cell_type": "markdown",
   "id": "8e9a34cb",
   "metadata": {
    "papermill": {
     "duration": 0.022712,
     "end_time": "2023-08-30T02:25:11.803265",
     "exception": false,
     "start_time": "2023-08-30T02:25:11.780553",
     "status": "completed"
    },
    "tags": []
   },
   "source": [
    "### `Parch`"
   ]
  },
  {
   "cell_type": "code",
   "execution_count": 28,
   "id": "b7546185",
   "metadata": {
    "execution": {
     "iopub.execute_input": "2023-08-30T02:25:11.853846Z",
     "iopub.status.busy": "2023-08-30T02:25:11.853414Z",
     "iopub.status.idle": "2023-08-30T02:25:12.179313Z",
     "shell.execute_reply": "2023-08-30T02:25:12.178220Z"
    },
    "papermill": {
     "duration": 0.351538,
     "end_time": "2023-08-30T02:25:12.181937",
     "exception": false,
     "start_time": "2023-08-30T02:25:11.830399",
     "status": "completed"
    },
    "tags": []
   },
   "outputs": [
    {
     "data": {
      "text/plain": [
       "<Axes: xlabel='Parch', ylabel='count'>"
      ]
     },
     "execution_count": 28,
     "metadata": {},
     "output_type": "execute_result"
    },
    {
     "data": {
      "image/png": "[encoded data removed]",
      "text/plain": [
       "<Figure size 640x480 with 1 Axes>"
      ]
     },
     "metadata": {},
     "output_type": "display_data"
    }
   ],
   "source": [
    "sns.countplot(x=\"Parch\", data=data_train_copy)"
   ]
  },
  {
   "cell_type": "code",
   "execution_count": 29,
   "id": "a576102b",
   "metadata": {
    "execution": {
     "iopub.execute_input": "2023-08-30T02:25:12.227274Z",
     "iopub.status.busy": "2023-08-30T02:25:12.226472Z",
     "iopub.status.idle": "2023-08-30T02:25:12.591508Z",
     "shell.execute_reply": "2023-08-30T02:25:12.590419Z"
    },
    "papermill": {
     "duration": 0.390276,
     "end_time": "2023-08-30T02:25:12.593893",
     "exception": false,
     "start_time": "2023-08-30T02:25:12.203617",
     "status": "completed"
    },
    "tags": []
   },
   "outputs": [
    {
     "data": {
      "text/plain": [
       "<Axes: xlabel='Parch', ylabel='count'>"
      ]
     },
     "execution_count": 29,
     "metadata": {},
     "output_type": "execute_result"
    },
    {
     "data": {
      "image/png": "[encoded data removed]",
      "text/plain": [
       "<Figure size 640x480 with 1 Axes>"
      ]
     },
     "metadata": {},
     "output_type": "display_data"
    }
   ],
   "source": [
    "sns.countplot(x=\"Parch\", hue=\"Survived\", data=data_train_copy)"
   ]
  },
  {
   "cell_type": "markdown",
   "id": "9eaca274",
   "metadata": {
    "papermill": {
     "duration": 0.021976,
     "end_time": "2023-08-30T02:25:12.638093",
     "exception": false,
     "start_time": "2023-08-30T02:25:12.616117",
     "status": "completed"
    },
    "tags": []
   },
   "source": [
    "## 🧑🏻‍💻 Prepare Data"
   ]
  },
  {
   "cell_type": "code",
   "execution_count": 30,
   "id": "fc89d55a",
   "metadata": {
    "execution": {
     "iopub.execute_input": "2023-08-30T02:25:12.684363Z",
     "iopub.status.busy": "2023-08-30T02:25:12.683616Z",
     "iopub.status.idle": "2023-08-30T02:25:12.688153Z",
     "shell.execute_reply": "2023-08-30T02:25:12.687341Z"
    },
    "papermill": {
     "duration": 0.030101,
     "end_time": "2023-08-30T02:25:12.690605",
     "exception": false,
     "start_time": "2023-08-30T02:25:12.660504",
     "status": "completed"
    },
    "tags": []
   },
   "outputs": [],
   "source": [
    "def create_dummies_and_delete_col(df, columns):\n",
    "    return pd.get_dummies(df, columns=columns, drop_first=True)"
   ]
  },
  {
   "cell_type": "code",
   "execution_count": 31,
   "id": "eb78e008",
   "metadata": {
    "execution": {
     "iopub.execute_input": "2023-08-30T02:25:12.738140Z",
     "iopub.status.busy": "2023-08-30T02:25:12.737021Z",
     "iopub.status.idle": "2023-08-30T02:25:12.758263Z",
     "shell.execute_reply": "2023-08-30T02:25:12.757107Z"
    },
    "papermill": {
     "duration": 0.046666,
     "end_time": "2023-08-30T02:25:12.760387",
     "exception": false,
     "start_time": "2023-08-30T02:25:12.713721",
     "status": "completed"
    },
    "tags": []
   },
   "outputs": [
    {
     "data": {
      "text/html": [
       "<div>\n",
       "<style scoped>\n",
       "    .dataframe tbody tr th:only-of-type {\n",
       "        vertical-align: middle;\n",
       "    }\n",
       "\n",
       "    .dataframe tbody tr th {\n",
       "        vertical-align: top;\n",
       "    }\n",
       "\n",
       "    .dataframe thead th {\n",
       "        text-align: right;\n",
       "    }\n",
       "</style>\n",
       "<table border=\"1\" class=\"dataframe\">\n",
       "  <thead>\n",
       "    <tr style=\"text-align: right;\">\n",
       "      <th></th>\n",
       "      <th>PassengerId</th>\n",
       "      <th>Survived</th>\n",
       "      <th>Pclass</th>\n",
       "      <th>Name</th>\n",
       "      <th>Age</th>\n",
       "      <th>SibSp</th>\n",
       "      <th>Parch</th>\n",
       "      <th>Ticket</th>\n",
       "      <th>Fare</th>\n",
       "      <th>Cabin</th>\n",
       "      <th>Sex_male</th>\n",
       "      <th>Embarked_Q</th>\n",
       "      <th>Embarked_S</th>\n",
       "    </tr>\n",
       "  </thead>\n",
       "  <tbody>\n",
       "    <tr>\n",
       "      <th>0</th>\n",
       "      <td>1</td>\n",
       "      <td>0</td>\n",
       "      <td>3</td>\n",
       "      <td>Braund, Mr. Owen Harris</td>\n",
       "      <td>22.0</td>\n",
       "      <td>1</td>\n",
       "      <td>0</td>\n",
       "      <td>A/5 21171</td>\n",
       "      <td>7.2500</td>\n",
       "      <td>NaN</td>\n",
       "      <td>1</td>\n",
       "      <td>0</td>\n",
       "      <td>1</td>\n",
       "    </tr>\n",
       "    <tr>\n",
       "      <th>1</th>\n",
       "      <td>2</td>\n",
       "      <td>1</td>\n",
       "      <td>1</td>\n",
       "      <td>Cumings, Mrs. John Bradley (Florence Briggs Th...</td>\n",
       "      <td>38.0</td>\n",
       "      <td>1</td>\n",
       "      <td>0</td>\n",
       "      <td>PC 17599</td>\n",
       "      <td>71.2833</td>\n",
       "      <td>C85</td>\n",
       "      <td>0</td>\n",
       "      <td>0</td>\n",
       "      <td>0</td>\n",
       "    </tr>\n",
       "    <tr>\n",
       "      <th>2</th>\n",
       "      <td>3</td>\n",
       "      <td>1</td>\n",
       "      <td>3</td>\n",
       "      <td>Heikkinen, Miss. Laina</td>\n",
       "      <td>26.0</td>\n",
       "      <td>0</td>\n",
       "      <td>0</td>\n",
       "      <td>STON/O2. 3101282</td>\n",
       "      <td>7.9250</td>\n",
       "      <td>NaN</td>\n",
       "      <td>0</td>\n",
       "      <td>0</td>\n",
       "      <td>1</td>\n",
       "    </tr>\n",
       "    <tr>\n",
       "      <th>3</th>\n",
       "      <td>4</td>\n",
       "      <td>1</td>\n",
       "      <td>1</td>\n",
       "      <td>Futrelle, Mrs. Jacques Heath (Lily May Peel)</td>\n",
       "      <td>35.0</td>\n",
       "      <td>1</td>\n",
       "      <td>0</td>\n",
       "      <td>113803</td>\n",
       "      <td>53.1000</td>\n",
       "      <td>C123</td>\n",
       "      <td>0</td>\n",
       "      <td>0</td>\n",
       "      <td>1</td>\n",
       "    </tr>\n",
       "    <tr>\n",
       "      <th>4</th>\n",
       "      <td>5</td>\n",
       "      <td>0</td>\n",
       "      <td>3</td>\n",
       "      <td>Allen, Mr. William Henry</td>\n",
       "      <td>35.0</td>\n",
       "      <td>0</td>\n",
       "      <td>0</td>\n",
       "      <td>373450</td>\n",
       "      <td>8.0500</td>\n",
       "      <td>NaN</td>\n",
       "      <td>1</td>\n",
       "      <td>0</td>\n",
       "      <td>1</td>\n",
       "    </tr>\n",
       "  </tbody>\n",
       "</table>\n",
       "</div>"
      ],
      "text/plain": [
       "   PassengerId  Survived  Pclass  \\\n",
       "0            1         0       3   \n",
       "1            2         1       1   \n",
       "2            3         1       3   \n",
       "3            4         1       1   \n",
       "4            5         0       3   \n",
       "\n",
       "                                                Name   Age  SibSp  Parch  \\\n",
       "0                            Braund, Mr. Owen Harris  22.0      1      0   \n",
       "1  Cumings, Mrs. John Bradley (Florence Briggs Th...  38.0      1      0   \n",
       "2                             Heikkinen, Miss. Laina  26.0      0      0   \n",
       "3       Futrelle, Mrs. Jacques Heath (Lily May Peel)  35.0      1      0   \n",
       "4                           Allen, Mr. William Henry  35.0      0      0   \n",
       "\n",
       "             Ticket     Fare Cabin  Sex_male  Embarked_Q  Embarked_S  \n",
       "0         A/5 21171   7.2500   NaN         1           0           1  \n",
       "1          PC 17599  71.2833   C85         0           0           0  \n",
       "2  STON/O2. 3101282   7.9250   NaN         0           0           1  \n",
       "3            113803  53.1000  C123         0           0           1  \n",
       "4            373450   8.0500   NaN         1           0           1  "
      ]
     },
     "execution_count": 31,
     "metadata": {},
     "output_type": "execute_result"
    }
   ],
   "source": [
    "training = data_train.copy(deep=True)\n",
    "\n",
    "training = create_dummies_and_delete_col(training, ['Sex', 'Embarked'])\n",
    "\n",
    "training.head()"
   ]
  },
  {
   "cell_type": "code",
   "execution_count": 32,
   "id": "8d7cdaee",
   "metadata": {
    "execution": {
     "iopub.execute_input": "2023-08-30T02:25:12.807033Z",
     "iopub.status.busy": "2023-08-30T02:25:12.805901Z",
     "iopub.status.idle": "2023-08-30T02:25:12.821238Z",
     "shell.execute_reply": "2023-08-30T02:25:12.820018Z"
    },
    "papermill": {
     "duration": 0.040641,
     "end_time": "2023-08-30T02:25:12.823312",
     "exception": false,
     "start_time": "2023-08-30T02:25:12.782671",
     "status": "completed"
    },
    "tags": []
   },
   "outputs": [
    {
     "data": {
      "text/html": [
       "<div>\n",
       "<style scoped>\n",
       "    .dataframe tbody tr th:only-of-type {\n",
       "        vertical-align: middle;\n",
       "    }\n",
       "\n",
       "    .dataframe tbody tr th {\n",
       "        vertical-align: top;\n",
       "    }\n",
       "\n",
       "    .dataframe thead th {\n",
       "        text-align: right;\n",
       "    }\n",
       "</style>\n",
       "<table border=\"1\" class=\"dataframe\">\n",
       "  <thead>\n",
       "    <tr style=\"text-align: right;\">\n",
       "      <th></th>\n",
       "      <th>Survived</th>\n",
       "      <th>Pclass</th>\n",
       "      <th>Age</th>\n",
       "      <th>SibSp</th>\n",
       "      <th>Parch</th>\n",
       "      <th>Fare</th>\n",
       "      <th>Sex_male</th>\n",
       "      <th>Embarked_Q</th>\n",
       "      <th>Embarked_S</th>\n",
       "    </tr>\n",
       "  </thead>\n",
       "  <tbody>\n",
       "    <tr>\n",
       "      <th>0</th>\n",
       "      <td>0</td>\n",
       "      <td>3</td>\n",
       "      <td>22.0</td>\n",
       "      <td>1</td>\n",
       "      <td>0</td>\n",
       "      <td>7.2500</td>\n",
       "      <td>1</td>\n",
       "      <td>0</td>\n",
       "      <td>1</td>\n",
       "    </tr>\n",
       "    <tr>\n",
       "      <th>1</th>\n",
       "      <td>1</td>\n",
       "      <td>1</td>\n",
       "      <td>38.0</td>\n",
       "      <td>1</td>\n",
       "      <td>0</td>\n",
       "      <td>71.2833</td>\n",
       "      <td>0</td>\n",
       "      <td>0</td>\n",
       "      <td>0</td>\n",
       "    </tr>\n",
       "    <tr>\n",
       "      <th>2</th>\n",
       "      <td>1</td>\n",
       "      <td>3</td>\n",
       "      <td>26.0</td>\n",
       "      <td>0</td>\n",
       "      <td>0</td>\n",
       "      <td>7.9250</td>\n",
       "      <td>0</td>\n",
       "      <td>0</td>\n",
       "      <td>1</td>\n",
       "    </tr>\n",
       "    <tr>\n",
       "      <th>3</th>\n",
       "      <td>1</td>\n",
       "      <td>1</td>\n",
       "      <td>35.0</td>\n",
       "      <td>1</td>\n",
       "      <td>0</td>\n",
       "      <td>53.1000</td>\n",
       "      <td>0</td>\n",
       "      <td>0</td>\n",
       "      <td>1</td>\n",
       "    </tr>\n",
       "    <tr>\n",
       "      <th>4</th>\n",
       "      <td>0</td>\n",
       "      <td>3</td>\n",
       "      <td>35.0</td>\n",
       "      <td>0</td>\n",
       "      <td>0</td>\n",
       "      <td>8.0500</td>\n",
       "      <td>1</td>\n",
       "      <td>0</td>\n",
       "      <td>1</td>\n",
       "    </tr>\n",
       "  </tbody>\n",
       "</table>\n",
       "</div>"
      ],
      "text/plain": [
       "   Survived  Pclass   Age  SibSp  Parch     Fare  Sex_male  Embarked_Q  \\\n",
       "0         0       3  22.0      1      0   7.2500         1           0   \n",
       "1         1       1  38.0      1      0  71.2833         0           0   \n",
       "2         1       3  26.0      0      0   7.9250         0           0   \n",
       "3         1       1  35.0      1      0  53.1000         0           0   \n",
       "4         0       3  35.0      0      0   8.0500         1           0   \n",
       "\n",
       "   Embarked_S  \n",
       "0           1  \n",
       "1           0  \n",
       "2           1  \n",
       "3           1  \n",
       "4           1  "
      ]
     },
     "execution_count": 32,
     "metadata": {},
     "output_type": "execute_result"
    }
   ],
   "source": [
    "training.drop(['Cabin', 'Name', 'PassengerId', 'Ticket'], axis=1, inplace=True)\n",
    "training.head()"
   ]
  },
  {
   "cell_type": "code",
   "execution_count": 33,
   "id": "8342f738",
   "metadata": {
    "execution": {
     "iopub.execute_input": "2023-08-30T02:25:12.871693Z",
     "iopub.status.busy": "2023-08-30T02:25:12.870767Z",
     "iopub.status.idle": "2023-08-30T02:25:12.887358Z",
     "shell.execute_reply": "2023-08-30T02:25:12.886151Z"
    },
    "papermill": {
     "duration": 0.042438,
     "end_time": "2023-08-30T02:25:12.889516",
     "exception": false,
     "start_time": "2023-08-30T02:25:12.847078",
     "status": "completed"
    },
    "tags": []
   },
   "outputs": [],
   "source": [
    "training['Age'] = training[['Age', 'Pclass']].apply(impute_age, axis=1)"
   ]
  },
  {
   "cell_type": "code",
   "execution_count": 34,
   "id": "3336dcc4",
   "metadata": {
    "execution": {
     "iopub.execute_input": "2023-08-30T02:25:12.936767Z",
     "iopub.status.busy": "2023-08-30T02:25:12.935873Z",
     "iopub.status.idle": "2023-08-30T02:25:12.944353Z",
     "shell.execute_reply": "2023-08-30T02:25:12.943537Z"
    },
    "papermill": {
     "duration": 0.034447,
     "end_time": "2023-08-30T02:25:12.946235",
     "exception": false,
     "start_time": "2023-08-30T02:25:12.911788",
     "status": "completed"
    },
    "tags": []
   },
   "outputs": [
    {
     "data": {
      "text/plain": [
       "Survived      0\n",
       "Pclass        0\n",
       "Age           0\n",
       "SibSp         0\n",
       "Parch         0\n",
       "Fare          0\n",
       "Sex_male      0\n",
       "Embarked_Q    0\n",
       "Embarked_S    0\n",
       "dtype: int64"
      ]
     },
     "execution_count": 34,
     "metadata": {},
     "output_type": "execute_result"
    }
   ],
   "source": [
    "training.isna().sum()"
   ]
  },
  {
   "cell_type": "code",
   "execution_count": 35,
   "id": "2ffebc99",
   "metadata": {
    "execution": {
     "iopub.execute_input": "2023-08-30T02:25:12.992684Z",
     "iopub.status.busy": "2023-08-30T02:25:12.991971Z",
     "iopub.status.idle": "2023-08-30T02:25:13.421267Z",
     "shell.execute_reply": "2023-08-30T02:25:13.420185Z"
    },
    "papermill": {
     "duration": 0.454972,
     "end_time": "2023-08-30T02:25:13.423600",
     "exception": false,
     "start_time": "2023-08-30T02:25:12.968628",
     "status": "completed"
    },
    "tags": []
   },
   "outputs": [
    {
     "data": {
      "text/html": [
       "<div>\n",
       "<style scoped>\n",
       "    .dataframe tbody tr th:only-of-type {\n",
       "        vertical-align: middle;\n",
       "    }\n",
       "\n",
       "    .dataframe tbody tr th {\n",
       "        vertical-align: top;\n",
       "    }\n",
       "\n",
       "    .dataframe thead th {\n",
       "        text-align: right;\n",
       "    }\n",
       "</style>\n",
       "<table border=\"1\" class=\"dataframe\">\n",
       "  <thead>\n",
       "    <tr style=\"text-align: right;\">\n",
       "      <th></th>\n",
       "      <th>Pclass</th>\n",
       "      <th>Age</th>\n",
       "      <th>SibSp</th>\n",
       "      <th>Parch</th>\n",
       "      <th>Fare</th>\n",
       "      <th>Sex_male</th>\n",
       "      <th>Embarked_Q</th>\n",
       "      <th>Embarked_S</th>\n",
       "    </tr>\n",
       "  </thead>\n",
       "  <tbody>\n",
       "    <tr>\n",
       "      <th>165</th>\n",
       "      <td>3</td>\n",
       "      <td>9.0</td>\n",
       "      <td>0</td>\n",
       "      <td>2</td>\n",
       "      <td>20.5250</td>\n",
       "      <td>1</td>\n",
       "      <td>0</td>\n",
       "      <td>1</td>\n",
       "    </tr>\n",
       "    <tr>\n",
       "      <th>541</th>\n",
       "      <td>3</td>\n",
       "      <td>9.0</td>\n",
       "      <td>4</td>\n",
       "      <td>2</td>\n",
       "      <td>31.2750</td>\n",
       "      <td>0</td>\n",
       "      <td>0</td>\n",
       "      <td>1</td>\n",
       "    </tr>\n",
       "    <tr>\n",
       "      <th>625</th>\n",
       "      <td>1</td>\n",
       "      <td>61.0</td>\n",
       "      <td>0</td>\n",
       "      <td>0</td>\n",
       "      <td>32.3208</td>\n",
       "      <td>1</td>\n",
       "      <td>0</td>\n",
       "      <td>1</td>\n",
       "    </tr>\n",
       "    <tr>\n",
       "      <th>388</th>\n",
       "      <td>3</td>\n",
       "      <td>24.0</td>\n",
       "      <td>0</td>\n",
       "      <td>0</td>\n",
       "      <td>7.7292</td>\n",
       "      <td>1</td>\n",
       "      <td>1</td>\n",
       "      <td>0</td>\n",
       "    </tr>\n",
       "    <tr>\n",
       "      <th>76</th>\n",
       "      <td>3</td>\n",
       "      <td>24.0</td>\n",
       "      <td>0</td>\n",
       "      <td>0</td>\n",
       "      <td>7.8958</td>\n",
       "      <td>1</td>\n",
       "      <td>0</td>\n",
       "      <td>1</td>\n",
       "    </tr>\n",
       "  </tbody>\n",
       "</table>\n",
       "</div>"
      ],
      "text/plain": [
       "     Pclass   Age  SibSp  Parch     Fare  Sex_male  Embarked_Q  Embarked_S\n",
       "165       3   9.0      0      2  20.5250         1           0           1\n",
       "541       3   9.0      4      2  31.2750         0           0           1\n",
       "625       1  61.0      0      0  32.3208         1           0           1\n",
       "388       3  24.0      0      0   7.7292         1           1           0\n",
       "76        3  24.0      0      0   7.8958         1           0           1"
      ]
     },
     "execution_count": 35,
     "metadata": {},
     "output_type": "execute_result"
    }
   ],
   "source": [
    "from sklearn.model_selection import train_test_split\n",
    "\n",
    "X = training.drop('Survived', axis=1)\n",
    "y = training['Survived']\n",
    "\n",
    "X_train, X_val, y_train, y_val = train_test_split(X, y, random_state=42, test_size=0.1)\n",
    "\n",
    "X_train.head()"
   ]
  },
  {
   "cell_type": "markdown",
   "id": "fc54e6ce",
   "metadata": {
    "papermill": {
     "duration": 0.022233,
     "end_time": "2023-08-30T02:25:13.468560",
     "exception": false,
     "start_time": "2023-08-30T02:25:13.446327",
     "status": "completed"
    },
    "tags": []
   },
   "source": [
    "## 💻 Select & Train Models"
   ]
  },
  {
   "cell_type": "code",
   "execution_count": 36,
   "id": "1b08d9b7",
   "metadata": {
    "execution": {
     "iopub.execute_input": "2023-08-30T02:25:13.516213Z",
     "iopub.status.busy": "2023-08-30T02:25:13.515446Z",
     "iopub.status.idle": "2023-08-30T02:25:13.521561Z",
     "shell.execute_reply": "2023-08-30T02:25:13.520392Z"
    },
    "papermill": {
     "duration": 0.032101,
     "end_time": "2023-08-30T02:25:13.523724",
     "exception": false,
     "start_time": "2023-08-30T02:25:13.491623",
     "status": "completed"
    },
    "tags": []
   },
   "outputs": [],
   "source": [
    "from sklearn.metrics import classification_report, confusion_matrix\n",
    "\n",
    "def print_accuracy_reports(predictions, labels):\n",
    "    print(\"Confusion Matrix:\")\n",
    "    print(\"\")\n",
    "    print(confusion_matrix(y_val, predictions))\n",
    "    print(\"\")\n",
    "    print(\"Classification Report:\")\n",
    "    print(\"\")\n",
    "    print(classification_report(y_val, predictions))"
   ]
  },
  {
   "cell_type": "markdown",
   "id": "69e0852a",
   "metadata": {
    "papermill": {
     "duration": 0.023143,
     "end_time": "2023-08-30T02:25:13.569507",
     "exception": false,
     "start_time": "2023-08-30T02:25:13.546364",
     "status": "completed"
    },
    "tags": []
   },
   "source": [
    "### Logistic Regression"
   ]
  },
  {
   "cell_type": "code",
   "execution_count": 37,
   "id": "c8f6331d",
   "metadata": {
    "execution": {
     "iopub.execute_input": "2023-08-30T02:25:13.616642Z",
     "iopub.status.busy": "2023-08-30T02:25:13.616022Z",
     "iopub.status.idle": "2023-08-30T02:25:13.758472Z",
     "shell.execute_reply": "2023-08-30T02:25:13.756695Z"
    },
    "papermill": {
     "duration": 0.168752,
     "end_time": "2023-08-30T02:25:13.760929",
     "exception": false,
     "start_time": "2023-08-30T02:25:13.592177",
     "status": "completed"
    },
    "tags": []
   },
   "outputs": [
    {
     "name": "stdout",
     "output_type": "stream",
     "text": [
      "Confusion Matrix:\n",
      "\n",
      "[[46  8]\n",
      " [ 5 31]]\n",
      "\n",
      "Classification Report:\n",
      "\n",
      "              precision    recall  f1-score   support\n",
      "\n",
      "           0       0.90      0.85      0.88        54\n",
      "           1       0.79      0.86      0.83        36\n",
      "\n",
      "    accuracy                           0.86        90\n",
      "   macro avg       0.85      0.86      0.85        90\n",
      "weighted avg       0.86      0.86      0.86        90\n",
      "\n"
     ]
    },
    {
     "name": "stderr",
     "output_type": "stream",
     "text": [
      "/opt/conda/lib/python3.10/site-packages/sklearn/linear_model/_logistic.py:458: ConvergenceWarning: lbfgs failed to converge (status=1):\n",
      "STOP: TOTAL NO. of ITERATIONS REACHED LIMIT.\n",
      "\n",
      "Increase the number of iterations (max_iter) or scale the data as shown in:\n",
      "    https://scikit-learn.org/stable/modules/preprocessing.html\n",
      "Please also refer to the documentation for alternative solver options:\n",
      "    https://scikit-learn.org/stable/modules/linear_model.html#logistic-regression\n",
      "  n_iter_i = _check_optimize_result(\n"
     ]
    }
   ],
   "source": [
    "from sklearn.linear_model import LogisticRegression\n",
    "\n",
    "logReg = LogisticRegression()\n",
    "\n",
    "logReg.fit(X_train, y_train)\n",
    "\n",
    "predictions = logReg.predict(X_val)\n",
    "\n",
    "print_accuracy_reports(predictions, y_val)"
   ]
  },
  {
   "cell_type": "markdown",
   "id": "bf4ad5fe",
   "metadata": {
    "papermill": {
     "duration": 0.022092,
     "end_time": "2023-08-30T02:25:13.805958",
     "exception": false,
     "start_time": "2023-08-30T02:25:13.783866",
     "status": "completed"
    },
    "tags": []
   },
   "source": [
    "### Decision Tree"
   ]
  },
  {
   "cell_type": "code",
   "execution_count": 38,
   "id": "0ef8bd67",
   "metadata": {
    "execution": {
     "iopub.execute_input": "2023-08-30T02:25:13.853606Z",
     "iopub.status.busy": "2023-08-30T02:25:13.852477Z",
     "iopub.status.idle": "2023-08-30T02:25:14.047781Z",
     "shell.execute_reply": "2023-08-30T02:25:14.046730Z"
    },
    "papermill": {
     "duration": 0.221855,
     "end_time": "2023-08-30T02:25:14.050135",
     "exception": false,
     "start_time": "2023-08-30T02:25:13.828280",
     "status": "completed"
    },
    "tags": []
   },
   "outputs": [
    {
     "name": "stdout",
     "output_type": "stream",
     "text": [
      "Confusion Matrix:\n",
      "\n",
      "[[40 14]\n",
      " [ 5 31]]\n",
      "\n",
      "Classification Report:\n",
      "\n",
      "              precision    recall  f1-score   support\n",
      "\n",
      "           0       0.89      0.74      0.81        54\n",
      "           1       0.69      0.86      0.77        36\n",
      "\n",
      "    accuracy                           0.79        90\n",
      "   macro avg       0.79      0.80      0.79        90\n",
      "weighted avg       0.81      0.79      0.79        90\n",
      "\n"
     ]
    }
   ],
   "source": [
    "from sklearn.tree import DecisionTreeClassifier\n",
    "\n",
    "treeClf = DecisionTreeClassifier()\n",
    "\n",
    "treeClf.fit(X_train, y_train)\n",
    "\n",
    "predictions = treeClf.predict(X_val)\n",
    "\n",
    "print_accuracy_reports(predictions, y_val)"
   ]
  },
  {
   "cell_type": "markdown",
   "id": "e9794901",
   "metadata": {
    "papermill": {
     "duration": 0.02362,
     "end_time": "2023-08-30T02:25:14.097769",
     "exception": false,
     "start_time": "2023-08-30T02:25:14.074149",
     "status": "completed"
    },
    "tags": []
   },
   "source": [
    "### Random Forest"
   ]
  },
  {
   "cell_type": "code",
   "execution_count": 39,
   "id": "d73240fa",
   "metadata": {
    "execution": {
     "iopub.execute_input": "2023-08-30T02:25:14.146510Z",
     "iopub.status.busy": "2023-08-30T02:25:14.145314Z",
     "iopub.status.idle": "2023-08-30T02:25:14.510957Z",
     "shell.execute_reply": "2023-08-30T02:25:14.509446Z"
    },
    "papermill": {
     "duration": 0.392719,
     "end_time": "2023-08-30T02:25:14.513424",
     "exception": false,
     "start_time": "2023-08-30T02:25:14.120705",
     "status": "completed"
    },
    "tags": []
   },
   "outputs": [
    {
     "name": "stdout",
     "output_type": "stream",
     "text": [
      "Confusion Matrix:\n",
      "\n",
      "[[45  9]\n",
      " [ 7 29]]\n",
      "\n",
      "Classification Report:\n",
      "\n",
      "              precision    recall  f1-score   support\n",
      "\n",
      "           0       0.87      0.83      0.85        54\n",
      "           1       0.76      0.81      0.78        36\n",
      "\n",
      "    accuracy                           0.82        90\n",
      "   macro avg       0.81      0.82      0.82        90\n",
      "weighted avg       0.82      0.82      0.82        90\n",
      "\n"
     ]
    }
   ],
   "source": [
    "from sklearn.ensemble import RandomForestClassifier\n",
    "\n",
    "forestClf = RandomForestClassifier()\n",
    "\n",
    "forestClf.fit(X_train, y_train)\n",
    "\n",
    "predictions = forestClf.predict(X_val)\n",
    "\n",
    "print_accuracy_reports(predictions, y_val)"
   ]
  },
  {
   "cell_type": "markdown",
   "id": "b850dc41",
   "metadata": {
    "papermill": {
     "duration": 0.022528,
     "end_time": "2023-08-30T02:25:14.558886",
     "exception": false,
     "start_time": "2023-08-30T02:25:14.536358",
     "status": "completed"
    },
    "tags": []
   },
   "source": [
    "### KNN"
   ]
  },
  {
   "cell_type": "code",
   "execution_count": 40,
   "id": "c6e651a6",
   "metadata": {
    "execution": {
     "iopub.execute_input": "2023-08-30T02:25:14.607617Z",
     "iopub.status.busy": "2023-08-30T02:25:14.606546Z",
     "iopub.status.idle": "2023-08-30T02:25:14.629806Z",
     "shell.execute_reply": "2023-08-30T02:25:14.628552Z"
    },
    "papermill": {
     "duration": 0.050197,
     "end_time": "2023-08-30T02:25:14.632221",
     "exception": false,
     "start_time": "2023-08-30T02:25:14.582024",
     "status": "completed"
    },
    "tags": []
   },
   "outputs": [
    {
     "name": "stdout",
     "output_type": "stream",
     "text": [
      "Confusion Matrix:\n",
      "\n",
      "[[45  9]\n",
      " [16 20]]\n",
      "\n",
      "Classification Report:\n",
      "\n",
      "              precision    recall  f1-score   support\n",
      "\n",
      "           0       0.74      0.83      0.78        54\n",
      "           1       0.69      0.56      0.62        36\n",
      "\n",
      "    accuracy                           0.72        90\n",
      "   macro avg       0.71      0.69      0.70        90\n",
      "weighted avg       0.72      0.72      0.72        90\n",
      "\n"
     ]
    }
   ],
   "source": [
    "from sklearn.neighbors import KNeighborsClassifier\n",
    "\n",
    "knn = KNeighborsClassifier()\n",
    "\n",
    "knn.fit(X_train, y_train)\n",
    "\n",
    "predictions = knn.predict(X_val)\n",
    "\n",
    "print_accuracy_reports(predictions, y_val)"
   ]
  },
  {
   "cell_type": "markdown",
   "id": "d966fcf8",
   "metadata": {
    "papermill": {
     "duration": 0.02391,
     "end_time": "2023-08-30T02:25:14.679301",
     "exception": false,
     "start_time": "2023-08-30T02:25:14.655391",
     "status": "completed"
    },
    "tags": []
   },
   "source": [
    "### SVM"
   ]
  },
  {
   "cell_type": "code",
   "execution_count": 41,
   "id": "d9a9748a",
   "metadata": {
    "execution": {
     "iopub.execute_input": "2023-08-30T02:25:14.728388Z",
     "iopub.status.busy": "2023-08-30T02:25:14.728002Z",
     "iopub.status.idle": "2023-08-30T02:25:14.774116Z",
     "shell.execute_reply": "2023-08-30T02:25:14.772714Z"
    },
    "papermill": {
     "duration": 0.074176,
     "end_time": "2023-08-30T02:25:14.776907",
     "exception": false,
     "start_time": "2023-08-30T02:25:14.702731",
     "status": "completed"
    },
    "tags": []
   },
   "outputs": [
    {
     "name": "stdout",
     "output_type": "stream",
     "text": [
      "Confusion Matrix:\n",
      "\n",
      "[[51  3]\n",
      " [25 11]]\n",
      "\n",
      "Classification Report:\n",
      "\n",
      "              precision    recall  f1-score   support\n",
      "\n",
      "           0       0.67      0.94      0.78        54\n",
      "           1       0.79      0.31      0.44        36\n",
      "\n",
      "    accuracy                           0.69        90\n",
      "   macro avg       0.73      0.62      0.61        90\n",
      "weighted avg       0.72      0.69      0.65        90\n",
      "\n"
     ]
    }
   ],
   "source": [
    "from sklearn.svm import SVC\n",
    "\n",
    "svc = SVC()\n",
    "\n",
    "svc.fit(X_train, y_train)\n",
    "\n",
    "predictions = svc.predict(X_val)\n",
    "\n",
    "print_accuracy_reports(predictions, y_val)"
   ]
  },
  {
   "cell_type": "markdown",
   "id": "a2583265",
   "metadata": {
    "papermill": {
     "duration": 0.023352,
     "end_time": "2023-08-30T02:25:14.824559",
     "exception": false,
     "start_time": "2023-08-30T02:25:14.801207",
     "status": "completed"
    },
    "tags": []
   },
   "source": [
    "## 📈 Fine-Tune Models"
   ]
  },
  {
   "cell_type": "code",
   "execution_count": 42,
   "id": "8e388913",
   "metadata": {
    "execution": {
     "iopub.execute_input": "2023-08-30T02:25:14.874330Z",
     "iopub.status.busy": "2023-08-30T02:25:14.873893Z",
     "iopub.status.idle": "2023-08-30T02:25:14.912746Z",
     "shell.execute_reply": "2023-08-30T02:25:14.911776Z"
    },
    "papermill": {
     "duration": 0.067147,
     "end_time": "2023-08-30T02:25:14.915230",
     "exception": false,
     "start_time": "2023-08-30T02:25:14.848083",
     "status": "completed"
    },
    "tags": []
   },
   "outputs": [],
   "source": [
    "from sklearn.compose import ColumnTransformer\n",
    "from sklearn.pipeline import Pipeline\n",
    "from sklearn.preprocessing import OneHotEncoder, StandardScaler, MinMaxScaler\n",
    "from sklearn.impute import SimpleImputer\n",
    "\n",
    "\n",
    "def prepare_data(X):\n",
    "    num_attribs = ['Fare', 'Age']\n",
    "    cat_attribs = ['Sex', 'Embarked']\n",
    "    drop_attribs = ['Cabin', 'Name', 'PassengerId', 'Ticket']\n",
    "\n",
    "    # Drop Attrib\n",
    "    X.drop(drop_attribs, axis=1, inplace=True)\n",
    "    \n",
    "    # Fill in Missing Values\n",
    "    X['Age'] = X[['Age', 'Pclass']].apply(impute_age, axis=1)\n",
    "                                          \n",
    "    # Categorical Attributes\n",
    "    X = create_dummies_and_delete_col(X, cat_attribs)\n",
    "    \n",
    "    num_pipeline = Pipeline([\n",
    "        (\"imputer\", SimpleImputer(strategy=\"median\")),\n",
    "        (\"std_scaler\", StandardScaler())\n",
    "    ])\n",
    "\n",
    "    pipeline = ColumnTransformer(\n",
    "        transformers = [(\"num\", num_pipeline, num_attribs)], \n",
    "        remainder='passthrough'\n",
    "    )\n",
    "\n",
    "    return pipeline.fit_transform(X)"
   ]
  },
  {
   "cell_type": "code",
   "execution_count": 43,
   "id": "3c677cab",
   "metadata": {
    "execution": {
     "iopub.execute_input": "2023-08-30T02:25:14.964908Z",
     "iopub.status.busy": "2023-08-30T02:25:14.963892Z",
     "iopub.status.idle": "2023-08-30T02:25:14.995955Z",
     "shell.execute_reply": "2023-08-30T02:25:14.994785Z"
    },
    "papermill": {
     "duration": 0.059348,
     "end_time": "2023-08-30T02:25:14.998346",
     "exception": false,
     "start_time": "2023-08-30T02:25:14.938998",
     "status": "completed"
    },
    "tags": []
   },
   "outputs": [],
   "source": [
    "training = data_train.copy(deep=True)\n",
    "\n",
    "X = training.drop('Survived', axis=1)\n",
    "y = training['Survived']\n",
    "\n",
    "X_prepared = prepare_data(X)\n",
    "\n",
    "X_train, X_val, y_train, y_val = train_test_split(X_prepared, y, random_state=42, test_size=0.1)"
   ]
  },
  {
   "cell_type": "code",
   "execution_count": 44,
   "id": "97ef7c73",
   "metadata": {
    "execution": {
     "iopub.execute_input": "2023-08-30T02:25:15.047464Z",
     "iopub.status.busy": "2023-08-30T02:25:15.047021Z",
     "iopub.status.idle": "2023-08-30T02:25:15.068571Z",
     "shell.execute_reply": "2023-08-30T02:25:15.067498Z"
    },
    "papermill": {
     "duration": 0.048814,
     "end_time": "2023-08-30T02:25:15.071016",
     "exception": false,
     "start_time": "2023-08-30T02:25:15.022202",
     "status": "completed"
    },
    "tags": []
   },
   "outputs": [
    {
     "name": "stdout",
     "output_type": "stream",
     "text": [
      "Confusion Matrix:\n",
      "\n",
      "[[46  8]\n",
      " [ 5 31]]\n",
      "\n",
      "Classification Report:\n",
      "\n",
      "              precision    recall  f1-score   support\n",
      "\n",
      "           0       0.90      0.85      0.88        54\n",
      "           1       0.79      0.86      0.83        36\n",
      "\n",
      "    accuracy                           0.86        90\n",
      "   macro avg       0.85      0.86      0.85        90\n",
      "weighted avg       0.86      0.86      0.86        90\n",
      "\n"
     ]
    }
   ],
   "source": [
    "logReg = LogisticRegression()\n",
    "\n",
    "logReg.fit(X_train, y_train)\n",
    "\n",
    "predictions = logReg.predict(X_val)\n",
    "\n",
    "print_accuracy_reports(predictions, y_val)"
   ]
  },
  {
   "cell_type": "markdown",
   "id": "60bca8fe",
   "metadata": {
    "papermill": {
     "duration": 0.023131,
     "end_time": "2023-08-30T02:25:15.117597",
     "exception": false,
     "start_time": "2023-08-30T02:25:15.094466",
     "status": "completed"
    },
    "tags": []
   },
   "source": [
    "### GridSearch (HyperParameter Tuning)"
   ]
  },
  {
   "cell_type": "code",
   "execution_count": 45,
   "id": "9446829a",
   "metadata": {
    "execution": {
     "iopub.execute_input": "2023-08-30T02:25:15.166530Z",
     "iopub.status.busy": "2023-08-30T02:25:15.166122Z",
     "iopub.status.idle": "2023-08-30T02:25:18.356560Z",
     "shell.execute_reply": "2023-08-30T02:25:18.355164Z"
    },
    "papermill": {
     "duration": 3.218053,
     "end_time": "2023-08-30T02:25:18.359303",
     "exception": false,
     "start_time": "2023-08-30T02:25:15.141250",
     "status": "completed"
    },
    "tags": []
   },
   "outputs": [
    {
     "name": "stderr",
     "output_type": "stream",
     "text": [
      "/opt/conda/lib/python3.10/site-packages/scipy/__init__.py:146: UserWarning: A NumPy version >=1.16.5 and <1.23.0 is required for this version of SciPy (detected version 1.23.5\n",
      "  warnings.warn(f\"A NumPy version >={np_minversion} and <{np_maxversion}\"\n",
      "/opt/conda/lib/python3.10/site-packages/scipy/__init__.py:146: UserWarning: A NumPy version >=1.16.5 and <1.23.0 is required for this version of SciPy (detected version 1.23.5\n",
      "  warnings.warn(f\"A NumPy version >={np_minversion} and <{np_maxversion}\"\n",
      "/opt/conda/lib/python3.10/site-packages/scipy/__init__.py:146: UserWarning: A NumPy version >=1.16.5 and <1.23.0 is required for this version of SciPy (detected version 1.23.5\n",
      "  warnings.warn(f\"A NumPy version >={np_minversion} and <{np_maxversion}\"\n",
      "/opt/conda/lib/python3.10/site-packages/scipy/__init__.py:146: UserWarning: A NumPy version >=1.16.5 and <1.23.0 is required for this version of SciPy (detected version 1.23.5\n",
      "  warnings.warn(f\"A NumPy version >={np_minversion} and <{np_maxversion}\"\n"
     ]
    },
    {
     "name": "stdout",
     "output_type": "stream",
     "text": [
      "Best: 0.800237 using {'C': 0.1, 'penalty': 'l2', 'solver': 'newton-cg'}\n",
      "0.793565 (0.042492) with: {'C': 100, 'penalty': 'l2', 'solver': 'newton-cg'}\n",
      "0.793565 (0.042492) with: {'C': 100, 'penalty': 'l2', 'solver': 'lbfgs'}\n",
      "0.792315 (0.042956) with: {'C': 100, 'penalty': 'l2', 'solver': 'liblinear'}\n",
      "0.793148 (0.041871) with: {'C': 10, 'penalty': 'l2', 'solver': 'newton-cg'}\n",
      "0.793148 (0.041871) with: {'C': 10, 'penalty': 'l2', 'solver': 'lbfgs'}\n",
      "0.793148 (0.042855) with: {'C': 10, 'penalty': 'l2', 'solver': 'liblinear'}\n",
      "0.794398 (0.041370) with: {'C': 1.0, 'penalty': 'l2', 'solver': 'newton-cg'}\n",
      "0.794398 (0.041370) with: {'C': 1.0, 'penalty': 'l2', 'solver': 'lbfgs'}\n",
      "0.795643 (0.038079) with: {'C': 1.0, 'penalty': 'l2', 'solver': 'liblinear'}\n",
      "0.800237 (0.034772) with: {'C': 0.1, 'penalty': 'l2', 'solver': 'newton-cg'}\n",
      "0.800237 (0.034772) with: {'C': 0.1, 'penalty': 'l2', 'solver': 'lbfgs'}\n",
      "0.793987 (0.039536) with: {'C': 0.1, 'penalty': 'l2', 'solver': 'liblinear'}\n",
      "0.738241 (0.033971) with: {'C': 0.01, 'penalty': 'l2', 'solver': 'newton-cg'}\n",
      "0.738241 (0.033971) with: {'C': 0.01, 'penalty': 'l2', 'solver': 'lbfgs'}\n",
      "0.688292 (0.026993) with: {'C': 0.01, 'penalty': 'l2', 'solver': 'liblinear'}\n"
     ]
    }
   ],
   "source": [
    "from sklearn.model_selection import GridSearchCV\n",
    "from sklearn.model_selection import RepeatedStratifiedKFold\n",
    "\n",
    "model = LogisticRegression()\n",
    "solvers = ['newton-cg', 'lbfgs', 'liblinear']\n",
    "penalty = ['l2']\n",
    "c_values = [100, 10, 1.0, 0.1, 0.01]\n",
    "\n",
    "# define grid search\n",
    "grid = dict(solver=solvers,penalty=penalty,C=c_values)\n",
    "cv = RepeatedStratifiedKFold(n_splits=10, n_repeats=3, random_state=1)\n",
    "grid_search = GridSearchCV(estimator=model, param_grid=grid, n_jobs=-1, cv=cv, scoring='accuracy',error_score=0)\n",
    "grid_result = grid_search.fit(X_train, y_train)\n",
    "\n",
    "# summarize results\n",
    "print(\"Best: %f using %s\" % (grid_result.best_score_, grid_result.best_params_))\n",
    "means = grid_result.cv_results_['mean_test_score']\n",
    "stds = grid_result.cv_results_['std_test_score']\n",
    "params = grid_result.cv_results_['params']\n",
    "for mean, stdev, param in zip(means, stds, params):\n",
    "    print(\"%f (%f) with: %r\" % (mean, stdev, param))"
   ]
  },
  {
   "cell_type": "code",
   "execution_count": 46,
   "id": "d1f0dff5",
   "metadata": {
    "execution": {
     "iopub.execute_input": "2023-08-30T02:25:18.410301Z",
     "iopub.status.busy": "2023-08-30T02:25:18.409868Z",
     "iopub.status.idle": "2023-08-30T02:25:18.435966Z",
     "shell.execute_reply": "2023-08-30T02:25:18.434343Z"
    },
    "papermill": {
     "duration": 0.055554,
     "end_time": "2023-08-30T02:25:18.438641",
     "exception": false,
     "start_time": "2023-08-30T02:25:18.383087",
     "status": "completed"
    },
    "tags": []
   },
   "outputs": [
    {
     "name": "stdout",
     "output_type": "stream",
     "text": [
      "Confusion Matrix:\n",
      "\n",
      "[[48  6]\n",
      " [ 6 30]]\n",
      "\n",
      "Classification Report:\n",
      "\n",
      "              precision    recall  f1-score   support\n",
      "\n",
      "           0       0.89      0.89      0.89        54\n",
      "           1       0.83      0.83      0.83        36\n",
      "\n",
      "    accuracy                           0.87        90\n",
      "   macro avg       0.86      0.86      0.86        90\n",
      "weighted avg       0.87      0.87      0.87        90\n",
      "\n"
     ]
    }
   ],
   "source": [
    "logReg = LogisticRegression(C=0.1, penalty='l2', solver='newton-cg')\n",
    "\n",
    "logReg.fit(X_train, y_train)\n",
    "\n",
    "predictions = logReg.predict(X_val)\n",
    "\n",
    "print_accuracy_reports(predictions, y_val)"
   ]
  },
  {
   "cell_type": "markdown",
   "id": "7f7bba11",
   "metadata": {
    "papermill": {
     "duration": 0.023621,
     "end_time": "2023-08-30T02:25:18.486170",
     "exception": false,
     "start_time": "2023-08-30T02:25:18.462549",
     "status": "completed"
    },
    "tags": []
   },
   "source": [
    "\n",
    "## 🌎 Submission"
   ]
  },
  {
   "cell_type": "code",
   "execution_count": 47,
   "id": "6bb63a69",
   "metadata": {
    "execution": {
     "iopub.execute_input": "2023-08-30T02:25:18.535431Z",
     "iopub.status.busy": "2023-08-30T02:25:18.534989Z",
     "iopub.status.idle": "2023-08-30T02:25:18.548227Z",
     "shell.execute_reply": "2023-08-30T02:25:18.547080Z"
    },
    "papermill": {
     "duration": 0.040823,
     "end_time": "2023-08-30T02:25:18.550772",
     "exception": false,
     "start_time": "2023-08-30T02:25:18.509949",
     "status": "completed"
    },
    "tags": []
   },
   "outputs": [],
   "source": [
    "data_test = pd.read_csv(\"/kaggle/input/titanic/test.csv\")\n",
    "PassengerId = pd.Series(data_test['PassengerId'], name='PassengerId')"
   ]
  },
  {
   "cell_type": "code",
   "execution_count": 48,
   "id": "b49f721d",
   "metadata": {
    "execution": {
     "iopub.execute_input": "2023-08-30T02:25:18.603478Z",
     "iopub.status.busy": "2023-08-30T02:25:18.602777Z",
     "iopub.status.idle": "2023-08-30T02:25:18.634754Z",
     "shell.execute_reply": "2023-08-30T02:25:18.633814Z"
    },
    "papermill": {
     "duration": 0.060969,
     "end_time": "2023-08-30T02:25:18.637178",
     "exception": false,
     "start_time": "2023-08-30T02:25:18.576209",
     "status": "completed"
    },
    "tags": []
   },
   "outputs": [],
   "source": [
    "prepared_test = prepare_data(data_test)\n",
    "\n",
    "predictions_test = logReg.predict(prepared_test)\n",
    "Label = pd.Series(predictions_test, name='Survived')\n",
    "\n",
    "submission = pd.concat([PassengerId, Label], axis=1)\n",
    "\n",
    "submission.to_csv(\"submission.csv\",index=False)"
   ]
  }
 ],
 "kernelspec": {
  "display_name": "Python 3",
  "language": "python",
  "name": "python3"
 },
 "language_info": {
  "codemirror_mode": {
   "name": "ipython",
   "version": 3
  },
  "file_extension": ".py",
  "mimetype": "text/x-python",
  "name": "python",
  "nbconvert_exporter": "python",
  "pygments_lexer": "ipython3",
  "version": "3.6.4"
 },
 "metadata": {
  "kernelspec": {
   "display_name": "Python 3",
   "language": "python",
   "name": "python3"
  },
  "language_info": {
   "codemirror_mode": {
    "name": "ipython",
    "version": 3
   },
   "file_extension": ".py",
   "mimetype": "text/x-python",
   "name": "python",
   "nbconvert_exporter": "python",
   "pygments_lexer": "ipython3",
   "version": "3.10.12"
  },
  "papermill": {
   "default_parameters": {},
   "duration": 26.917368,
   "end_time": "2023-08-30T02:25:21.282332",
   "environment_variables": {},
   "exception": null,
   "input_path": "__notebook__.ipynb",
   "output_path": "__notebook__.ipynb",
   "parameters": {},
   "start_time": "2023-08-30T02:24:54.364964",
   "version": "2.4.0"
  }
 },
 "nbformat": 4,
 "nbformat_minor": 5
}
