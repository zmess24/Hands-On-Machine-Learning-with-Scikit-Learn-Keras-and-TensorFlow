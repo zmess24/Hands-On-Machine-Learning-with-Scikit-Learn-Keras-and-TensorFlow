{
 "cells": [
  {
   "cell_type": "markdown",
   "metadata": {},
   "source": [
    "### ☀️ Import Libraries"
   ]
  },
  {
   "cell_type": "code",
   "execution_count": 3,
   "metadata": {
    "execution": {
     "iopub.execute_input": "2023-08-31T03:01:48.924612Z",
     "iopub.status.busy": "2023-08-31T03:01:48.924185Z",
     "iopub.status.idle": "2023-08-31T03:01:48.932045Z",
     "shell.execute_reply": "2023-08-31T03:01:48.930878Z",
     "shell.execute_reply.started": "2023-08-31T03:01:48.924574Z"
    }
   },
   "outputs": [],
   "source": [
    "import numpy as np\n",
    "import pandas as pd\n",
    "\n",
    "import matplotlib.pyplot as plt\n",
    "import seaborn as sns\n",
    "%matplotlib inline"
   ]
  },
  {
   "cell_type": "markdown",
   "metadata": {},
   "source": [
    "### ✏️ Frame the Problem\n",
    "\n",
    "Given an email, correctly classify whether the email should be marked as spam or not."
   ]
  },
  {
   "cell_type": "markdown",
   "metadata": {},
   "source": [
    "### 💾 Load The Data"
   ]
  },
  {
   "cell_type": "code",
   "execution_count": 4,
   "metadata": {
    "execution": {
     "iopub.execute_input": "2023-08-31T03:01:50.979133Z",
     "iopub.status.busy": "2023-08-31T03:01:50.978700Z",
     "iopub.status.idle": "2023-08-31T03:01:51.141634Z",
     "shell.execute_reply": "2023-08-31T03:01:51.140506Z",
     "shell.execute_reply.started": "2023-08-31T03:01:50.979097Z"
    }
   },
   "outputs": [
    {
     "data": {
      "text/html": [
       "<div>\n",
       "<style scoped>\n",
       "    .dataframe tbody tr th:only-of-type {\n",
       "        vertical-align: middle;\n",
       "    }\n",
       "\n",
       "    .dataframe tbody tr th {\n",
       "        vertical-align: top;\n",
       "    }\n",
       "\n",
       "    .dataframe thead th {\n",
       "        text-align: right;\n",
       "    }\n",
       "</style>\n",
       "<table border=\"1\" class=\"dataframe\">\n",
       "  <thead>\n",
       "    <tr style=\"text-align: right;\">\n",
       "      <th></th>\n",
       "      <th>email</th>\n",
       "      <th>label</th>\n",
       "    </tr>\n",
       "  </thead>\n",
       "  <tbody>\n",
       "    <tr>\n",
       "      <th>0</th>\n",
       "      <td>date wed NUMBER aug NUMBER NUMBER NUMBER NUMB...</td>\n",
       "      <td>0</td>\n",
       "    </tr>\n",
       "    <tr>\n",
       "      <th>1</th>\n",
       "      <td>martin a posted tassos papadopoulos the greek ...</td>\n",
       "      <td>0</td>\n",
       "    </tr>\n",
       "    <tr>\n",
       "      <th>2</th>\n",
       "      <td>man threatens explosion in moscow thursday aug...</td>\n",
       "      <td>0</td>\n",
       "    </tr>\n",
       "    <tr>\n",
       "      <th>3</th>\n",
       "      <td>klez the virus that won t die already the most...</td>\n",
       "      <td>0</td>\n",
       "    </tr>\n",
       "    <tr>\n",
       "      <th>4</th>\n",
       "      <td>in adding cream to spaghetti carbonara which ...</td>\n",
       "      <td>0</td>\n",
       "    </tr>\n",
       "    <tr>\n",
       "      <th>5</th>\n",
       "      <td>i just had to jump in here as carbonara is on...</td>\n",
       "      <td>0</td>\n",
       "    </tr>\n",
       "    <tr>\n",
       "      <th>6</th>\n",
       "      <td>the scotsman NUMBER august NUMBER playboy want...</td>\n",
       "      <td>0</td>\n",
       "    </tr>\n",
       "    <tr>\n",
       "      <th>7</th>\n",
       "      <td>martin adamson wrote isn t it just basically a...</td>\n",
       "      <td>0</td>\n",
       "    </tr>\n",
       "    <tr>\n",
       "      <th>8</th>\n",
       "      <td>the scotsman thu NUMBER aug NUMBER meaningful ...</td>\n",
       "      <td>0</td>\n",
       "    </tr>\n",
       "    <tr>\n",
       "      <th>9</th>\n",
       "      <td>i have been trying to research via sa mirrors ...</td>\n",
       "      <td>0</td>\n",
       "    </tr>\n",
       "    <tr>\n",
       "      <th>10</th>\n",
       "      <td>hello have you seen and discussed this article...</td>\n",
       "      <td>0</td>\n",
       "    </tr>\n",
       "    <tr>\n",
       "      <th>11</th>\n",
       "      <td>yes great minds think alike but even withput e...</td>\n",
       "      <td>0</td>\n",
       "    </tr>\n",
       "    <tr>\n",
       "      <th>12</th>\n",
       "      <td>on mon aug NUMBER NUMBER at NUMBER NUMBER NUMB...</td>\n",
       "      <td>0</td>\n",
       "    </tr>\n",
       "    <tr>\n",
       "      <th>13</th>\n",
       "      <td>from chris garrigues cwg exmh deepeddy com da...</td>\n",
       "      <td>0</td>\n",
       "    </tr>\n",
       "    <tr>\n",
       "      <th>14</th>\n",
       "      <td>spamassassin is hurting democracy owen URL int...</td>\n",
       "      <td>0</td>\n",
       "    </tr>\n",
       "    <tr>\n",
       "      <th>15</th>\n",
       "      <td>hi all apologies for the possible silly questi...</td>\n",
       "      <td>0</td>\n",
       "    </tr>\n",
       "    <tr>\n",
       "      <th>16</th>\n",
       "      <td>in forteana y d mcmann dmcmann b wrote robert...</td>\n",
       "      <td>0</td>\n",
       "    </tr>\n",
       "    <tr>\n",
       "      <th>17</th>\n",
       "      <td>in a nutshell solaris is suns own flavour of u...</td>\n",
       "      <td>0</td>\n",
       "    </tr>\n",
       "    <tr>\n",
       "      <th>18</th>\n",
       "      <td>apols if this has been posted before URL rob y...</td>\n",
       "      <td>0</td>\n",
       "    </tr>\n",
       "    <tr>\n",
       "      <th>19</th>\n",
       "      <td>can someone explain what type of operating sys...</td>\n",
       "      <td>0</td>\n",
       "    </tr>\n",
       "  </tbody>\n",
       "</table>\n",
       "</div>"
      ],
      "text/plain": [
       "                                                email  label\n",
       "0    date wed NUMBER aug NUMBER NUMBER NUMBER NUMB...      0\n",
       "1   martin a posted tassos papadopoulos the greek ...      0\n",
       "2   man threatens explosion in moscow thursday aug...      0\n",
       "3   klez the virus that won t die already the most...      0\n",
       "4    in adding cream to spaghetti carbonara which ...      0\n",
       "5    i just had to jump in here as carbonara is on...      0\n",
       "6   the scotsman NUMBER august NUMBER playboy want...      0\n",
       "7   martin adamson wrote isn t it just basically a...      0\n",
       "8   the scotsman thu NUMBER aug NUMBER meaningful ...      0\n",
       "9   i have been trying to research via sa mirrors ...      0\n",
       "10  hello have you seen and discussed this article...      0\n",
       "11  yes great minds think alike but even withput e...      0\n",
       "12  on mon aug NUMBER NUMBER at NUMBER NUMBER NUMB...      0\n",
       "13   from chris garrigues cwg exmh deepeddy com da...      0\n",
       "14  spamassassin is hurting democracy owen URL int...      0\n",
       "15  hi all apologies for the possible silly questi...      0\n",
       "16   in forteana y d mcmann dmcmann b wrote robert...      0\n",
       "17  in a nutshell solaris is suns own flavour of u...      0\n",
       "18  apols if this has been posted before URL rob y...      0\n",
       "19  can someone explain what type of operating sys...      0"
      ]
     },
     "execution_count": 4,
     "metadata": {},
     "output_type": "execute_result"
    }
   ],
   "source": [
    "data = pd.read_csv('/kaggle/input/spam-or-not-spam-dataset/spam_or_not_spam.csv')\n",
    "\n",
    "data.head(20)"
   ]
  },
  {
   "cell_type": "code",
   "execution_count": 5,
   "metadata": {
    "execution": {
     "iopub.execute_input": "2023-08-31T03:01:53.128883Z",
     "iopub.status.busy": "2023-08-31T03:01:53.127779Z",
     "iopub.status.idle": "2023-08-31T03:01:53.143714Z",
     "shell.execute_reply": "2023-08-31T03:01:53.142883Z",
     "shell.execute_reply.started": "2023-08-31T03:01:53.128847Z"
    }
   },
   "outputs": [
    {
     "data": {
      "text/plain": [
       "email    1\n",
       "label    0\n",
       "dtype: int64"
      ]
     },
     "execution_count": 5,
     "metadata": {},
     "output_type": "execute_result"
    }
   ],
   "source": [
    "data.isnull().sum()"
   ]
  },
  {
   "cell_type": "code",
   "execution_count": 6,
   "metadata": {
    "execution": {
     "iopub.execute_input": "2023-08-31T03:01:54.792364Z",
     "iopub.status.busy": "2023-08-31T03:01:54.791976Z",
     "iopub.status.idle": "2023-08-31T03:01:54.802911Z",
     "shell.execute_reply": "2023-08-31T03:01:54.801823Z",
     "shell.execute_reply.started": "2023-08-31T03:01:54.792334Z"
    }
   },
   "outputs": [
    {
     "data": {
      "text/plain": [
       "<bound method DataFrame.info of                                                   email  label\n",
       "0      date wed NUMBER aug NUMBER NUMBER NUMBER NUMB...      0\n",
       "1     martin a posted tassos papadopoulos the greek ...      0\n",
       "2     man threatens explosion in moscow thursday aug...      0\n",
       "3     klez the virus that won t die already the most...      0\n",
       "4      in adding cream to spaghetti carbonara which ...      0\n",
       "...                                                 ...    ...\n",
       "2995   abc s good morning america ranks it the NUMBE...      1\n",
       "2996   hyperlink hyperlink hyperlink let mortgage le...      1\n",
       "2997   thank you for shopping with us gifts for all ...      1\n",
       "2998   the famous ebay marketing e course learn to s...      1\n",
       "2999   hello this is chinese traditional 子 件 NUMBER世...      1\n",
       "\n",
       "[3000 rows x 2 columns]>"
      ]
     },
     "execution_count": 6,
     "metadata": {},
     "output_type": "execute_result"
    }
   ],
   "source": [
    "data.info"
   ]
  },
  {
   "cell_type": "markdown",
   "metadata": {},
   "source": [
    "### 📊 EDA"
   ]
  },
  {
   "cell_type": "markdown",
   "metadata": {},
   "source": [
    "#### Create copy of data & drop null values "
   ]
  },
  {
   "cell_type": "code",
   "execution_count": 7,
   "metadata": {
    "execution": {
     "iopub.execute_input": "2023-08-31T03:01:56.541842Z",
     "iopub.status.busy": "2023-08-31T03:01:56.540662Z",
     "iopub.status.idle": "2023-08-31T03:01:56.563329Z",
     "shell.execute_reply": "2023-08-31T03:01:56.562195Z",
     "shell.execute_reply.started": "2023-08-31T03:01:56.541790Z"
    }
   },
   "outputs": [
    {
     "data": {
      "text/plain": [
       "email    0\n",
       "label    0\n",
       "dtype: int64"
      ]
     },
     "execution_count": 7,
     "metadata": {},
     "output_type": "execute_result"
    }
   ],
   "source": [
    "data_copy = data.copy(deep=True)\n",
    "\n",
    "null_row = data_copy[data_copy['email'].isnull()].index\n",
    "\n",
    "data_copy.drop(index=null_row[0], inplace=True)\n",
    "\n",
    "data_copy.isnull().sum()"
   ]
  },
  {
   "cell_type": "markdown",
   "metadata": {},
   "source": [
    "#### What percentage of emails are classified as spam?"
   ]
  },
  {
   "cell_type": "code",
   "execution_count": 8,
   "metadata": {
    "execution": {
     "iopub.execute_input": "2023-08-31T03:01:58.366268Z",
     "iopub.status.busy": "2023-08-31T03:01:58.365748Z",
     "iopub.status.idle": "2023-08-31T03:01:58.630688Z",
     "shell.execute_reply": "2023-08-31T03:01:58.629390Z",
     "shell.execute_reply.started": "2023-08-31T03:01:58.366226Z"
    }
   },
   "outputs": [
    {
     "data": {
      "text/plain": [
       "<Axes: xlabel='label', ylabel='count'>"
      ]
     },
     "execution_count": 8,
     "metadata": {},
     "output_type": "execute_result"
    },
    {
     "data": {
      "image/png": "[encoded data removed]",
      "text/plain": [
       "<Figure size 640x480 with 1 Axes>"
      ]
     },
     "metadata": {},
     "output_type": "display_data"
    }
   ],
   "source": [
    "sns.countplot(x='label', data=data_copy)"
   ]
  },
  {
   "cell_type": "code",
   "execution_count": 9,
   "metadata": {
    "execution": {
     "iopub.execute_input": "2023-08-31T03:02:01.220154Z",
     "iopub.status.busy": "2023-08-31T03:02:01.219644Z",
     "iopub.status.idle": "2023-08-31T03:02:01.231649Z",
     "shell.execute_reply": "2023-08-31T03:02:01.230762Z",
     "shell.execute_reply.started": "2023-08-31T03:02:01.220111Z"
    }
   },
   "outputs": [
    {
     "name": "stdout",
     "output_type": "stream",
     "text": [
      "Spam: 499 | 0.16633333333333333\n",
      "Not Spam: 2500 | 0.8333333333333334\n"
     ]
    }
   ],
   "source": [
    "spam = data_copy[data_copy['label'] == 1]\n",
    "no_spam = data_copy[data_copy['label'] == 0]\n",
    "\n",
    "print(f\"Spam: {len(spam)} | {len(spam) / len(data)}\")\n",
    "print(f\"Not Spam: {len(no_spam)} | {len(no_spam) / len(data)}\")"
   ]
  },
  {
   "cell_type": "markdown",
   "metadata": {},
   "source": [
    "#### What are common traits in spam or no_spam emails?"
   ]
  },
  {
   "cell_type": "code",
   "execution_count": 10,
   "metadata": {
    "execution": {
     "iopub.execute_input": "2023-08-31T03:02:03.093779Z",
     "iopub.status.busy": "2023-08-31T03:02:03.093338Z",
     "iopub.status.idle": "2023-08-31T03:02:03.108896Z",
     "shell.execute_reply": "2023-08-31T03:02:03.107653Z",
     "shell.execute_reply.started": "2023-08-31T03:02:03.093743Z"
    }
   },
   "outputs": [
    {
     "data": {
      "text/html": [
       "<div>\n",
       "<style scoped>\n",
       "    .dataframe tbody tr th:only-of-type {\n",
       "        vertical-align: middle;\n",
       "    }\n",
       "\n",
       "    .dataframe tbody tr th {\n",
       "        vertical-align: top;\n",
       "    }\n",
       "\n",
       "    .dataframe thead th {\n",
       "        text-align: right;\n",
       "    }\n",
       "</style>\n",
       "<table border=\"1\" class=\"dataframe\">\n",
       "  <thead>\n",
       "    <tr style=\"text-align: right;\">\n",
       "      <th></th>\n",
       "      <th>email</th>\n",
       "      <th>label</th>\n",
       "      <th>email_length</th>\n",
       "    </tr>\n",
       "  </thead>\n",
       "  <tbody>\n",
       "    <tr>\n",
       "      <th>0</th>\n",
       "      <td>date wed NUMBER aug NUMBER NUMBER NUMBER NUMB...</td>\n",
       "      <td>0</td>\n",
       "      <td>1522</td>\n",
       "    </tr>\n",
       "    <tr>\n",
       "      <th>1</th>\n",
       "      <td>martin a posted tassos papadopoulos the greek ...</td>\n",
       "      <td>0</td>\n",
       "      <td>643</td>\n",
       "    </tr>\n",
       "    <tr>\n",
       "      <th>2</th>\n",
       "      <td>man threatens explosion in moscow thursday aug...</td>\n",
       "      <td>0</td>\n",
       "      <td>1509</td>\n",
       "    </tr>\n",
       "    <tr>\n",
       "      <th>3</th>\n",
       "      <td>klez the virus that won t die already the most...</td>\n",
       "      <td>0</td>\n",
       "      <td>1015</td>\n",
       "    </tr>\n",
       "    <tr>\n",
       "      <th>4</th>\n",
       "      <td>in adding cream to spaghetti carbonara which ...</td>\n",
       "      <td>0</td>\n",
       "      <td>771</td>\n",
       "    </tr>\n",
       "  </tbody>\n",
       "</table>\n",
       "</div>"
      ],
      "text/plain": [
       "                                               email  label  email_length\n",
       "0   date wed NUMBER aug NUMBER NUMBER NUMBER NUMB...      0          1522\n",
       "1  martin a posted tassos papadopoulos the greek ...      0           643\n",
       "2  man threatens explosion in moscow thursday aug...      0          1509\n",
       "3  klez the virus that won t die already the most...      0          1015\n",
       "4   in adding cream to spaghetti carbonara which ...      0           771"
      ]
     },
     "execution_count": 10,
     "metadata": {},
     "output_type": "execute_result"
    }
   ],
   "source": [
    "data_copy['email_length'] = data_copy['email'].apply(len)\n",
    "\n",
    "data_copy.head()"
   ]
  },
  {
   "cell_type": "code",
   "execution_count": 11,
   "metadata": {
    "execution": {
     "iopub.execute_input": "2023-08-31T03:02:05.120282Z",
     "iopub.status.busy": "2023-08-31T03:02:05.119894Z",
     "iopub.status.idle": "2023-08-31T03:02:05.160544Z",
     "shell.execute_reply": "2023-08-31T03:02:05.159697Z",
     "shell.execute_reply.started": "2023-08-31T03:02:05.120253Z"
    }
   },
   "outputs": [
    {
     "data": {
      "text/html": [
       "<div>\n",
       "<style scoped>\n",
       "    .dataframe tbody tr th:only-of-type {\n",
       "        vertical-align: middle;\n",
       "    }\n",
       "\n",
       "    .dataframe tbody tr th {\n",
       "        vertical-align: top;\n",
       "    }\n",
       "\n",
       "    .dataframe thead tr th {\n",
       "        text-align: left;\n",
       "    }\n",
       "\n",
       "    .dataframe thead tr:last-of-type th {\n",
       "        text-align: right;\n",
       "    }\n",
       "</style>\n",
       "<table border=\"1\" class=\"dataframe\">\n",
       "  <thead>\n",
       "    <tr>\n",
       "      <th></th>\n",
       "      <th colspan=\"8\" halign=\"left\">email_length</th>\n",
       "    </tr>\n",
       "    <tr>\n",
       "      <th></th>\n",
       "      <th>count</th>\n",
       "      <th>mean</th>\n",
       "      <th>std</th>\n",
       "      <th>min</th>\n",
       "      <th>25%</th>\n",
       "      <th>50%</th>\n",
       "      <th>75%</th>\n",
       "      <th>max</th>\n",
       "    </tr>\n",
       "    <tr>\n",
       "      <th>label</th>\n",
       "      <th></th>\n",
       "      <th></th>\n",
       "      <th></th>\n",
       "      <th></th>\n",
       "      <th></th>\n",
       "      <th></th>\n",
       "      <th></th>\n",
       "      <th></th>\n",
       "    </tr>\n",
       "  </thead>\n",
       "  <tbody>\n",
       "    <tr>\n",
       "      <th>0</th>\n",
       "      <td>2500.0</td>\n",
       "      <td>1233.672000</td>\n",
       "      <td>3101.999287</td>\n",
       "      <td>5.0</td>\n",
       "      <td>360.0</td>\n",
       "      <td>719.0</td>\n",
       "      <td>1280.25</td>\n",
       "      <td>82994.0</td>\n",
       "    </tr>\n",
       "    <tr>\n",
       "      <th>1</th>\n",
       "      <td>499.0</td>\n",
       "      <td>2313.669339</td>\n",
       "      <td>9817.766265</td>\n",
       "      <td>1.0</td>\n",
       "      <td>525.0</td>\n",
       "      <td>956.0</td>\n",
       "      <td>1941.00</td>\n",
       "      <td>200408.0</td>\n",
       "    </tr>\n",
       "  </tbody>\n",
       "</table>\n",
       "</div>"
      ],
      "text/plain": [
       "      email_length                                                        \\\n",
       "             count         mean          std  min    25%    50%      75%   \n",
       "label                                                                      \n",
       "0           2500.0  1233.672000  3101.999287  5.0  360.0  719.0  1280.25   \n",
       "1            499.0  2313.669339  9817.766265  1.0  525.0  956.0  1941.00   \n",
       "\n",
       "                 \n",
       "            max  \n",
       "label            \n",
       "0       82994.0  \n",
       "1      200408.0  "
      ]
     },
     "execution_count": 11,
     "metadata": {},
     "output_type": "execute_result"
    }
   ],
   "source": [
    "data_copy.groupby('label').describe()"
   ]
  },
  {
   "cell_type": "code",
   "execution_count": 13,
   "metadata": {
    "execution": {
     "iopub.execute_input": "2023-08-31T03:02:09.632911Z",
     "iopub.status.busy": "2023-08-31T03:02:09.632494Z",
     "iopub.status.idle": "2023-08-31T03:02:10.246775Z",
     "shell.execute_reply": "2023-08-31T03:02:10.245596Z",
     "shell.execute_reply.started": "2023-08-31T03:02:09.632869Z"
    }
   },
   "outputs": [
    {
     "data": {
      "text/plain": [
       "array([<Axes: title={'center': '0'}>, <Axes: title={'center': '1'}>],\n",
       "      dtype=object)"
      ]
     },
     "execution_count": 13,
     "metadata": {},
     "output_type": "execute_result"
    },
    {
     "data": {
      "image/png": "[encoded data removed]",
      "text/plain": [
       "<Figure size 1200x400 with 2 Axes>"
      ]
     },
     "metadata": {},
     "output_type": "display_data"
    }
   ],
   "source": [
    "data_copy.hist(column='email_length', by='label', bins=20, figsize=(12,4), range=[0,25000])"
   ]
  },
  {
   "cell_type": "markdown",
   "metadata": {},
   "source": [
    "#### What are the most popular words in spam emails vs non-spam emails?"
   ]
  },
  {
   "cell_type": "code",
   "execution_count": 14,
   "metadata": {
    "execution": {
     "iopub.execute_input": "2023-08-31T03:02:13.749233Z",
     "iopub.status.busy": "2023-08-31T03:02:13.748081Z",
     "iopub.status.idle": "2023-08-31T03:02:14.723646Z",
     "shell.execute_reply": "2023-08-31T03:02:14.722382Z",
     "shell.execute_reply.started": "2023-08-31T03:02:13.749190Z"
    }
   },
   "outputs": [],
   "source": [
    "import string\n",
    "from nltk.corpus import stopwords\n",
    "\n",
    "def process_email(email):\n",
    "    \"\"\"\n",
    "    1. Remove punctuation\n",
    "    2. Remove stop words\n",
    "    3. Remove list of clean words\n",
    "    \"\"\"\n",
    "    nopunc = [c for c in email if c not in string.punctuation]\n",
    "    nopunc = ''.join(nopunc)\n",
    "    return [word for word in nopunc.split() if word.lower() not in stopwords.words('english')]"
   ]
  },
  {
   "cell_type": "code",
   "execution_count": 15,
   "metadata": {
    "execution": {
     "iopub.execute_input": "2023-08-31T03:02:16.460962Z",
     "iopub.status.busy": "2023-08-31T03:02:16.460518Z",
     "iopub.status.idle": "2023-08-31T03:03:55.241742Z",
     "shell.execute_reply": "2023-08-31T03:03:55.240776Z",
     "shell.execute_reply.started": "2023-08-31T03:02:16.460923Z"
    }
   },
   "outputs": [],
   "source": [
    "data_copy['email'] = data_copy['email'].apply(process_email)"
   ]
  },
  {
   "cell_type": "code",
   "execution_count": 17,
   "metadata": {
    "execution": {
     "iopub.execute_input": "2023-08-31T03:05:01.522135Z",
     "iopub.status.busy": "2023-08-31T03:05:01.521688Z",
     "iopub.status.idle": "2023-08-31T03:05:01.539254Z",
     "shell.execute_reply": "2023-08-31T03:05:01.538427Z",
     "shell.execute_reply.started": "2023-08-31T03:05:01.522100Z"
    }
   },
   "outputs": [
    {
     "data": {
      "text/html": [
       "<div>\n",
       "<style scoped>\n",
       "    .dataframe tbody tr th:only-of-type {\n",
       "        vertical-align: middle;\n",
       "    }\n",
       "\n",
       "    .dataframe tbody tr th {\n",
       "        vertical-align: top;\n",
       "    }\n",
       "\n",
       "    .dataframe thead th {\n",
       "        text-align: right;\n",
       "    }\n",
       "</style>\n",
       "<table border=\"1\" class=\"dataframe\">\n",
       "  <thead>\n",
       "    <tr style=\"text-align: right;\">\n",
       "      <th></th>\n",
       "      <th>email</th>\n",
       "      <th>label</th>\n",
       "      <th>email_length</th>\n",
       "    </tr>\n",
       "  </thead>\n",
       "  <tbody>\n",
       "    <tr>\n",
       "      <th>0</th>\n",
       "      <td>[date, wed, NUMBER, aug, NUMBER, NUMBER, NUMBE...</td>\n",
       "      <td>0</td>\n",
       "      <td>1522</td>\n",
       "    </tr>\n",
       "    <tr>\n",
       "      <th>1</th>\n",
       "      <td>[martin, posted, tassos, papadopoulos, greek, ...</td>\n",
       "      <td>0</td>\n",
       "      <td>643</td>\n",
       "    </tr>\n",
       "    <tr>\n",
       "      <th>2</th>\n",
       "      <td>[man, threatens, explosion, moscow, thursday, ...</td>\n",
       "      <td>0</td>\n",
       "      <td>1509</td>\n",
       "    </tr>\n",
       "    <tr>\n",
       "      <th>3</th>\n",
       "      <td>[klez, virus, die, already, prolific, virus, e...</td>\n",
       "      <td>0</td>\n",
       "      <td>1015</td>\n",
       "    </tr>\n",
       "    <tr>\n",
       "      <th>4</th>\n",
       "      <td>[adding, cream, spaghetti, carbonara, effect, ...</td>\n",
       "      <td>0</td>\n",
       "      <td>771</td>\n",
       "    </tr>\n",
       "  </tbody>\n",
       "</table>\n",
       "</div>"
      ],
      "text/plain": [
       "                                               email  label  email_length\n",
       "0  [date, wed, NUMBER, aug, NUMBER, NUMBER, NUMBE...      0          1522\n",
       "1  [martin, posted, tassos, papadopoulos, greek, ...      0           643\n",
       "2  [man, threatens, explosion, moscow, thursday, ...      0          1509\n",
       "3  [klez, virus, die, already, prolific, virus, e...      0          1015\n",
       "4  [adding, cream, spaghetti, carbonara, effect, ...      0           771"
      ]
     },
     "execution_count": 17,
     "metadata": {},
     "output_type": "execute_result"
    }
   ],
   "source": [
    "data_copy.head()"
   ]
  },
  {
   "cell_type": "code",
   "execution_count": 16,
   "metadata": {
    "execution": {
     "iopub.execute_input": "2023-08-31T03:04:38.946499Z",
     "iopub.status.busy": "2023-08-31T03:04:38.945357Z",
     "iopub.status.idle": "2023-08-31T03:04:39.079343Z",
     "shell.execute_reply": "2023-08-31T03:04:39.077698Z",
     "shell.execute_reply.started": "2023-08-31T03:04:38.946455Z"
    }
   },
   "outputs": [
    {
     "ename": "TypeError",
     "evalue": "sequence item 0: expected str instance, list found",
     "output_type": "error",
     "traceback": [
      "\u001b[0;31m---------------------------------------------------------------------------\u001b[0m",
      "\u001b[0;31mTypeError\u001b[0m                                 Traceback (most recent call last)",
      "Cell \u001b[0;32mIn[16], line 3\u001b[0m\n\u001b[1;32m      1\u001b[0m \u001b[38;5;28;01mfrom\u001b[39;00m \u001b[38;5;21;01mcollections\u001b[39;00m \u001b[38;5;28;01mimport\u001b[39;00m Counter\n\u001b[0;32m----> 3\u001b[0m spam_string \u001b[38;5;241m=\u001b[39m \u001b[38;5;124;43m\"\u001b[39;49m\u001b[38;5;124;43m \u001b[39;49m\u001b[38;5;124;43m\"\u001b[39;49m\u001b[38;5;241;43m.\u001b[39;49m\u001b[43mjoin\u001b[49m\u001b[43m(\u001b[49m\u001b[43mdata_copy\u001b[49m\u001b[43m[\u001b[49m\u001b[38;5;124;43m\"\u001b[39;49m\u001b[38;5;124;43memail\u001b[39;49m\u001b[38;5;124;43m\"\u001b[39;49m\u001b[43m]\u001b[49m\u001b[38;5;241;43m.\u001b[39;49m\u001b[43mtolist\u001b[49m\u001b[43m(\u001b[49m\u001b[43m)\u001b[49m\u001b[43m)\u001b[49m\n\u001b[1;32m      5\u001b[0m spam_words \u001b[38;5;241m=\u001b[39m spam_string\u001b[38;5;241m.\u001b[39msplit()\n\u001b[1;32m      7\u001b[0m spam_words_count \u001b[38;5;241m=\u001b[39m Counter(spam_words)\n",
      "\u001b[0;31mTypeError\u001b[0m: sequence item 0: expected str instance, list found"
     ]
    }
   ],
   "source": [
    "from collections import Counter\n",
    "\n",
    "spam_string = \" \".join(data_copy[\"email\"].tolist())\n",
    "\n",
    "spam_words = spam_string.split()\n",
    "\n",
    "spam_words_count = Counter(spam_words)\n",
    "\n",
    "most_common_words = spam_words_count.most_common(100)\n",
    "\n",
    "for word, count in most_common_words:\n",
    "    print(f\"{word}: {count}\")"
   ]
  },
  {
   "cell_type": "markdown",
   "metadata": {},
   "source": [
    "### 🧑🏻‍💻 Prepare Data"
   ]
  },
  {
   "cell_type": "markdown",
   "metadata": {},
   "source": [
    "### 💻 Select & Train Models"
   ]
  },
  {
   "cell_type": "markdown",
   "metadata": {},
   "source": [
    "### 📈 Fine-Tune Models"
   ]
  },
  {
   "cell_type": "markdown",
   "metadata": {},
   "source": [
    "### 🌎 Predict Test Data"
   ]
  },
  {
   "cell_type": "code",
   "execution_count": null,
   "metadata": {},
   "outputs": [],
   "source": []
  }
 ],
 "metadata": {
  "kernelspec": {
   "display_name": "Python 3",
   "language": "python",
   "name": "python3"
  },
  "language_info": {
   "codemirror_mode": {
    "name": "ipython",
    "version": 3
   },
   "file_extension": ".py",
   "mimetype": "text/x-python",
   "name": "python",
   "nbconvert_exporter": "python",
   "pygments_lexer": "ipython3",
   "version": "3.10.12"
  }
 },
 "nbformat": 4,
 "nbformat_minor": 4
}
