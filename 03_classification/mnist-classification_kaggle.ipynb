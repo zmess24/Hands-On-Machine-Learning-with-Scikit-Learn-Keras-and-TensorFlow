{
 "cells": [
  {
   "cell_type": "markdown",
   "metadata": {},
   "source": [
    "## ☀️ Import Libraries"
   ]
  },
  {
   "cell_type": "code",
   "execution_count": 3,
   "metadata": {
    "execution": {
     "iopub.execute_input": "2023-08-26T17:51:35.657624Z",
     "iopub.status.busy": "2023-08-26T17:51:35.657229Z",
     "iopub.status.idle": "2023-08-26T17:51:35.999753Z",
     "shell.execute_reply": "2023-08-26T17:51:35.998653Z",
     "shell.execute_reply.started": "2023-08-26T17:51:35.657592Z"
    }
   },
   "outputs": [],
   "source": [
    "import pandas as pd\n",
    "import numpy as np\n",
    "\n",
    "import matplotlib.pyplot as plt\n",
    "import seaborn as sns\n",
    "%matplotlib inline"
   ]
  },
  {
   "cell_type": "markdown",
   "metadata": {},
   "source": [
    "## ✏️ Frame the Problem"
   ]
  },
  {
   "cell_type": "markdown",
   "metadata": {},
   "source": [
    "The goal of this project is to create a classifier that has greater than 10% accuracy when it comes to correctly classfying an image from the MNIST dataset."
   ]
  },
  {
   "cell_type": "code",
   "execution_count": 4,
   "metadata": {
    "execution": {
     "iopub.execute_input": "2023-08-26T17:51:47.158628Z",
     "iopub.status.busy": "2023-08-26T17:51:47.157178Z",
     "iopub.status.idle": "2023-08-26T17:51:53.910066Z",
     "shell.execute_reply": "2023-08-26T17:51:53.909089Z",
     "shell.execute_reply.started": "2023-08-26T17:51:47.158581Z"
    }
   },
   "outputs": [],
   "source": [
    "data_train = pd.read_csv(\"/kaggle/input/digit-recognizer/train.csv\")\n",
    "data_test = pd.read_csv(\"/kaggle/input/digit-recognizer/test.csv\")"
   ]
  },
  {
   "cell_type": "code",
   "execution_count": 5,
   "metadata": {
    "execution": {
     "iopub.execute_input": "2023-08-26T17:51:53.912262Z",
     "iopub.status.busy": "2023-08-26T17:51:53.911793Z",
     "iopub.status.idle": "2023-08-26T17:51:53.918990Z",
     "shell.execute_reply": "2023-08-26T17:51:53.917707Z",
     "shell.execute_reply.started": "2023-08-26T17:51:53.912230Z"
    }
   },
   "outputs": [
    {
     "name": "stdout",
     "output_type": "stream",
     "text": [
      " Training Data: 42000 | 0.6\n",
      " Test Data: 28000 | 0.4\n"
     ]
    }
   ],
   "source": [
    "total_length = len(data_train) + len(data_test)\n",
    "\n",
    "print(f\" Training Data: {len(data_train)} | {len(data_train) / total_length}\")\n",
    "print(f\" Test Data: {len(data_test)} | {len(data_test) / total_length}\")"
   ]
  },
  {
   "cell_type": "code",
   "execution_count": 6,
   "metadata": {
    "execution": {
     "iopub.execute_input": "2023-08-26T17:51:56.641900Z",
     "iopub.status.busy": "2023-08-26T17:51:56.641486Z",
     "iopub.status.idle": "2023-08-26T17:51:56.671676Z",
     "shell.execute_reply": "2023-08-26T17:51:56.670442Z",
     "shell.execute_reply.started": "2023-08-26T17:51:56.641864Z"
    }
   },
   "outputs": [
    {
     "data": {
      "text/html": [
       "<div>\n",
       "<style scoped>\n",
       "    .dataframe tbody tr th:only-of-type {\n",
       "        vertical-align: middle;\n",
       "    }\n",
       "\n",
       "    .dataframe tbody tr th {\n",
       "        vertical-align: top;\n",
       "    }\n",
       "\n",
       "    .dataframe thead th {\n",
       "        text-align: right;\n",
       "    }\n",
       "</style>\n",
       "<table border=\"1\" class=\"dataframe\">\n",
       "  <thead>\n",
       "    <tr style=\"text-align: right;\">\n",
       "      <th></th>\n",
       "      <th>label</th>\n",
       "      <th>pixel0</th>\n",
       "      <th>pixel1</th>\n",
       "      <th>pixel2</th>\n",
       "      <th>pixel3</th>\n",
       "      <th>pixel4</th>\n",
       "      <th>pixel5</th>\n",
       "      <th>pixel6</th>\n",
       "      <th>pixel7</th>\n",
       "      <th>pixel8</th>\n",
       "      <th>...</th>\n",
       "      <th>pixel774</th>\n",
       "      <th>pixel775</th>\n",
       "      <th>pixel776</th>\n",
       "      <th>pixel777</th>\n",
       "      <th>pixel778</th>\n",
       "      <th>pixel779</th>\n",
       "      <th>pixel780</th>\n",
       "      <th>pixel781</th>\n",
       "      <th>pixel782</th>\n",
       "      <th>pixel783</th>\n",
       "    </tr>\n",
       "  </thead>\n",
       "  <tbody>\n",
       "    <tr>\n",
       "      <th>0</th>\n",
       "      <td>1</td>\n",
       "      <td>0</td>\n",
       "      <td>0</td>\n",
       "      <td>0</td>\n",
       "      <td>0</td>\n",
       "      <td>0</td>\n",
       "      <td>0</td>\n",
       "      <td>0</td>\n",
       "      <td>0</td>\n",
       "      <td>0</td>\n",
       "      <td>...</td>\n",
       "      <td>0</td>\n",
       "      <td>0</td>\n",
       "      <td>0</td>\n",
       "      <td>0</td>\n",
       "      <td>0</td>\n",
       "      <td>0</td>\n",
       "      <td>0</td>\n",
       "      <td>0</td>\n",
       "      <td>0</td>\n",
       "      <td>0</td>\n",
       "    </tr>\n",
       "    <tr>\n",
       "      <th>1</th>\n",
       "      <td>0</td>\n",
       "      <td>0</td>\n",
       "      <td>0</td>\n",
       "      <td>0</td>\n",
       "      <td>0</td>\n",
       "      <td>0</td>\n",
       "      <td>0</td>\n",
       "      <td>0</td>\n",
       "      <td>0</td>\n",
       "      <td>0</td>\n",
       "      <td>...</td>\n",
       "      <td>0</td>\n",
       "      <td>0</td>\n",
       "      <td>0</td>\n",
       "      <td>0</td>\n",
       "      <td>0</td>\n",
       "      <td>0</td>\n",
       "      <td>0</td>\n",
       "      <td>0</td>\n",
       "      <td>0</td>\n",
       "      <td>0</td>\n",
       "    </tr>\n",
       "    <tr>\n",
       "      <th>2</th>\n",
       "      <td>1</td>\n",
       "      <td>0</td>\n",
       "      <td>0</td>\n",
       "      <td>0</td>\n",
       "      <td>0</td>\n",
       "      <td>0</td>\n",
       "      <td>0</td>\n",
       "      <td>0</td>\n",
       "      <td>0</td>\n",
       "      <td>0</td>\n",
       "      <td>...</td>\n",
       "      <td>0</td>\n",
       "      <td>0</td>\n",
       "      <td>0</td>\n",
       "      <td>0</td>\n",
       "      <td>0</td>\n",
       "      <td>0</td>\n",
       "      <td>0</td>\n",
       "      <td>0</td>\n",
       "      <td>0</td>\n",
       "      <td>0</td>\n",
       "    </tr>\n",
       "    <tr>\n",
       "      <th>3</th>\n",
       "      <td>4</td>\n",
       "      <td>0</td>\n",
       "      <td>0</td>\n",
       "      <td>0</td>\n",
       "      <td>0</td>\n",
       "      <td>0</td>\n",
       "      <td>0</td>\n",
       "      <td>0</td>\n",
       "      <td>0</td>\n",
       "      <td>0</td>\n",
       "      <td>...</td>\n",
       "      <td>0</td>\n",
       "      <td>0</td>\n",
       "      <td>0</td>\n",
       "      <td>0</td>\n",
       "      <td>0</td>\n",
       "      <td>0</td>\n",
       "      <td>0</td>\n",
       "      <td>0</td>\n",
       "      <td>0</td>\n",
       "      <td>0</td>\n",
       "    </tr>\n",
       "    <tr>\n",
       "      <th>4</th>\n",
       "      <td>0</td>\n",
       "      <td>0</td>\n",
       "      <td>0</td>\n",
       "      <td>0</td>\n",
       "      <td>0</td>\n",
       "      <td>0</td>\n",
       "      <td>0</td>\n",
       "      <td>0</td>\n",
       "      <td>0</td>\n",
       "      <td>0</td>\n",
       "      <td>...</td>\n",
       "      <td>0</td>\n",
       "      <td>0</td>\n",
       "      <td>0</td>\n",
       "      <td>0</td>\n",
       "      <td>0</td>\n",
       "      <td>0</td>\n",
       "      <td>0</td>\n",
       "      <td>0</td>\n",
       "      <td>0</td>\n",
       "      <td>0</td>\n",
       "    </tr>\n",
       "  </tbody>\n",
       "</table>\n",
       "<p>5 rows × 785 columns</p>\n",
       "</div>"
      ],
      "text/plain": [
       "   label  pixel0  pixel1  pixel2  pixel3  pixel4  pixel5  pixel6  pixel7  \\\n",
       "0      1       0       0       0       0       0       0       0       0   \n",
       "1      0       0       0       0       0       0       0       0       0   \n",
       "2      1       0       0       0       0       0       0       0       0   \n",
       "3      4       0       0       0       0       0       0       0       0   \n",
       "4      0       0       0       0       0       0       0       0       0   \n",
       "\n",
       "   pixel8  ...  pixel774  pixel775  pixel776  pixel777  pixel778  pixel779  \\\n",
       "0       0  ...         0         0         0         0         0         0   \n",
       "1       0  ...         0         0         0         0         0         0   \n",
       "2       0  ...         0         0         0         0         0         0   \n",
       "3       0  ...         0         0         0         0         0         0   \n",
       "4       0  ...         0         0         0         0         0         0   \n",
       "\n",
       "   pixel780  pixel781  pixel782  pixel783  \n",
       "0         0         0         0         0  \n",
       "1         0         0         0         0  \n",
       "2         0         0         0         0  \n",
       "3         0         0         0         0  \n",
       "4         0         0         0         0  \n",
       "\n",
       "[5 rows x 785 columns]"
      ]
     },
     "execution_count": 6,
     "metadata": {},
     "output_type": "execute_result"
    }
   ],
   "source": [
    "data_train.head()"
   ]
  },
  {
   "cell_type": "code",
   "execution_count": 7,
   "metadata": {
    "execution": {
     "iopub.execute_input": "2023-08-26T17:51:58.775145Z",
     "iopub.status.busy": "2023-08-26T17:51:58.774712Z",
     "iopub.status.idle": "2023-08-26T17:51:58.783508Z",
     "shell.execute_reply": "2023-08-26T17:51:58.782019Z",
     "shell.execute_reply.started": "2023-08-26T17:51:58.775096Z"
    }
   },
   "outputs": [
    {
     "data": {
      "text/plain": [
       "(42000, 785)"
      ]
     },
     "execution_count": 7,
     "metadata": {},
     "output_type": "execute_result"
    }
   ],
   "source": [
    "data_train.shape"
   ]
  },
  {
   "cell_type": "code",
   "execution_count": 8,
   "metadata": {
    "execution": {
     "iopub.execute_input": "2023-08-26T17:52:00.447918Z",
     "iopub.status.busy": "2023-08-26T17:52:00.447315Z",
     "iopub.status.idle": "2023-08-26T17:52:00.454023Z",
     "shell.execute_reply": "2023-08-26T17:52:00.453214Z",
     "shell.execute_reply.started": "2023-08-26T17:52:00.447885Z"
    }
   },
   "outputs": [
    {
     "data": {
      "text/plain": [
       "Index(['label', 'pixel0', 'pixel1', 'pixel2', 'pixel3', 'pixel4', 'pixel5',\n",
       "       'pixel6', 'pixel7', 'pixel8',\n",
       "       ...\n",
       "       'pixel774', 'pixel775', 'pixel776', 'pixel777', 'pixel778', 'pixel779',\n",
       "       'pixel780', 'pixel781', 'pixel782', 'pixel783'],\n",
       "      dtype='object', length=785)"
      ]
     },
     "execution_count": 8,
     "metadata": {},
     "output_type": "execute_result"
    }
   ],
   "source": [
    "data_train.keys()"
   ]
  },
  {
   "cell_type": "code",
   "execution_count": 9,
   "metadata": {
    "execution": {
     "iopub.execute_input": "2023-08-26T17:52:02.785933Z",
     "iopub.status.busy": "2023-08-26T17:52:02.785506Z",
     "iopub.status.idle": "2023-08-26T17:52:02.919886Z",
     "shell.execute_reply": "2023-08-26T17:52:02.918265Z",
     "shell.execute_reply.started": "2023-08-26T17:52:02.785889Z"
    }
   },
   "outputs": [],
   "source": [
    "X = data_train.drop('label', axis=1)\n",
    "y = data_train['label']"
   ]
  },
  {
   "cell_type": "markdown",
   "metadata": {},
   "source": [
    "##  📊 EDA"
   ]
  },
  {
   "cell_type": "code",
   "execution_count": 10,
   "metadata": {
    "execution": {
     "iopub.execute_input": "2023-08-26T17:52:05.040429Z",
     "iopub.status.busy": "2023-08-26T17:52:05.039990Z",
     "iopub.status.idle": "2023-08-26T17:52:05.052231Z",
     "shell.execute_reply": "2023-08-26T17:52:05.050920Z",
     "shell.execute_reply.started": "2023-08-26T17:52:05.040391Z"
    }
   },
   "outputs": [
    {
     "name": "stdout",
     "output_type": "stream",
     "text": [
      "Value Counts:\n",
      "1    4684\n",
      "7    4401\n",
      "3    4351\n",
      "9    4188\n",
      "2    4177\n",
      "6    4137\n",
      "0    4132\n",
      "4    4072\n",
      "8    4063\n",
      "5    3795\n",
      "Name: label, dtype: int64\n"
     ]
    }
   ],
   "source": [
    "print(\"Value Counts:\")\n",
    "print(data_train['label'].value_counts())"
   ]
  },
  {
   "cell_type": "code",
   "execution_count": 11,
   "metadata": {
    "execution": {
     "iopub.execute_input": "2023-08-26T17:52:06.691930Z",
     "iopub.status.busy": "2023-08-26T17:52:06.691202Z",
     "iopub.status.idle": "2023-08-26T17:52:06.702396Z",
     "shell.execute_reply": "2023-08-26T17:52:06.701282Z",
     "shell.execute_reply.started": "2023-08-26T17:52:06.691886Z"
    }
   },
   "outputs": [
    {
     "name": "stdout",
     "output_type": "stream",
     "text": [
      "Value Counts Distribution by Percentage:\n",
      "1    11.152381\n",
      "7    10.478571\n",
      "3    10.359524\n",
      "9     9.971429\n",
      "2     9.945238\n",
      "6     9.850000\n",
      "0     9.838095\n",
      "4     9.695238\n",
      "8     9.673810\n",
      "5     9.035714\n",
      "Name: label, dtype: float64\n"
     ]
    }
   ],
   "source": [
    "print(\"Value Counts Distribution by Percentage:\")\n",
    "print((data_train['label'].value_counts() / len(data_train)) * 100)"
   ]
  },
  {
   "cell_type": "code",
   "execution_count": 12,
   "metadata": {
    "execution": {
     "iopub.execute_input": "2023-08-26T17:52:08.211614Z",
     "iopub.status.busy": "2023-08-26T17:52:08.211243Z",
     "iopub.status.idle": "2023-08-26T17:52:08.543691Z",
     "shell.execute_reply": "2023-08-26T17:52:08.542530Z",
     "shell.execute_reply.started": "2023-08-26T17:52:08.211576Z"
    }
   },
   "outputs": [
    {
     "data": {
      "text/plain": [
       "<Axes: xlabel='label', ylabel='count'>"
      ]
     },
     "execution_count": 12,
     "metadata": {},
     "output_type": "execute_result"
    },
    {
     "data": {
      "image/png": "[encoded data removed]",
      "text/plain": [
       "<Figure size 640x480 with 1 Axes>"
      ]
     },
     "metadata": {},
     "output_type": "display_data"
    }
   ],
   "source": [
    "sns.countplot(x=y)"
   ]
  },
  {
   "cell_type": "code",
   "execution_count": 13,
   "metadata": {
    "execution": {
     "iopub.execute_input": "2023-08-26T17:52:10.968600Z",
     "iopub.status.busy": "2023-08-26T17:52:10.968191Z",
     "iopub.status.idle": "2023-08-26T17:52:11.245013Z",
     "shell.execute_reply": "2023-08-26T17:52:11.243917Z",
     "shell.execute_reply.started": "2023-08-26T17:52:10.968565Z"
    }
   },
   "outputs": [
    {
     "data": {
      "text/plain": [
       "<matplotlib.image.AxesImage at 0x7cc9fb72c7c0>"
      ]
     },
     "execution_count": 13,
     "metadata": {},
     "output_type": "execute_result"
    },
    {
     "data": {
      "image/png": "[encoded data removed]",
      "text/plain": [
       "<Figure size 1500x400 with 1 Axes>"
      ]
     },
     "metadata": {},
     "output_type": "display_data"
    }
   ],
   "source": [
    "plt.figure(figsize=(15,4))\n",
    "\n",
    "some_digit = X[0:1]\n",
    "some_digit_image = some_digit.values.reshape(28,28)\n",
    "plt.imshow(some_digit_image, cmap=\"gray\")"
   ]
  },
  {
   "cell_type": "code",
   "execution_count": 15,
   "metadata": {
    "execution": {
     "iopub.execute_input": "2023-08-26T17:52:17.231253Z",
     "iopub.status.busy": "2023-08-26T17:52:17.230799Z",
     "iopub.status.idle": "2023-08-26T17:52:17.237310Z",
     "shell.execute_reply": "2023-08-26T17:52:17.236193Z",
     "shell.execute_reply.started": "2023-08-26T17:52:17.231208Z"
    }
   },
   "outputs": [
    {
     "name": "stdout",
     "output_type": "stream",
     "text": [
      "Label 1\n"
     ]
    }
   ],
   "source": [
    "print(f\"Label {y[0]}\")"
   ]
  },
  {
   "cell_type": "markdown",
   "metadata": {},
   "source": [
    "## 🧑🏻‍💻 Prepare Data"
   ]
  },
  {
   "cell_type": "code",
   "execution_count": 16,
   "metadata": {
    "execution": {
     "iopub.execute_input": "2023-08-26T17:52:19.138285Z",
     "iopub.status.busy": "2023-08-26T17:52:19.136706Z",
     "iopub.status.idle": "2023-08-26T17:52:19.398859Z",
     "shell.execute_reply": "2023-08-26T17:52:19.397709Z",
     "shell.execute_reply.started": "2023-08-26T17:52:19.138220Z"
    }
   },
   "outputs": [],
   "source": [
    "from sklearn.model_selection import train_test_split\n",
    "\n",
    "X_train, X_val, y_train, y_val = train_test_split(X, y, test_size=0.1, random_state=42)"
   ]
  },
  {
   "cell_type": "markdown",
   "metadata": {},
   "source": [
    "##  💻 Select & Train Models"
   ]
  },
  {
   "cell_type": "code",
   "execution_count": 17,
   "metadata": {
    "execution": {
     "iopub.execute_input": "2023-08-26T17:52:24.346704Z",
     "iopub.status.busy": "2023-08-26T17:52:24.346278Z",
     "iopub.status.idle": "2023-08-26T17:52:32.135707Z",
     "shell.execute_reply": "2023-08-26T17:52:32.134667Z",
     "shell.execute_reply.started": "2023-08-26T17:52:24.346673Z"
    }
   },
   "outputs": [],
   "source": [
    "from sklearn.neighbors import KNeighborsClassifier\n",
    "\n",
    "knn = KNeighborsClassifier(n_neighbors=5, weights=\"uniform\")\n",
    "knn.fit(X_train, y_train)\n",
    "\n",
    "predictions = knn.predict(X_val)"
   ]
  },
  {
   "cell_type": "code",
   "execution_count": 28,
   "metadata": {
    "execution": {
     "iopub.execute_input": "2023-08-26T18:37:02.086105Z",
     "iopub.status.busy": "2023-08-26T18:37:02.085676Z",
     "iopub.status.idle": "2023-08-26T18:37:02.092988Z",
     "shell.execute_reply": "2023-08-26T18:37:02.091451Z",
     "shell.execute_reply.started": "2023-08-26T18:37:02.086071Z"
    }
   },
   "outputs": [],
   "source": [
    "from sklearn.metrics import classification_report, confusion_matrix\n",
    "\n",
    "def print_accuracy_reports(predictions, labels):\n",
    "    print(\"Confusion Matrix:\")\n",
    "    print(\"\")\n",
    "    print(confusion_matrix(y_val, predictions))\n",
    "    print(\"\")\n",
    "    print(\"Classification Report:\")\n",
    "    print(\"\")\n",
    "    print(classification_report(y_val, predictions))"
   ]
  },
  {
   "cell_type": "code",
   "execution_count": 29,
   "metadata": {
    "execution": {
     "iopub.execute_input": "2023-08-26T18:37:04.298726Z",
     "iopub.status.busy": "2023-08-26T18:37:04.298276Z",
     "iopub.status.idle": "2023-08-26T18:37:04.325290Z",
     "shell.execute_reply": "2023-08-26T18:37:04.324195Z",
     "shell.execute_reply.started": "2023-08-26T18:37:04.298693Z"
    }
   },
   "outputs": [
    {
     "name": "stdout",
     "output_type": "stream",
     "text": [
      "Confusion Matrix:\n",
      "\n",
      "[[407   0   0   0   0   0   1   0   0   0]\n",
      " [  0 470   0   0   0   0   1   0   0   0]\n",
      " [  3   5 405   0   1   0   1   4   0   1]\n",
      " [  0   2   3 485   0   6   0   4   4   2]\n",
      " [  0   1   0   0 383   0   1   1   0  11]\n",
      " [  0   0   0   3   0 329   4   0   2   1]\n",
      " [  3   0   0   0   0   2 397   0   0   0]\n",
      " [  0   9   2   0   0   0   0 423   0   4]\n",
      " [  0   4   2   5   1  10   3   1 373   4]\n",
      " [  1   1   1   5   1   0   0   7   0 400]]\n",
      "\n",
      "Classification Report:\n",
      "\n",
      "              precision    recall  f1-score   support\n",
      "\n",
      "           0       0.98      1.00      0.99       408\n",
      "           1       0.96      1.00      0.98       471\n",
      "           2       0.98      0.96      0.97       420\n",
      "           3       0.97      0.96      0.97       506\n",
      "           4       0.99      0.96      0.98       397\n",
      "           5       0.95      0.97      0.96       339\n",
      "           6       0.97      0.99      0.98       402\n",
      "           7       0.96      0.97      0.96       438\n",
      "           8       0.98      0.93      0.95       403\n",
      "           9       0.95      0.96      0.95       416\n",
      "\n",
      "    accuracy                           0.97      4200\n",
      "   macro avg       0.97      0.97      0.97      4200\n",
      "weighted avg       0.97      0.97      0.97      4200\n",
      "\n"
     ]
    }
   ],
   "source": [
    "print_accuracy_reports(predictions, y_val)"
   ]
  },
  {
   "cell_type": "markdown",
   "metadata": {},
   "source": [
    "##  📈 Fine-Tune Models"
   ]
  },
  {
   "cell_type": "code",
   "execution_count": 20,
   "metadata": {
    "execution": {
     "iopub.execute_input": "2023-08-26T17:52:49.796774Z",
     "iopub.status.busy": "2023-08-26T17:52:49.796335Z",
     "iopub.status.idle": "2023-08-26T18:25:36.106292Z",
     "shell.execute_reply": "2023-08-26T18:25:36.105172Z",
     "shell.execute_reply.started": "2023-08-26T17:52:49.796736Z"
    }
   },
   "outputs": [
    {
     "name": "stdout",
     "output_type": "stream",
     "text": [
      "Fitting 3 folds for each of 16 candidates, totalling 48 fits\n"
     ]
    },
    {
     "data": {
      "text/html": [
       "<style>#sk-container-id-1 {color: black;background-color: white;}#sk-container-id-1 pre{padding: 0;}#sk-container-id-1 div.sk-toggleable {background-color: white;}#sk-container-id-1 label.sk-toggleable__label {cursor: pointer;display: block;width: 100%;margin-bottom: 0;padding: 0.3em;box-sizing: border-box;text-align: center;}#sk-container-id-1 label.sk-toggleable__label-arrow:before {content: \"▸\";float: left;margin-right: 0.25em;color: #696969;}#sk-container-id-1 label.sk-toggleable__label-arrow:hover:before {color: black;}#sk-container-id-1 div.sk-estimator:hover label.sk-toggleable__label-arrow:before {color: black;}#sk-container-id-1 div.sk-toggleable__content {max-height: 0;max-width: 0;overflow: hidden;text-align: left;background-color: #f0f8ff;}#sk-container-id-1 div.sk-toggleable__content pre {margin: 0.2em;color: black;border-radius: 0.25em;background-color: #f0f8ff;}#sk-container-id-1 input.sk-toggleable__control:checked~div.sk-toggleable__content {max-height: 200px;max-width: 100%;overflow: auto;}#sk-container-id-1 input.sk-toggleable__control:checked~label.sk-toggleable__label-arrow:before {content: \"▾\";}#sk-container-id-1 div.sk-estimator input.sk-toggleable__control:checked~label.sk-toggleable__label {background-color: #d4ebff;}#sk-container-id-1 div.sk-label input.sk-toggleable__control:checked~label.sk-toggleable__label {background-color: #d4ebff;}#sk-container-id-1 input.sk-hidden--visually {border: 0;clip: rect(1px 1px 1px 1px);clip: rect(1px, 1px, 1px, 1px);height: 1px;margin: -1px;overflow: hidden;padding: 0;position: absolute;width: 1px;}#sk-container-id-1 div.sk-estimator {font-family: monospace;background-color: #f0f8ff;border: 1px dotted black;border-radius: 0.25em;box-sizing: border-box;margin-bottom: 0.5em;}#sk-container-id-1 div.sk-estimator:hover {background-color: #d4ebff;}#sk-container-id-1 div.sk-parallel-item::after {content: \"\";width: 100%;border-bottom: 1px solid gray;flex-grow: 1;}#sk-container-id-1 div.sk-label:hover label.sk-toggleable__label {background-color: #d4ebff;}#sk-container-id-1 div.sk-serial::before {content: \"\";position: absolute;border-left: 1px solid gray;box-sizing: border-box;top: 0;bottom: 0;left: 50%;z-index: 0;}#sk-container-id-1 div.sk-serial {display: flex;flex-direction: column;align-items: center;background-color: white;padding-right: 0.2em;padding-left: 0.2em;position: relative;}#sk-container-id-1 div.sk-item {position: relative;z-index: 1;}#sk-container-id-1 div.sk-parallel {display: flex;align-items: stretch;justify-content: center;background-color: white;position: relative;}#sk-container-id-1 div.sk-item::before, #sk-container-id-1 div.sk-parallel-item::before {content: \"\";position: absolute;border-left: 1px solid gray;box-sizing: border-box;top: 0;bottom: 0;left: 50%;z-index: -1;}#sk-container-id-1 div.sk-parallel-item {display: flex;flex-direction: column;z-index: 1;position: relative;background-color: white;}#sk-container-id-1 div.sk-parallel-item:first-child::after {align-self: flex-end;width: 50%;}#sk-container-id-1 div.sk-parallel-item:last-child::after {align-self: flex-start;width: 50%;}#sk-container-id-1 div.sk-parallel-item:only-child::after {width: 0;}#sk-container-id-1 div.sk-dashed-wrapped {border: 1px dashed gray;margin: 0 0.4em 0.5em 0.4em;box-sizing: border-box;padding-bottom: 0.4em;background-color: white;}#sk-container-id-1 div.sk-label label {font-family: monospace;font-weight: bold;display: inline-block;line-height: 1.2em;}#sk-container-id-1 div.sk-label-container {text-align: center;}#sk-container-id-1 div.sk-container {/* jupyter's `normalize.less` sets `[hidden] { display: none; }` but bootstrap.min.css set `[hidden] { display: none !important; }` so we also need the `!important` here to be able to override the default hidden behavior on the sphinx rendered scikit-learn.org. See: https://github.com/scikit-learn/scikit-learn/issues/21755 */display: inline-block !important;position: relative;}#sk-container-id-1 div.sk-text-repr-fallback {display: none;}</style><div id=\"sk-container-id-1\" class=\"sk-top-container\"><div class=\"sk-text-repr-fallback\"><pre>GridSearchCV(cv=3, estimator=KNeighborsClassifier(),\n",
       "             param_grid={&#x27;n_neighbors&#x27;: [1, 3, 5, 7, 9, 11, 13, 15],\n",
       "                         &#x27;weights&#x27;: [&#x27;uniform&#x27;, &#x27;distance&#x27;]},\n",
       "             return_train_score=True, scoring=&#x27;accuracy&#x27;, verbose=1)</pre><b>In a Jupyter environment, please rerun this cell to show the HTML representation or trust the notebook. <br />On GitHub, the HTML representation is unable to render, please try loading this page with nbviewer.org.</b></div><div class=\"sk-container\" hidden><div class=\"sk-item sk-dashed-wrapped\"><div class=\"sk-label-container\"><div class=\"sk-label sk-toggleable\"><input class=\"sk-toggleable__control sk-hidden--visually\" id=\"sk-estimator-id-1\" type=\"checkbox\" ><label for=\"sk-estimator-id-1\" class=\"sk-toggleable__label sk-toggleable__label-arrow\">GridSearchCV</label><div class=\"sk-toggleable__content\"><pre>GridSearchCV(cv=3, estimator=KNeighborsClassifier(),\n",
       "             param_grid={&#x27;n_neighbors&#x27;: [1, 3, 5, 7, 9, 11, 13, 15],\n",
       "                         &#x27;weights&#x27;: [&#x27;uniform&#x27;, &#x27;distance&#x27;]},\n",
       "             return_train_score=True, scoring=&#x27;accuracy&#x27;, verbose=1)</pre></div></div></div><div class=\"sk-parallel\"><div class=\"sk-parallel-item\"><div class=\"sk-item\"><div class=\"sk-label-container\"><div class=\"sk-label sk-toggleable\"><input class=\"sk-toggleable__control sk-hidden--visually\" id=\"sk-estimator-id-2\" type=\"checkbox\" ><label for=\"sk-estimator-id-2\" class=\"sk-toggleable__label sk-toggleable__label-arrow\">estimator: KNeighborsClassifier</label><div class=\"sk-toggleable__content\"><pre>KNeighborsClassifier()</pre></div></div></div><div class=\"sk-serial\"><div class=\"sk-item\"><div class=\"sk-estimator sk-toggleable\"><input class=\"sk-toggleable__control sk-hidden--visually\" id=\"sk-estimator-id-3\" type=\"checkbox\" ><label for=\"sk-estimator-id-3\" class=\"sk-toggleable__label sk-toggleable__label-arrow\">KNeighborsClassifier</label><div class=\"sk-toggleable__content\"><pre>KNeighborsClassifier()</pre></div></div></div></div></div></div></div></div></div></div>"
      ],
      "text/plain": [
       "GridSearchCV(cv=3, estimator=KNeighborsClassifier(),\n",
       "             param_grid={'n_neighbors': [1, 3, 5, 7, 9, 11, 13, 15],\n",
       "                         'weights': ['uniform', 'distance']},\n",
       "             return_train_score=True, scoring='accuracy', verbose=1)"
      ]
     },
     "execution_count": 20,
     "metadata": {},
     "output_type": "execute_result"
    }
   ],
   "source": [
    "from sklearn.model_selection import GridSearchCV\n",
    "\n",
    "grid_params = {'n_neighbors': [1,3,5,7,9,11,13,15], 'weights': [\"uniform\", \"distance\"]}\n",
    "\n",
    "knn = KNeighborsClassifier()\n",
    "\n",
    "grid_search = GridSearchCV(knn, grid_params, cv=3, scoring=\"accuracy\", return_train_score=True, verbose=1)\n",
    "grid_search.fit(X_train, y_train)"
   ]
  },
  {
   "cell_type": "code",
   "execution_count": 21,
   "metadata": {
    "execution": {
     "iopub.execute_input": "2023-08-26T18:33:26.437021Z",
     "iopub.status.busy": "2023-08-26T18:33:26.436591Z",
     "iopub.status.idle": "2023-08-26T18:33:26.444889Z",
     "shell.execute_reply": "2023-08-26T18:33:26.443667Z",
     "shell.execute_reply.started": "2023-08-26T18:33:26.436985Z"
    }
   },
   "outputs": [
    {
     "data": {
      "text/plain": [
       "{'n_neighbors': 3, 'weights': 'distance'}"
      ]
     },
     "execution_count": 21,
     "metadata": {},
     "output_type": "execute_result"
    }
   ],
   "source": [
    "grid_search.best_params_"
   ]
  },
  {
   "cell_type": "code",
   "execution_count": 36,
   "metadata": {
    "execution": {
     "iopub.execute_input": "2023-08-26T18:43:42.890451Z",
     "iopub.status.busy": "2023-08-26T18:43:42.890024Z",
     "iopub.status.idle": "2023-08-26T18:43:49.460399Z",
     "shell.execute_reply": "2023-08-26T18:43:49.459310Z",
     "shell.execute_reply.started": "2023-08-26T18:43:42.890416Z"
    }
   },
   "outputs": [
    {
     "name": "stdout",
     "output_type": "stream",
     "text": [
      "Confusion Matrix:\n",
      "\n",
      "[[407   0   0   0   0   0   1   0   0   0]\n",
      " [  0 470   0   0   0   0   1   0   0   0]\n",
      " [  3   5 405   0   1   0   1   4   0   1]\n",
      " [  0   2   3 485   0   6   0   4   4   2]\n",
      " [  0   1   0   0 383   0   1   1   0  11]\n",
      " [  0   0   0   3   0 329   4   0   2   1]\n",
      " [  3   0   0   0   0   2 397   0   0   0]\n",
      " [  0   9   2   0   0   0   0 423   0   4]\n",
      " [  0   4   2   5   1  10   3   1 373   4]\n",
      " [  1   1   1   5   1   0   0   7   0 400]]\n",
      "\n",
      "Classification Report:\n",
      "\n",
      "              precision    recall  f1-score   support\n",
      "\n",
      "           0       0.98      1.00      0.99       408\n",
      "           1       0.96      1.00      0.98       471\n",
      "           2       0.98      0.96      0.97       420\n",
      "           3       0.97      0.96      0.97       506\n",
      "           4       0.99      0.96      0.98       397\n",
      "           5       0.95      0.97      0.96       339\n",
      "           6       0.97      0.99      0.98       402\n",
      "           7       0.96      0.97      0.96       438\n",
      "           8       0.98      0.93      0.95       403\n",
      "           9       0.95      0.96      0.95       416\n",
      "\n",
      "    accuracy                           0.97      4200\n",
      "   macro avg       0.97      0.97      0.97      4200\n",
      "weighted avg       0.97      0.97      0.97      4200\n",
      "\n"
     ]
    }
   ],
   "source": [
    "from sklearn.neighbors import KNeighborsClassifier\n",
    "\n",
    "knn = KNeighborsClassifier(n_neighbors=3, weights=\"distance\")\n",
    "knn.fit(X_train, y_train)\n",
    "\n",
    "val_predictions = knn.predict(X_val)\n",
    "print_accuracy_reports(val_predictions, y_val)"
   ]
  },
  {
   "cell_type": "markdown",
   "metadata": {},
   "source": [
    "## 🌎 Submission"
   ]
  },
  {
   "cell_type": "code",
   "execution_count": 66,
   "metadata": {
    "execution": {
     "iopub.execute_input": "2023-08-26T19:13:47.425792Z",
     "iopub.status.busy": "2023-08-26T19:13:47.425404Z",
     "iopub.status.idle": "2023-08-26T19:14:29.795930Z",
     "shell.execute_reply": "2023-08-26T19:14:29.794924Z",
     "shell.execute_reply.started": "2023-08-26T19:13:47.425764Z"
    }
   },
   "outputs": [],
   "source": [
    "predictions_test = knn.predict(data_test)"
   ]
  },
  {
   "cell_type": "code",
   "execution_count": 72,
   "metadata": {
    "execution": {
     "iopub.execute_input": "2023-08-26T19:15:21.688958Z",
     "iopub.status.busy": "2023-08-26T19:15:21.688081Z",
     "iopub.status.idle": "2023-08-26T19:15:21.695195Z",
     "shell.execute_reply": "2023-08-26T19:15:21.694406Z",
     "shell.execute_reply.started": "2023-08-26T19:15:21.688917Z"
    }
   },
   "outputs": [],
   "source": [
    "ImageId = pd.Series(data_test.index+1, name='ImageId')\n",
    "Label = pd.Series(predictions_test, name='Label')\n",
    "\n",
    "submission = pd.concat([ImageId, Label], axis=1)"
   ]
  },
  {
   "cell_type": "code",
   "execution_count": 73,
   "metadata": {
    "execution": {
     "iopub.execute_input": "2023-08-26T19:15:41.443217Z",
     "iopub.status.busy": "2023-08-26T19:15:41.442532Z",
     "iopub.status.idle": "2023-08-26T19:15:41.511768Z",
     "shell.execute_reply": "2023-08-26T19:15:41.510729Z",
     "shell.execute_reply.started": "2023-08-26T19:15:41.443180Z"
    }
   },
   "outputs": [],
   "source": [
    "submission.to_csv(\"submission.csv\",index=False)"
   ]
  }
 ],
 "metadata": {
  "kernelspec": {
   "display_name": "Python 3",
   "language": "python",
   "name": "python3"
  },
  "language_info": {
   "codemirror_mode": {
    "name": "ipython",
    "version": 3
   },
   "file_extension": ".py",
   "mimetype": "text/x-python",
   "name": "python",
   "nbconvert_exporter": "python",
   "pygments_lexer": "ipython3",
   "version": "3.10.12"
  }
 },
 "nbformat": 4,
 "nbformat_minor": 4
}
