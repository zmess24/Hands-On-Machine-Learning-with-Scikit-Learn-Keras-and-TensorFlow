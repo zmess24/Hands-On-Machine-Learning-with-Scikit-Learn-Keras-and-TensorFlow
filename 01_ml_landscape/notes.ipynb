{
 "cells": [
  {
   "cell_type": "markdown",
   "id": "ea5c3a87",
   "metadata": {},
   "source": [
    "# The Machine Learning Landscape"
   ]
  },
  {
   "cell_type": "markdown",
   "id": "f91339ef",
   "metadata": {},
   "source": [
    "## What is Machine Learning?\n",
    "\n",
    "**General Definietion**: The field of study that gives computers the ability to learn witout being explicitly programmed.\n",
    "\n",
    "**Engineering Definition**: A computer program is said to learn from experience E with respect to some task T and some performance measure P, if it's performance on T, as measured by P, improves with experience E."
   ]
  },
  {
   "cell_type": "markdown",
   "id": "69dcea9d",
   "metadata": {},
   "source": [
    "## Example Applications\n",
    "\n",
    "* Analyzing images of products on a production line to automatically classify them (CNN's)\n",
    "* Detecting Images in brain tumors (semantic segmentaiton)\n",
    "* Automatically classifying news articles (natural language processing e.g NLP w/ text classification)\n",
    "* Automatically flagging offensive coments on dicussion forums (NLP w/ text classification)\n",
    "* Summarizing long documents automatically (NLP w/ text summarization)\n",
    "* Creating a chat-bot or personal assistant (NLP w/ natural language understanding e.g NLU)\n",
    "* Forcasting you companies revenue next year based on many performance metrics (regression).\n",
    "* Making your app react to voice commands (speech recognition).\n",
    "* Credit Card fraud (anomoly detection).\n",
    "* Segmenting customers based on their purchases so that you can design a different marketing strategy for each segment (clustering).\n",
    "* Representing a complex, high dimensional dataset in a clear and insightful diagram (data visualization).\n",
    "* Recommender system based on past purchases or views (artifical nueral network e.g ANN)\n",
    "* Building an intelligent bot for a game (reinforcement learning).\n"
   ]
  },
  {
   "cell_type": "markdown",
   "id": "b3b9eeb2",
   "metadata": {},
   "source": [
    "## Types of Machine Learning Systems\n",
    "\n",
    "### Supervised Learning\n",
    "\n",
    "The training set you feed to the algorithm includes the desired solutions, called labels.\n",
    "\n",
    "**Algorithms**:\n",
    "\n",
    "* KNN (K-Nearest Neighbors)\n",
    "* Linear Regression\n",
    "* Logistic Regression\n",
    "* Support Vector Machines (SVM's)\n",
    "* Decision Trees & Random Forests\n",
    "* Nueral Networks\n",
    "\n",
    "### Unsupervised Learning\n",
    "\n",
    "The training set you feed to the algorithm is unlabled. Useful for identifying patterns.\n",
    "\n",
    "**Algorithms**:\n",
    "\n",
    "* Clustering\n",
    "    * K-Means\n",
    "    * DBSCAN\n",
    "    * Hierarchical Cluster Analysis (HCA)\n",
    "* Anomoly Detection and novelty detection\n",
    "    * One-class SVM\n",
    "    * Isolation Forest\n",
    "* Visualization & Dimensionality reduction\n",
    "    * Principal Component Analysis (PCA)\n",
    "    * Kenral PCA\n",
    "    * Locally Linear Embedding (LLE)\n",
    "    * t-Distributed Stochastic Neighbor Embedding (t-SNE)\n",
    " \n",
    "* Association Rule Learning\n",
    "    * Apriori\n",
    "    * Eclat\n",
    "    \n",
    "### Semi-Supervised Learning\n",
    "\n",
    "The training set you feed to the algorithm is partially labeled. Most semi-supervised learning algorithms are combinatinos of supervised and unsupervised algo's.\n",
    "\n",
    "For example, deep belief networks (DBN's) are based on unsupervised components called restricuted Boltzmann Machines (RBM's) stacked on top of one another. RBM's are trained sequentially in an unsupervised manner, and then the whole system is fine-tuned using supervised learning techniques.\n",
    "\n",
    "### Reinforcement Learning\n",
    "\n",
    "The learning system (e.g agent) can observe the environment, select and peform actions, and get rewards in return (or penalties in the form of negative rewards). It must then learn by itself what is the best strategy (e.g a policy) to get the most rewards over time. A policy defines waht action the agent should choose when it is given a situation.\n",
    "\n",
    "For example, many robots implement RL to learn how to walk.\n",
    "\n",
    "### Batch Learning\n",
    "\n",
    "The learning system is incapable of learning incrementally - it must be trained using all available data which generally can take a substantial amount of time. Given the computing resources, the system is generally trained offline before being launched into production.\n",
    "\n",
    "### Online Learning\n",
    "\n",
    "The learning system is trained incrementally by feeding it data instances sequentially either individually or in small groups called mini-batches. \n",
    "\n",
    "Online learning is great for systems that receive data sa. continous flow (e.g stock prices) and need to adapt to change rapidly or autonomously. Online learning systems rely on a learning rate, which tells the algo how fast to adapt to the new data and disregard the old data."
   ]
  },
  {
   "cell_type": "markdown",
   "id": "b0cfe2e4",
   "metadata": {},
   "source": [
    "## Main Challenges or Machine Learning\n",
    "\n",
    "* **Insufficient Quantitiy of Training Data**: Even for very simple algo's you typically need thousands of example, and for more complex ones such as image or speech recongition, you may need millions.\n",
    "* **Nonrepresentive Training Data**: It is crucial to use a training set of data that is representive to the cases you want to generalize to.\n",
    "* **Poor Quality Training Data**: Garbage in, Garbage out.\n",
    "* **Irrelevant Features**:\n",
    "* **Overfitting the Training Data**: The model performs well on training data, but it does not generalize well.\n",
    "* **Underfitting the Training Data**: The model is too simple to learn the underlying structure of the data"
   ]
  },
  {
   "cell_type": "markdown",
   "id": "44a64a5e",
   "metadata": {},
   "source": [
    "## Testing & Validating\n",
    "\n",
    "The only way to know how well a model will generalize to new cases is to try it out new cases. \n",
    "\n",
    "This is done through splitting the data into two sets - training and test data. The training data is used to to train the model, while the test data is used to gauge accuracy via an error rate on new cases called the generaliztion error.\n",
    "\n",
    "If the training error is low but the generalization error is high, that means the model is overfitting the data."
   ]
  },
  {
   "cell_type": "code",
   "execution_count": null,
   "id": "5d3174fa",
   "metadata": {},
   "outputs": [],
   "source": []
  }
 ],
 "metadata": {
  "kernelspec": {
   "display_name": "Python 3 (ipykernel)",
   "language": "python",
   "name": "python3"
  },
  "language_info": {
   "codemirror_mode": {
    "name": "ipython",
    "version": 3
   },
   "file_extension": ".py",
   "mimetype": "text/x-python",
   "name": "python",
   "nbconvert_exporter": "python",
   "pygments_lexer": "ipython3",
   "version": "3.10.9"
  }
 },
 "nbformat": 4,
 "nbformat_minor": 5
}
