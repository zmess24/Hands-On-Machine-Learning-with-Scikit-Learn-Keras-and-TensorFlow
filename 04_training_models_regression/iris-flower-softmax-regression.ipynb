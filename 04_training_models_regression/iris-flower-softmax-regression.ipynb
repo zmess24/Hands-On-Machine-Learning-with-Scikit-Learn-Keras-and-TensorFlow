{
 "cells": [
  {
   "cell_type": "markdown",
   "id": "50f3e2c8",
   "metadata": {
    "papermill": {
     "duration": 0.013171,
     "end_time": "2023-09-09T23:05:01.338235",
     "exception": false,
     "start_time": "2023-09-09T23:05:01.325064",
     "status": "completed"
    },
    "tags": []
   },
   "source": [
    "### ✏️ Frame the Problem\n",
    "\n",
    "The Iris flower data set is a multivariate data set introduced by the British statistician and biologist Ronald Fisher in his 1936 paper The use of multiple measurements in taxonomic problems. It is sometimes called Anderson's Iris data set because Edgar Anderson collected the data to quantify the morphologic variation of Iris flowers of three related species. \n",
    "\n",
    "The data set consists of 50 samples from each of three species of Iris (Iris Setosa, Iris virginica, and Iris versicolor). Four features were measured from each sample: the length and the width of the sepals and petals, in centimeters.\n",
    "\n",
    "The goal of this notebook is to accurately classify an input as either Iris Setosa, Iris Virginica, or Iris Versicolor. Specfically, I will be expermienting with a `Multinomial Regression Classifier` e.g `Softmax Regression`."
   ]
  },
  {
   "cell_type": "markdown",
   "id": "14701974",
   "metadata": {
    "papermill": {
     "duration": 0.01204,
     "end_time": "2023-09-09T23:05:01.362757",
     "exception": false,
     "start_time": "2023-09-09T23:05:01.350717",
     "status": "completed"
    },
    "tags": []
   },
   "source": [
    "### ☀️ Import Libraries"
   ]
  },
  {
   "cell_type": "code",
   "execution_count": 1,
   "id": "814117c1",
   "metadata": {
    "execution": {
     "iopub.execute_input": "2023-09-09T23:05:01.389469Z",
     "iopub.status.busy": "2023-09-09T23:05:01.388974Z",
     "iopub.status.idle": "2023-09-09T23:05:03.221986Z",
     "shell.execute_reply": "2023-09-09T23:05:03.220908Z"
    },
    "papermill": {
     "duration": 1.84945,
     "end_time": "2023-09-09T23:05:03.224683",
     "exception": false,
     "start_time": "2023-09-09T23:05:01.375233",
     "status": "completed"
    },
    "tags": []
   },
   "outputs": [],
   "source": [
    "import numpy as np\n",
    "import pandas as pd\n",
    "\n",
    "import matplotlib.pyplot as plt\n",
    "import seaborn as sns\n",
    "%matplotlib inline"
   ]
  },
  {
   "cell_type": "markdown",
   "id": "a6898f67",
   "metadata": {
    "papermill": {
     "duration": 0.011998,
     "end_time": "2023-09-09T23:05:03.249758",
     "exception": false,
     "start_time": "2023-09-09T23:05:03.237760",
     "status": "completed"
    },
    "tags": []
   },
   "source": [
    "### 💾 Load The Data"
   ]
  },
  {
   "cell_type": "code",
   "execution_count": 2,
   "id": "19d003bc",
   "metadata": {
    "execution": {
     "iopub.execute_input": "2023-09-09T23:05:03.276312Z",
     "iopub.status.busy": "2023-09-09T23:05:03.275778Z",
     "iopub.status.idle": "2023-09-09T23:05:03.318316Z",
     "shell.execute_reply": "2023-09-09T23:05:03.317553Z"
    },
    "papermill": {
     "duration": 0.058682,
     "end_time": "2023-09-09T23:05:03.320591",
     "exception": false,
     "start_time": "2023-09-09T23:05:03.261909",
     "status": "completed"
    },
    "tags": []
   },
   "outputs": [
    {
     "data": {
      "text/html": [
       "<div>\n",
       "<style scoped>\n",
       "    .dataframe tbody tr th:only-of-type {\n",
       "        vertical-align: middle;\n",
       "    }\n",
       "\n",
       "    .dataframe tbody tr th {\n",
       "        vertical-align: top;\n",
       "    }\n",
       "\n",
       "    .dataframe thead th {\n",
       "        text-align: right;\n",
       "    }\n",
       "</style>\n",
       "<table border=\"1\" class=\"dataframe\">\n",
       "  <thead>\n",
       "    <tr style=\"text-align: right;\">\n",
       "      <th></th>\n",
       "      <th>sepal_length</th>\n",
       "      <th>sepal_width</th>\n",
       "      <th>petal_length</th>\n",
       "      <th>petal_width</th>\n",
       "      <th>species</th>\n",
       "    </tr>\n",
       "  </thead>\n",
       "  <tbody>\n",
       "    <tr>\n",
       "      <th>0</th>\n",
       "      <td>5.1</td>\n",
       "      <td>3.5</td>\n",
       "      <td>1.4</td>\n",
       "      <td>0.2</td>\n",
       "      <td>Iris-setosa</td>\n",
       "    </tr>\n",
       "    <tr>\n",
       "      <th>1</th>\n",
       "      <td>4.9</td>\n",
       "      <td>3.0</td>\n",
       "      <td>1.4</td>\n",
       "      <td>0.2</td>\n",
       "      <td>Iris-setosa</td>\n",
       "    </tr>\n",
       "    <tr>\n",
       "      <th>2</th>\n",
       "      <td>4.7</td>\n",
       "      <td>3.2</td>\n",
       "      <td>1.3</td>\n",
       "      <td>0.2</td>\n",
       "      <td>Iris-setosa</td>\n",
       "    </tr>\n",
       "    <tr>\n",
       "      <th>3</th>\n",
       "      <td>4.6</td>\n",
       "      <td>3.1</td>\n",
       "      <td>1.5</td>\n",
       "      <td>0.2</td>\n",
       "      <td>Iris-setosa</td>\n",
       "    </tr>\n",
       "    <tr>\n",
       "      <th>4</th>\n",
       "      <td>5.0</td>\n",
       "      <td>3.6</td>\n",
       "      <td>1.4</td>\n",
       "      <td>0.2</td>\n",
       "      <td>Iris-setosa</td>\n",
       "    </tr>\n",
       "    <tr>\n",
       "      <th>5</th>\n",
       "      <td>5.4</td>\n",
       "      <td>3.9</td>\n",
       "      <td>1.7</td>\n",
       "      <td>0.4</td>\n",
       "      <td>Iris-setosa</td>\n",
       "    </tr>\n",
       "    <tr>\n",
       "      <th>6</th>\n",
       "      <td>4.6</td>\n",
       "      <td>3.4</td>\n",
       "      <td>1.4</td>\n",
       "      <td>0.3</td>\n",
       "      <td>Iris-setosa</td>\n",
       "    </tr>\n",
       "    <tr>\n",
       "      <th>7</th>\n",
       "      <td>5.0</td>\n",
       "      <td>3.4</td>\n",
       "      <td>1.5</td>\n",
       "      <td>0.2</td>\n",
       "      <td>Iris-setosa</td>\n",
       "    </tr>\n",
       "    <tr>\n",
       "      <th>8</th>\n",
       "      <td>4.4</td>\n",
       "      <td>2.9</td>\n",
       "      <td>1.4</td>\n",
       "      <td>0.2</td>\n",
       "      <td>Iris-setosa</td>\n",
       "    </tr>\n",
       "    <tr>\n",
       "      <th>9</th>\n",
       "      <td>4.9</td>\n",
       "      <td>3.1</td>\n",
       "      <td>1.5</td>\n",
       "      <td>0.1</td>\n",
       "      <td>Iris-setosa</td>\n",
       "    </tr>\n",
       "  </tbody>\n",
       "</table>\n",
       "</div>"
      ],
      "text/plain": [
       "   sepal_length  sepal_width  petal_length  petal_width      species\n",
       "0           5.1          3.5           1.4          0.2  Iris-setosa\n",
       "1           4.9          3.0           1.4          0.2  Iris-setosa\n",
       "2           4.7          3.2           1.3          0.2  Iris-setosa\n",
       "3           4.6          3.1           1.5          0.2  Iris-setosa\n",
       "4           5.0          3.6           1.4          0.2  Iris-setosa\n",
       "5           5.4          3.9           1.7          0.4  Iris-setosa\n",
       "6           4.6          3.4           1.4          0.3  Iris-setosa\n",
       "7           5.0          3.4           1.5          0.2  Iris-setosa\n",
       "8           4.4          2.9           1.4          0.2  Iris-setosa\n",
       "9           4.9          3.1           1.5          0.1  Iris-setosa"
      ]
     },
     "execution_count": 2,
     "metadata": {},
     "output_type": "execute_result"
    }
   ],
   "source": [
    "df = pd.read_csv('/kaggle/input/iris-flower-dataset/IRIS.csv')\n",
    "\n",
    "df.head(10)"
   ]
  },
  {
   "cell_type": "code",
   "execution_count": 3,
   "id": "a99cc690",
   "metadata": {
    "execution": {
     "iopub.execute_input": "2023-09-09T23:05:03.349154Z",
     "iopub.status.busy": "2023-09-09T23:05:03.348370Z",
     "iopub.status.idle": "2023-09-09T23:05:03.374728Z",
     "shell.execute_reply": "2023-09-09T23:05:03.373972Z"
    },
    "papermill": {
     "duration": 0.043222,
     "end_time": "2023-09-09T23:05:03.377191",
     "exception": false,
     "start_time": "2023-09-09T23:05:03.333969",
     "status": "completed"
    },
    "tags": []
   },
   "outputs": [
    {
     "name": "stdout",
     "output_type": "stream",
     "text": [
      "<class 'pandas.core.frame.DataFrame'>\n",
      "RangeIndex: 150 entries, 0 to 149\n",
      "Data columns (total 5 columns):\n",
      " #   Column        Non-Null Count  Dtype  \n",
      "---  ------        --------------  -----  \n",
      " 0   sepal_length  150 non-null    float64\n",
      " 1   sepal_width   150 non-null    float64\n",
      " 2   petal_length  150 non-null    float64\n",
      " 3   petal_width   150 non-null    float64\n",
      " 4   species       150 non-null    object \n",
      "dtypes: float64(4), object(1)\n",
      "memory usage: 6.0+ KB\n"
     ]
    }
   ],
   "source": [
    "df.info()"
   ]
  },
  {
   "cell_type": "markdown",
   "id": "46cbec59",
   "metadata": {
    "papermill": {
     "duration": 0.013141,
     "end_time": "2023-09-09T23:05:03.404159",
     "exception": false,
     "start_time": "2023-09-09T23:05:03.391018",
     "status": "completed"
    },
    "tags": []
   },
   "source": [
    "#### Check for Null Values"
   ]
  },
  {
   "cell_type": "code",
   "execution_count": 4,
   "id": "e88303d2",
   "metadata": {
    "execution": {
     "iopub.execute_input": "2023-09-09T23:05:03.435756Z",
     "iopub.status.busy": "2023-09-09T23:05:03.435074Z",
     "iopub.status.idle": "2023-09-09T23:05:03.442250Z",
     "shell.execute_reply": "2023-09-09T23:05:03.441538Z"
    },
    "papermill": {
     "duration": 0.026598,
     "end_time": "2023-09-09T23:05:03.444255",
     "exception": false,
     "start_time": "2023-09-09T23:05:03.417657",
     "status": "completed"
    },
    "tags": []
   },
   "outputs": [
    {
     "data": {
      "text/plain": [
       "sepal_length    0\n",
       "sepal_width     0\n",
       "petal_length    0\n",
       "petal_width     0\n",
       "species         0\n",
       "dtype: int64"
      ]
     },
     "execution_count": 4,
     "metadata": {},
     "output_type": "execute_result"
    }
   ],
   "source": [
    "df.isnull().sum()"
   ]
  },
  {
   "cell_type": "markdown",
   "id": "4d5acb77",
   "metadata": {
    "papermill": {
     "duration": 0.013015,
     "end_time": "2023-09-09T23:05:03.471064",
     "exception": false,
     "start_time": "2023-09-09T23:05:03.458049",
     "status": "completed"
    },
    "tags": []
   },
   "source": [
    "### 📊 EDA"
   ]
  },
  {
   "cell_type": "code",
   "execution_count": 5,
   "id": "2db11c20",
   "metadata": {
    "execution": {
     "iopub.execute_input": "2023-09-09T23:05:03.499700Z",
     "iopub.status.busy": "2023-09-09T23:05:03.499012Z",
     "iopub.status.idle": "2023-09-09T23:05:03.504464Z",
     "shell.execute_reply": "2023-09-09T23:05:03.503736Z"
    },
    "papermill": {
     "duration": 0.022009,
     "end_time": "2023-09-09T23:05:03.506541",
     "exception": false,
     "start_time": "2023-09-09T23:05:03.484532",
     "status": "completed"
    },
    "tags": []
   },
   "outputs": [],
   "source": [
    "def print_feature_mean(feature):\n",
    "    setosa = df[df['species'] == \"Iris-setosa\"][feature].mean()\n",
    "    veriscolor = df[df['species'] == \"Iris-veriscolor\"][feature].mean()\n",
    "    virginica = df[df['species'] == \"Iris-virginica\"][feature].mean()\n",
    "    print(\"\")\n",
    "    print(f\"Iris-Setosa \")"
   ]
  },
  {
   "cell_type": "code",
   "execution_count": 6,
   "id": "647682ca",
   "metadata": {
    "execution": {
     "iopub.execute_input": "2023-09-09T23:05:03.535637Z",
     "iopub.status.busy": "2023-09-09T23:05:03.534934Z",
     "iopub.status.idle": "2023-09-09T23:05:03.606174Z",
     "shell.execute_reply": "2023-09-09T23:05:03.605378Z"
    },
    "papermill": {
     "duration": 0.088109,
     "end_time": "2023-09-09T23:05:03.608329",
     "exception": false,
     "start_time": "2023-09-09T23:05:03.520220",
     "status": "completed"
    },
    "tags": []
   },
   "outputs": [
    {
     "data": {
      "text/html": [
       "<div>\n",
       "<style scoped>\n",
       "    .dataframe tbody tr th:only-of-type {\n",
       "        vertical-align: middle;\n",
       "    }\n",
       "\n",
       "    .dataframe tbody tr th {\n",
       "        vertical-align: top;\n",
       "    }\n",
       "\n",
       "    .dataframe thead tr th {\n",
       "        text-align: left;\n",
       "    }\n",
       "\n",
       "    .dataframe thead tr:last-of-type th {\n",
       "        text-align: right;\n",
       "    }\n",
       "</style>\n",
       "<table border=\"1\" class=\"dataframe\">\n",
       "  <thead>\n",
       "    <tr>\n",
       "      <th></th>\n",
       "      <th colspan=\"8\" halign=\"left\">sepal_length</th>\n",
       "      <th colspan=\"2\" halign=\"left\">sepal_width</th>\n",
       "      <th>...</th>\n",
       "      <th colspan=\"2\" halign=\"left\">petal_length</th>\n",
       "      <th colspan=\"8\" halign=\"left\">petal_width</th>\n",
       "    </tr>\n",
       "    <tr>\n",
       "      <th></th>\n",
       "      <th>count</th>\n",
       "      <th>mean</th>\n",
       "      <th>std</th>\n",
       "      <th>min</th>\n",
       "      <th>25%</th>\n",
       "      <th>50%</th>\n",
       "      <th>75%</th>\n",
       "      <th>max</th>\n",
       "      <th>count</th>\n",
       "      <th>mean</th>\n",
       "      <th>...</th>\n",
       "      <th>75%</th>\n",
       "      <th>max</th>\n",
       "      <th>count</th>\n",
       "      <th>mean</th>\n",
       "      <th>std</th>\n",
       "      <th>min</th>\n",
       "      <th>25%</th>\n",
       "      <th>50%</th>\n",
       "      <th>75%</th>\n",
       "      <th>max</th>\n",
       "    </tr>\n",
       "    <tr>\n",
       "      <th>species</th>\n",
       "      <th></th>\n",
       "      <th></th>\n",
       "      <th></th>\n",
       "      <th></th>\n",
       "      <th></th>\n",
       "      <th></th>\n",
       "      <th></th>\n",
       "      <th></th>\n",
       "      <th></th>\n",
       "      <th></th>\n",
       "      <th></th>\n",
       "      <th></th>\n",
       "      <th></th>\n",
       "      <th></th>\n",
       "      <th></th>\n",
       "      <th></th>\n",
       "      <th></th>\n",
       "      <th></th>\n",
       "      <th></th>\n",
       "      <th></th>\n",
       "      <th></th>\n",
       "    </tr>\n",
       "  </thead>\n",
       "  <tbody>\n",
       "    <tr>\n",
       "      <th>Iris-setosa</th>\n",
       "      <td>50.0</td>\n",
       "      <td>5.006</td>\n",
       "      <td>0.352490</td>\n",
       "      <td>4.3</td>\n",
       "      <td>4.800</td>\n",
       "      <td>5.0</td>\n",
       "      <td>5.2</td>\n",
       "      <td>5.8</td>\n",
       "      <td>50.0</td>\n",
       "      <td>3.418</td>\n",
       "      <td>...</td>\n",
       "      <td>1.575</td>\n",
       "      <td>1.9</td>\n",
       "      <td>50.0</td>\n",
       "      <td>0.244</td>\n",
       "      <td>0.107210</td>\n",
       "      <td>0.1</td>\n",
       "      <td>0.2</td>\n",
       "      <td>0.2</td>\n",
       "      <td>0.3</td>\n",
       "      <td>0.6</td>\n",
       "    </tr>\n",
       "    <tr>\n",
       "      <th>Iris-versicolor</th>\n",
       "      <td>50.0</td>\n",
       "      <td>5.936</td>\n",
       "      <td>0.516171</td>\n",
       "      <td>4.9</td>\n",
       "      <td>5.600</td>\n",
       "      <td>5.9</td>\n",
       "      <td>6.3</td>\n",
       "      <td>7.0</td>\n",
       "      <td>50.0</td>\n",
       "      <td>2.770</td>\n",
       "      <td>...</td>\n",
       "      <td>4.600</td>\n",
       "      <td>5.1</td>\n",
       "      <td>50.0</td>\n",
       "      <td>1.326</td>\n",
       "      <td>0.197753</td>\n",
       "      <td>1.0</td>\n",
       "      <td>1.2</td>\n",
       "      <td>1.3</td>\n",
       "      <td>1.5</td>\n",
       "      <td>1.8</td>\n",
       "    </tr>\n",
       "    <tr>\n",
       "      <th>Iris-virginica</th>\n",
       "      <td>50.0</td>\n",
       "      <td>6.588</td>\n",
       "      <td>0.635880</td>\n",
       "      <td>4.9</td>\n",
       "      <td>6.225</td>\n",
       "      <td>6.5</td>\n",
       "      <td>6.9</td>\n",
       "      <td>7.9</td>\n",
       "      <td>50.0</td>\n",
       "      <td>2.974</td>\n",
       "      <td>...</td>\n",
       "      <td>5.875</td>\n",
       "      <td>6.9</td>\n",
       "      <td>50.0</td>\n",
       "      <td>2.026</td>\n",
       "      <td>0.274650</td>\n",
       "      <td>1.4</td>\n",
       "      <td>1.8</td>\n",
       "      <td>2.0</td>\n",
       "      <td>2.3</td>\n",
       "      <td>2.5</td>\n",
       "    </tr>\n",
       "  </tbody>\n",
       "</table>\n",
       "<p>3 rows × 32 columns</p>\n",
       "</div>"
      ],
      "text/plain": [
       "                sepal_length                                              \\\n",
       "                       count   mean       std  min    25%  50%  75%  max   \n",
       "species                                                                    \n",
       "Iris-setosa             50.0  5.006  0.352490  4.3  4.800  5.0  5.2  5.8   \n",
       "Iris-versicolor         50.0  5.936  0.516171  4.9  5.600  5.9  6.3  7.0   \n",
       "Iris-virginica          50.0  6.588  0.635880  4.9  6.225  6.5  6.9  7.9   \n",
       "\n",
       "                sepal_width         ... petal_length      petal_width         \\\n",
       "                      count   mean  ...          75%  max       count   mean   \n",
       "species                             ...                                        \n",
       "Iris-setosa            50.0  3.418  ...        1.575  1.9        50.0  0.244   \n",
       "Iris-versicolor        50.0  2.770  ...        4.600  5.1        50.0  1.326   \n",
       "Iris-virginica         50.0  2.974  ...        5.875  6.9        50.0  2.026   \n",
       "\n",
       "                                                    \n",
       "                      std  min  25%  50%  75%  max  \n",
       "species                                             \n",
       "Iris-setosa      0.107210  0.1  0.2  0.2  0.3  0.6  \n",
       "Iris-versicolor  0.197753  1.0  1.2  1.3  1.5  1.8  \n",
       "Iris-virginica   0.274650  1.4  1.8  2.0  2.3  2.5  \n",
       "\n",
       "[3 rows x 32 columns]"
      ]
     },
     "execution_count": 6,
     "metadata": {},
     "output_type": "execute_result"
    }
   ],
   "source": [
    "df.groupby('species').describe()"
   ]
  },
  {
   "cell_type": "markdown",
   "id": "305ef958",
   "metadata": {
    "papermill": {
     "duration": 0.013528,
     "end_time": "2023-09-09T23:05:03.635600",
     "exception": false,
     "start_time": "2023-09-09T23:05:03.622072",
     "status": "completed"
    },
    "tags": []
   },
   "source": [
    "#### Examine Differences in `sepal_length`"
   ]
  },
  {
   "cell_type": "code",
   "execution_count": 7,
   "id": "0f9b93d8",
   "metadata": {
    "execution": {
     "iopub.execute_input": "2023-09-09T23:05:03.665592Z",
     "iopub.status.busy": "2023-09-09T23:05:03.664881Z",
     "iopub.status.idle": "2023-09-09T23:05:04.753045Z",
     "shell.execute_reply": "2023-09-09T23:05:04.751924Z"
    },
    "papermill": {
     "duration": 1.105803,
     "end_time": "2023-09-09T23:05:04.755520",
     "exception": false,
     "start_time": "2023-09-09T23:05:03.649717",
     "status": "completed"
    },
    "tags": []
   },
   "outputs": [
    {
     "name": "stderr",
     "output_type": "stream",
     "text": [
      "/opt/conda/lib/python3.10/site-packages/seaborn/axisgrid.py:118: UserWarning: The figure layout has changed to tight\n",
      "  self._figure.tight_layout(*args, **kwargs)\n"
     ]
    },
    {
     "data": {
      "text/plain": [
       "<seaborn.axisgrid.FacetGrid at 0x78f2943d1270>"
      ]
     },
     "execution_count": 7,
     "metadata": {},
     "output_type": "execute_result"
    },
    {
     "data": {
      "image/png": "[encoded data removed]",
      "text/plain": [
       "<Figure size 900x300 with 3 Axes>"
      ]
     },
     "metadata": {},
     "output_type": "display_data"
    }
   ],
   "source": [
    "g = sns.FacetGrid(df, col=\"species\")\n",
    "g.map(sns.histplot, \"sepal_length\")"
   ]
  },
  {
   "cell_type": "code",
   "execution_count": 8,
   "id": "02494f0b",
   "metadata": {
    "execution": {
     "iopub.execute_input": "2023-09-09T23:05:04.786978Z",
     "iopub.status.busy": "2023-09-09T23:05:04.786571Z",
     "iopub.status.idle": "2023-09-09T23:05:05.156228Z",
     "shell.execute_reply": "2023-09-09T23:05:05.155128Z"
    },
    "papermill": {
     "duration": 0.388559,
     "end_time": "2023-09-09T23:05:05.158741",
     "exception": false,
     "start_time": "2023-09-09T23:05:04.770182",
     "status": "completed"
    },
    "tags": []
   },
   "outputs": [
    {
     "data": {
      "image/png": "[encoded data removed]",
      "text/plain": [
       "<Figure size 640x480 with 1 Axes>"
      ]
     },
     "metadata": {},
     "output_type": "display_data"
    }
   ],
   "source": [
    "plot = sns.barplot(data=df, x=\"species\", y=\"sepal_length\", errwidth=0)\n",
    "\n",
    "for i in plot.containers: plot.bar_label(i,)"
   ]
  },
  {
   "cell_type": "markdown",
   "id": "f787b8a6",
   "metadata": {
    "papermill": {
     "duration": 0.014452,
     "end_time": "2023-09-09T23:05:05.188205",
     "exception": false,
     "start_time": "2023-09-09T23:05:05.173753",
     "status": "completed"
    },
    "tags": []
   },
   "source": [
    "#### Examine Differences in `sepal_width`"
   ]
  },
  {
   "cell_type": "code",
   "execution_count": 9,
   "id": "1a277c30",
   "metadata": {
    "execution": {
     "iopub.execute_input": "2023-09-09T23:05:05.219876Z",
     "iopub.status.busy": "2023-09-09T23:05:05.219247Z",
     "iopub.status.idle": "2023-09-09T23:05:06.290283Z",
     "shell.execute_reply": "2023-09-09T23:05:06.289158Z"
    },
    "papermill": {
     "duration": 1.090347,
     "end_time": "2023-09-09T23:05:06.293609",
     "exception": false,
     "start_time": "2023-09-09T23:05:05.203262",
     "status": "completed"
    },
    "tags": []
   },
   "outputs": [
    {
     "name": "stderr",
     "output_type": "stream",
     "text": [
      "/opt/conda/lib/python3.10/site-packages/seaborn/axisgrid.py:118: UserWarning: The figure layout has changed to tight\n",
      "  self._figure.tight_layout(*args, **kwargs)\n"
     ]
    },
    {
     "data": {
      "text/plain": [
       "<seaborn.axisgrid.FacetGrid at 0x78f276939540>"
      ]
     },
     "execution_count": 9,
     "metadata": {},
     "output_type": "execute_result"
    },
    {
     "data": {
      "image/png": "[encoded data removed]",
      "text/plain": [
       "<Figure size 900x300 with 3 Axes>"
      ]
     },
     "metadata": {},
     "output_type": "display_data"
    }
   ],
   "source": [
    "g = sns.FacetGrid(df, col=\"species\")\n",
    "g.map(sns.histplot, \"sepal_width\")"
   ]
  },
  {
   "cell_type": "code",
   "execution_count": 10,
   "id": "34ff5590",
   "metadata": {
    "execution": {
     "iopub.execute_input": "2023-09-09T23:05:06.327321Z",
     "iopub.status.busy": "2023-09-09T23:05:06.326895Z",
     "iopub.status.idle": "2023-09-09T23:05:06.697449Z",
     "shell.execute_reply": "2023-09-09T23:05:06.696332Z"
    },
    "papermill": {
     "duration": 0.390329,
     "end_time": "2023-09-09T23:05:06.699936",
     "exception": false,
     "start_time": "2023-09-09T23:05:06.309607",
     "status": "completed"
    },
    "tags": []
   },
   "outputs": [
    {
     "data": {
      "image/png": "[encoded data removed]",
      "text/plain": [
       "<Figure size 640x480 with 1 Axes>"
      ]
     },
     "metadata": {},
     "output_type": "display_data"
    }
   ],
   "source": [
    "plot = sns.barplot(data=df, x=\"species\", y=\"sepal_width\", errwidth=0)\n",
    "\n",
    "for i in plot.containers: plot.bar_label(i,)"
   ]
  },
  {
   "cell_type": "markdown",
   "id": "816904d9",
   "metadata": {
    "papermill": {
     "duration": 0.015737,
     "end_time": "2023-09-09T23:05:06.731972",
     "exception": false,
     "start_time": "2023-09-09T23:05:06.716235",
     "status": "completed"
    },
    "tags": []
   },
   "source": [
    "#### Examine Differences in `petal_length`"
   ]
  },
  {
   "cell_type": "code",
   "execution_count": 11,
   "id": "3e65a507",
   "metadata": {
    "execution": {
     "iopub.execute_input": "2023-09-09T23:05:06.766470Z",
     "iopub.status.busy": "2023-09-09T23:05:06.765779Z",
     "iopub.status.idle": "2023-09-09T23:05:07.867399Z",
     "shell.execute_reply": "2023-09-09T23:05:07.866243Z"
    },
    "papermill": {
     "duration": 1.121695,
     "end_time": "2023-09-09T23:05:07.869889",
     "exception": false,
     "start_time": "2023-09-09T23:05:06.748194",
     "status": "completed"
    },
    "tags": []
   },
   "outputs": [
    {
     "name": "stderr",
     "output_type": "stream",
     "text": [
      "/opt/conda/lib/python3.10/site-packages/seaborn/axisgrid.py:118: UserWarning: The figure layout has changed to tight\n",
      "  self._figure.tight_layout(*args, **kwargs)\n"
     ]
    },
    {
     "data": {
      "text/plain": [
       "<seaborn.axisgrid.FacetGrid at 0x78f2740fdae0>"
      ]
     },
     "execution_count": 11,
     "metadata": {},
     "output_type": "execute_result"
    },
    {
     "data": {
      "image/png": "[encoded data removed]",
      "text/plain": [
       "<Figure size 900x300 with 3 Axes>"
      ]
     },
     "metadata": {},
     "output_type": "display_data"
    }
   ],
   "source": [
    "g = sns.FacetGrid(df, col=\"species\")\n",
    "g.map(sns.histplot, \"petal_length\")"
   ]
  },
  {
   "cell_type": "code",
   "execution_count": 12,
   "id": "08dc83f5",
   "metadata": {
    "execution": {
     "iopub.execute_input": "2023-09-09T23:05:07.905864Z",
     "iopub.status.busy": "2023-09-09T23:05:07.905444Z",
     "iopub.status.idle": "2023-09-09T23:05:08.262974Z",
     "shell.execute_reply": "2023-09-09T23:05:08.262176Z"
    },
    "papermill": {
     "duration": 0.378098,
     "end_time": "2023-09-09T23:05:08.265114",
     "exception": false,
     "start_time": "2023-09-09T23:05:07.887016",
     "status": "completed"
    },
    "tags": []
   },
   "outputs": [
    {
     "data": {
      "image/png": "[encoded data removed]",
      "text/plain": [
       "<Figure size 640x480 with 1 Axes>"
      ]
     },
     "metadata": {},
     "output_type": "display_data"
    }
   ],
   "source": [
    "plot = sns.barplot(data=df, x=\"species\", y=\"petal_length\", errwidth=0)\n",
    "\n",
    "for i in plot.containers: plot.bar_label(i,)"
   ]
  },
  {
   "cell_type": "markdown",
   "id": "62840dcf",
   "metadata": {
    "papermill": {
     "duration": 0.017486,
     "end_time": "2023-09-09T23:05:08.300447",
     "exception": false,
     "start_time": "2023-09-09T23:05:08.282961",
     "status": "completed"
    },
    "tags": []
   },
   "source": [
    "#### Examine Differences in `petal_width`"
   ]
  },
  {
   "cell_type": "code",
   "execution_count": 13,
   "id": "79d80639",
   "metadata": {
    "execution": {
     "iopub.execute_input": "2023-09-09T23:05:08.337726Z",
     "iopub.status.busy": "2023-09-09T23:05:08.336658Z",
     "iopub.status.idle": "2023-09-09T23:05:09.417318Z",
     "shell.execute_reply": "2023-09-09T23:05:09.416172Z"
    },
    "papermill": {
     "duration": 1.101678,
     "end_time": "2023-09-09T23:05:09.419657",
     "exception": false,
     "start_time": "2023-09-09T23:05:08.317979",
     "status": "completed"
    },
    "tags": []
   },
   "outputs": [
    {
     "name": "stderr",
     "output_type": "stream",
     "text": [
      "/opt/conda/lib/python3.10/site-packages/seaborn/axisgrid.py:118: UserWarning: The figure layout has changed to tight\n",
      "  self._figure.tight_layout(*args, **kwargs)\n"
     ]
    },
    {
     "data": {
      "text/plain": [
       "<seaborn.axisgrid.FacetGrid at 0x78f273eefe50>"
      ]
     },
     "execution_count": 13,
     "metadata": {},
     "output_type": "execute_result"
    },
    {
     "data": {
      "image/png": "[encoded data removed]",
      "text/plain": [
       "<Figure size 900x300 with 3 Axes>"
      ]
     },
     "metadata": {},
     "output_type": "display_data"
    }
   ],
   "source": [
    "g = sns.FacetGrid(df, col=\"species\")\n",
    "g.map(sns.histplot, \"petal_width\")"
   ]
  },
  {
   "cell_type": "code",
   "execution_count": 14,
   "id": "214a56e2",
   "metadata": {
    "execution": {
     "iopub.execute_input": "2023-09-09T23:05:09.458600Z",
     "iopub.status.busy": "2023-09-09T23:05:09.458159Z",
     "iopub.status.idle": "2023-09-09T23:05:09.931365Z",
     "shell.execute_reply": "2023-09-09T23:05:09.930203Z"
    },
    "papermill": {
     "duration": 0.495889,
     "end_time": "2023-09-09T23:05:09.933673",
     "exception": false,
     "start_time": "2023-09-09T23:05:09.437784",
     "status": "completed"
    },
    "tags": []
   },
   "outputs": [
    {
     "data": {
      "image/png": "[encoded data removed]",
      "text/plain": [
       "<Figure size 640x480 with 1 Axes>"
      ]
     },
     "metadata": {},
     "output_type": "display_data"
    }
   ],
   "source": [
    "plot = sns.barplot(data=df, x=\"species\", y=\"petal_width\", errwidth=0)\n",
    "\n",
    "for i in plot.containers: plot.bar_label(i,)"
   ]
  },
  {
   "cell_type": "markdown",
   "id": "25e07424",
   "metadata": {
    "papermill": {
     "duration": 0.018086,
     "end_time": "2023-09-09T23:05:10.027440",
     "exception": false,
     "start_time": "2023-09-09T23:05:10.009354",
     "status": "completed"
    },
    "tags": []
   },
   "source": [
    "#### Feature Experimentation - `petal_circumferance`"
   ]
  },
  {
   "cell_type": "code",
   "execution_count": 15,
   "id": "616b8759",
   "metadata": {
    "execution": {
     "iopub.execute_input": "2023-09-09T23:05:10.066301Z",
     "iopub.status.busy": "2023-09-09T23:05:10.065877Z",
     "iopub.status.idle": "2023-09-09T23:05:10.071964Z",
     "shell.execute_reply": "2023-09-09T23:05:10.070991Z"
    },
    "papermill": {
     "duration": 0.028514,
     "end_time": "2023-09-09T23:05:10.074362",
     "exception": false,
     "start_time": "2023-09-09T23:05:10.045848",
     "status": "completed"
    },
    "tags": []
   },
   "outputs": [],
   "source": [
    "import math\n",
    "\n",
    "df['petal_circumferance'] = df['petal_length'] * 2 * math.pi"
   ]
  },
  {
   "cell_type": "code",
   "execution_count": 16,
   "id": "63fb461d",
   "metadata": {
    "execution": {
     "iopub.execute_input": "2023-09-09T23:05:10.113735Z",
     "iopub.status.busy": "2023-09-09T23:05:10.113042Z",
     "iopub.status.idle": "2023-09-09T23:05:11.186192Z",
     "shell.execute_reply": "2023-09-09T23:05:11.185146Z"
    },
    "papermill": {
     "duration": 1.095587,
     "end_time": "2023-09-09T23:05:11.188688",
     "exception": false,
     "start_time": "2023-09-09T23:05:10.093101",
     "status": "completed"
    },
    "tags": []
   },
   "outputs": [
    {
     "name": "stderr",
     "output_type": "stream",
     "text": [
      "/opt/conda/lib/python3.10/site-packages/seaborn/axisgrid.py:118: UserWarning: The figure layout has changed to tight\n",
      "  self._figure.tight_layout(*args, **kwargs)\n"
     ]
    },
    {
     "data": {
      "text/plain": [
       "<seaborn.axisgrid.FacetGrid at 0x78f273e6c910>"
      ]
     },
     "execution_count": 16,
     "metadata": {},
     "output_type": "execute_result"
    },
    {
     "data": {
      "image/png": "[encoded data removed]",
      "text/plain": [
       "<Figure size 900x300 with 3 Axes>"
      ]
     },
     "metadata": {},
     "output_type": "display_data"
    }
   ],
   "source": [
    "g = sns.FacetGrid(df, col=\"species\")\n",
    "g.map(sns.histplot, \"petal_circumferance\")"
   ]
  },
  {
   "cell_type": "code",
   "execution_count": 17,
   "id": "0a18fec0",
   "metadata": {
    "execution": {
     "iopub.execute_input": "2023-09-09T23:05:11.228369Z",
     "iopub.status.busy": "2023-09-09T23:05:11.227994Z",
     "iopub.status.idle": "2023-09-09T23:05:11.598673Z",
     "shell.execute_reply": "2023-09-09T23:05:11.597567Z"
    },
    "papermill": {
     "duration": 0.392922,
     "end_time": "2023-09-09T23:05:11.601054",
     "exception": false,
     "start_time": "2023-09-09T23:05:11.208132",
     "status": "completed"
    },
    "tags": []
   },
   "outputs": [
    {
     "data": {
      "image/png": "[encoded data removed]",
      "text/plain": [
       "<Figure size 640x480 with 1 Axes>"
      ]
     },
     "metadata": {},
     "output_type": "display_data"
    }
   ],
   "source": [
    "plot = sns.barplot(data=df, x=\"species\", y=\"petal_circumferance\", errwidth=0)\n",
    "\n",
    "for i in plot.containers: plot.bar_label(i,)"
   ]
  },
  {
   "cell_type": "markdown",
   "id": "e6f654b4",
   "metadata": {
    "papermill": {
     "duration": 0.019987,
     "end_time": "2023-09-09T23:05:11.641019",
     "exception": false,
     "start_time": "2023-09-09T23:05:11.621032",
     "status": "completed"
    },
    "tags": []
   },
   "source": [
    "Because `petal_circumferance` more or less yields is a duplicatus data point as `petal_length`, I'm dropping it from the dataset."
   ]
  },
  {
   "cell_type": "code",
   "execution_count": 18,
   "id": "e22744f7",
   "metadata": {
    "execution": {
     "iopub.execute_input": "2023-09-09T23:05:11.682712Z",
     "iopub.status.busy": "2023-09-09T23:05:11.681646Z",
     "iopub.status.idle": "2023-09-09T23:05:11.687728Z",
     "shell.execute_reply": "2023-09-09T23:05:11.686659Z"
    },
    "papermill": {
     "duration": 0.029549,
     "end_time": "2023-09-09T23:05:11.690242",
     "exception": false,
     "start_time": "2023-09-09T23:05:11.660693",
     "status": "completed"
    },
    "tags": []
   },
   "outputs": [],
   "source": [
    "df = df.drop(columns=\"petal_circumferance\", axis=1)"
   ]
  },
  {
   "cell_type": "code",
   "execution_count": 19,
   "id": "43657727",
   "metadata": {
    "execution": {
     "iopub.execute_input": "2023-09-09T23:05:11.731573Z",
     "iopub.status.busy": "2023-09-09T23:05:11.731105Z",
     "iopub.status.idle": "2023-09-09T23:05:11.745621Z",
     "shell.execute_reply": "2023-09-09T23:05:11.744698Z"
    },
    "papermill": {
     "duration": 0.037616,
     "end_time": "2023-09-09T23:05:11.747716",
     "exception": false,
     "start_time": "2023-09-09T23:05:11.710100",
     "status": "completed"
    },
    "tags": []
   },
   "outputs": [
    {
     "data": {
      "text/html": [
       "<div>\n",
       "<style scoped>\n",
       "    .dataframe tbody tr th:only-of-type {\n",
       "        vertical-align: middle;\n",
       "    }\n",
       "\n",
       "    .dataframe tbody tr th {\n",
       "        vertical-align: top;\n",
       "    }\n",
       "\n",
       "    .dataframe thead th {\n",
       "        text-align: right;\n",
       "    }\n",
       "</style>\n",
       "<table border=\"1\" class=\"dataframe\">\n",
       "  <thead>\n",
       "    <tr style=\"text-align: right;\">\n",
       "      <th></th>\n",
       "      <th>sepal_length</th>\n",
       "      <th>sepal_width</th>\n",
       "      <th>petal_length</th>\n",
       "      <th>petal_width</th>\n",
       "      <th>species</th>\n",
       "    </tr>\n",
       "  </thead>\n",
       "  <tbody>\n",
       "    <tr>\n",
       "      <th>0</th>\n",
       "      <td>5.1</td>\n",
       "      <td>3.5</td>\n",
       "      <td>1.4</td>\n",
       "      <td>0.2</td>\n",
       "      <td>Iris-setosa</td>\n",
       "    </tr>\n",
       "    <tr>\n",
       "      <th>1</th>\n",
       "      <td>4.9</td>\n",
       "      <td>3.0</td>\n",
       "      <td>1.4</td>\n",
       "      <td>0.2</td>\n",
       "      <td>Iris-setosa</td>\n",
       "    </tr>\n",
       "    <tr>\n",
       "      <th>2</th>\n",
       "      <td>4.7</td>\n",
       "      <td>3.2</td>\n",
       "      <td>1.3</td>\n",
       "      <td>0.2</td>\n",
       "      <td>Iris-setosa</td>\n",
       "    </tr>\n",
       "    <tr>\n",
       "      <th>3</th>\n",
       "      <td>4.6</td>\n",
       "      <td>3.1</td>\n",
       "      <td>1.5</td>\n",
       "      <td>0.2</td>\n",
       "      <td>Iris-setosa</td>\n",
       "    </tr>\n",
       "    <tr>\n",
       "      <th>4</th>\n",
       "      <td>5.0</td>\n",
       "      <td>3.6</td>\n",
       "      <td>1.4</td>\n",
       "      <td>0.2</td>\n",
       "      <td>Iris-setosa</td>\n",
       "    </tr>\n",
       "  </tbody>\n",
       "</table>\n",
       "</div>"
      ],
      "text/plain": [
       "   sepal_length  sepal_width  petal_length  petal_width      species\n",
       "0           5.1          3.5           1.4          0.2  Iris-setosa\n",
       "1           4.9          3.0           1.4          0.2  Iris-setosa\n",
       "2           4.7          3.2           1.3          0.2  Iris-setosa\n",
       "3           4.6          3.1           1.5          0.2  Iris-setosa\n",
       "4           5.0          3.6           1.4          0.2  Iris-setosa"
      ]
     },
     "execution_count": 19,
     "metadata": {},
     "output_type": "execute_result"
    }
   ],
   "source": [
    "df.head()"
   ]
  },
  {
   "cell_type": "markdown",
   "id": "6962bcc8",
   "metadata": {
    "papermill": {
     "duration": 0.01933,
     "end_time": "2023-09-09T23:05:11.786896",
     "exception": false,
     "start_time": "2023-09-09T23:05:11.767566",
     "status": "completed"
    },
    "tags": []
   },
   "source": [
    "### 💻 Prepare Data"
   ]
  },
  {
   "cell_type": "markdown",
   "id": "f1db839b",
   "metadata": {
    "papermill": {
     "duration": 0.019838,
     "end_time": "2023-09-09T23:05:11.826478",
     "exception": false,
     "start_time": "2023-09-09T23:05:11.806640",
     "status": "completed"
    },
    "tags": []
   },
   "source": [
    "#### Encode categorical lables into integers"
   ]
  },
  {
   "cell_type": "code",
   "execution_count": 20,
   "id": "a04743b3",
   "metadata": {
    "execution": {
     "iopub.execute_input": "2023-09-09T23:05:11.868754Z",
     "iopub.status.busy": "2023-09-09T23:05:11.867907Z",
     "iopub.status.idle": "2023-09-09T23:05:12.016036Z",
     "shell.execute_reply": "2023-09-09T23:05:12.014968Z"
    },
    "papermill": {
     "duration": 0.172132,
     "end_time": "2023-09-09T23:05:12.018864",
     "exception": false,
     "start_time": "2023-09-09T23:05:11.846732",
     "status": "completed"
    },
    "tags": []
   },
   "outputs": [],
   "source": [
    "from sklearn.preprocessing import LabelEncoder\n",
    "\n",
    "LE = LabelEncoder()\n",
    "\n",
    "df['species'] = LE.fit_transform(df['species'])"
   ]
  },
  {
   "cell_type": "markdown",
   "id": "45ead6e6",
   "metadata": {
    "papermill": {
     "duration": 0.020501,
     "end_time": "2023-09-09T23:05:12.059943",
     "exception": false,
     "start_time": "2023-09-09T23:05:12.039442",
     "status": "completed"
    },
    "tags": []
   },
   "source": [
    "#### Create Training & Test Data"
   ]
  },
  {
   "cell_type": "code",
   "execution_count": 21,
   "id": "2c9ede0a",
   "metadata": {
    "execution": {
     "iopub.execute_input": "2023-09-09T23:05:12.102577Z",
     "iopub.status.busy": "2023-09-09T23:05:12.101837Z",
     "iopub.status.idle": "2023-09-09T23:05:12.206589Z",
     "shell.execute_reply": "2023-09-09T23:05:12.205421Z"
    },
    "papermill": {
     "duration": 0.129081,
     "end_time": "2023-09-09T23:05:12.209356",
     "exception": false,
     "start_time": "2023-09-09T23:05:12.080275",
     "status": "completed"
    },
    "tags": []
   },
   "outputs": [],
   "source": [
    "from sklearn.model_selection import train_test_split\n",
    "\n",
    "X = df.drop(columns='species')\n",
    "y = df['species']\n",
    "\n",
    "X_train, X_test, y_train, y_test = train_test_split(X, y, test_size=0.3, random_state=42)"
   ]
  },
  {
   "cell_type": "markdown",
   "id": "76f995ce",
   "metadata": {
    "papermill": {
     "duration": 0.019634,
     "end_time": "2023-09-09T23:05:12.249276",
     "exception": false,
     "start_time": "2023-09-09T23:05:12.229642",
     "status": "completed"
    },
    "tags": []
   },
   "source": [
    "### 💻 Select & Train Models"
   ]
  },
  {
   "cell_type": "code",
   "execution_count": 22,
   "id": "8351172b",
   "metadata": {
    "execution": {
     "iopub.execute_input": "2023-09-09T23:05:12.292288Z",
     "iopub.status.busy": "2023-09-09T23:05:12.291821Z",
     "iopub.status.idle": "2023-09-09T23:05:12.298478Z",
     "shell.execute_reply": "2023-09-09T23:05:12.297415Z"
    },
    "papermill": {
     "duration": 0.031594,
     "end_time": "2023-09-09T23:05:12.300679",
     "exception": false,
     "start_time": "2023-09-09T23:05:12.269085",
     "status": "completed"
    },
    "tags": []
   },
   "outputs": [],
   "source": [
    "from sklearn.metrics import classification_report, confusion_matrix\n",
    "\n",
    "def print_accuracy_reports(predictions, labels):\n",
    "    print(\"Confusion Matrix:\")\n",
    "    print(\"\")\n",
    "    print(confusion_matrix(predictions, labels))\n",
    "    print(\"\")\n",
    "    print(\"Classification Report:\")\n",
    "    print(\"\")\n",
    "    print(classification_report(predictions, labels))"
   ]
  },
  {
   "cell_type": "code",
   "execution_count": 23,
   "id": "ad7969db",
   "metadata": {
    "execution": {
     "iopub.execute_input": "2023-09-09T23:05:12.343149Z",
     "iopub.status.busy": "2023-09-09T23:05:12.342419Z",
     "iopub.status.idle": "2023-09-09T23:05:12.479670Z",
     "shell.execute_reply": "2023-09-09T23:05:12.478556Z"
    },
    "papermill": {
     "duration": 0.161245,
     "end_time": "2023-09-09T23:05:12.482097",
     "exception": false,
     "start_time": "2023-09-09T23:05:12.320852",
     "status": "completed"
    },
    "tags": []
   },
   "outputs": [
    {
     "name": "stderr",
     "output_type": "stream",
     "text": [
      "/opt/conda/lib/python3.10/site-packages/sklearn/linear_model/_logistic.py:458: ConvergenceWarning: lbfgs failed to converge (status=1):\n",
      "STOP: TOTAL NO. of ITERATIONS REACHED LIMIT.\n",
      "\n",
      "Increase the number of iterations (max_iter) or scale the data as shown in:\n",
      "    https://scikit-learn.org/stable/modules/preprocessing.html\n",
      "Please also refer to the documentation for alternative solver options:\n",
      "    https://scikit-learn.org/stable/modules/linear_model.html#logistic-regression\n",
      "  n_iter_i = _check_optimize_result(\n"
     ]
    },
    {
     "data": {
      "text/html": [
       "<style>#sk-container-id-1 {color: black;background-color: white;}#sk-container-id-1 pre{padding: 0;}#sk-container-id-1 div.sk-toggleable {background-color: white;}#sk-container-id-1 label.sk-toggleable__label {cursor: pointer;display: block;width: 100%;margin-bottom: 0;padding: 0.3em;box-sizing: border-box;text-align: center;}#sk-container-id-1 label.sk-toggleable__label-arrow:before {content: \"▸\";float: left;margin-right: 0.25em;color: #696969;}#sk-container-id-1 label.sk-toggleable__label-arrow:hover:before {color: black;}#sk-container-id-1 div.sk-estimator:hover label.sk-toggleable__label-arrow:before {color: black;}#sk-container-id-1 div.sk-toggleable__content {max-height: 0;max-width: 0;overflow: hidden;text-align: left;background-color: #f0f8ff;}#sk-container-id-1 div.sk-toggleable__content pre {margin: 0.2em;color: black;border-radius: 0.25em;background-color: #f0f8ff;}#sk-container-id-1 input.sk-toggleable__control:checked~div.sk-toggleable__content {max-height: 200px;max-width: 100%;overflow: auto;}#sk-container-id-1 input.sk-toggleable__control:checked~label.sk-toggleable__label-arrow:before {content: \"▾\";}#sk-container-id-1 div.sk-estimator input.sk-toggleable__control:checked~label.sk-toggleable__label {background-color: #d4ebff;}#sk-container-id-1 div.sk-label input.sk-toggleable__control:checked~label.sk-toggleable__label {background-color: #d4ebff;}#sk-container-id-1 input.sk-hidden--visually {border: 0;clip: rect(1px 1px 1px 1px);clip: rect(1px, 1px, 1px, 1px);height: 1px;margin: -1px;overflow: hidden;padding: 0;position: absolute;width: 1px;}#sk-container-id-1 div.sk-estimator {font-family: monospace;background-color: #f0f8ff;border: 1px dotted black;border-radius: 0.25em;box-sizing: border-box;margin-bottom: 0.5em;}#sk-container-id-1 div.sk-estimator:hover {background-color: #d4ebff;}#sk-container-id-1 div.sk-parallel-item::after {content: \"\";width: 100%;border-bottom: 1px solid gray;flex-grow: 1;}#sk-container-id-1 div.sk-label:hover label.sk-toggleable__label {background-color: #d4ebff;}#sk-container-id-1 div.sk-serial::before {content: \"\";position: absolute;border-left: 1px solid gray;box-sizing: border-box;top: 0;bottom: 0;left: 50%;z-index: 0;}#sk-container-id-1 div.sk-serial {display: flex;flex-direction: column;align-items: center;background-color: white;padding-right: 0.2em;padding-left: 0.2em;position: relative;}#sk-container-id-1 div.sk-item {position: relative;z-index: 1;}#sk-container-id-1 div.sk-parallel {display: flex;align-items: stretch;justify-content: center;background-color: white;position: relative;}#sk-container-id-1 div.sk-item::before, #sk-container-id-1 div.sk-parallel-item::before {content: \"\";position: absolute;border-left: 1px solid gray;box-sizing: border-box;top: 0;bottom: 0;left: 50%;z-index: -1;}#sk-container-id-1 div.sk-parallel-item {display: flex;flex-direction: column;z-index: 1;position: relative;background-color: white;}#sk-container-id-1 div.sk-parallel-item:first-child::after {align-self: flex-end;width: 50%;}#sk-container-id-1 div.sk-parallel-item:last-child::after {align-self: flex-start;width: 50%;}#sk-container-id-1 div.sk-parallel-item:only-child::after {width: 0;}#sk-container-id-1 div.sk-dashed-wrapped {border: 1px dashed gray;margin: 0 0.4em 0.5em 0.4em;box-sizing: border-box;padding-bottom: 0.4em;background-color: white;}#sk-container-id-1 div.sk-label label {font-family: monospace;font-weight: bold;display: inline-block;line-height: 1.2em;}#sk-container-id-1 div.sk-label-container {text-align: center;}#sk-container-id-1 div.sk-container {/* jupyter's `normalize.less` sets `[hidden] { display: none; }` but bootstrap.min.css set `[hidden] { display: none !important; }` so we also need the `!important` here to be able to override the default hidden behavior on the sphinx rendered scikit-learn.org. See: https://github.com/scikit-learn/scikit-learn/issues/21755 */display: inline-block !important;position: relative;}#sk-container-id-1 div.sk-text-repr-fallback {display: none;}</style><div id=\"sk-container-id-1\" class=\"sk-top-container\"><div class=\"sk-text-repr-fallback\"><pre>LogisticRegression(C=10, multi_class=&#x27;multinomial&#x27;)</pre><b>In a Jupyter environment, please rerun this cell to show the HTML representation or trust the notebook. <br />On GitHub, the HTML representation is unable to render, please try loading this page with nbviewer.org.</b></div><div class=\"sk-container\" hidden><div class=\"sk-item\"><div class=\"sk-estimator sk-toggleable\"><input class=\"sk-toggleable__control sk-hidden--visually\" id=\"sk-estimator-id-1\" type=\"checkbox\" checked><label for=\"sk-estimator-id-1\" class=\"sk-toggleable__label sk-toggleable__label-arrow\">LogisticRegression</label><div class=\"sk-toggleable__content\"><pre>LogisticRegression(C=10, multi_class=&#x27;multinomial&#x27;)</pre></div></div></div></div></div>"
      ],
      "text/plain": [
       "LogisticRegression(C=10, multi_class='multinomial')"
      ]
     },
     "execution_count": 23,
     "metadata": {},
     "output_type": "execute_result"
    }
   ],
   "source": [
    "from sklearn.linear_model import LogisticRegression\n",
    "\n",
    "log_reg = LogisticRegression(multi_class='multinomial', solver='lbfgs', C=10)\n",
    "\n",
    "log_reg.fit(X_train, y_train)"
   ]
  },
  {
   "cell_type": "code",
   "execution_count": 24,
   "id": "115e0189",
   "metadata": {
    "execution": {
     "iopub.execute_input": "2023-09-09T23:05:12.526052Z",
     "iopub.status.busy": "2023-09-09T23:05:12.525278Z",
     "iopub.status.idle": "2023-09-09T23:05:12.541051Z",
     "shell.execute_reply": "2023-09-09T23:05:12.539939Z"
    },
    "papermill": {
     "duration": 0.040519,
     "end_time": "2023-09-09T23:05:12.543327",
     "exception": false,
     "start_time": "2023-09-09T23:05:12.502808",
     "status": "completed"
    },
    "tags": []
   },
   "outputs": [
    {
     "name": "stdout",
     "output_type": "stream",
     "text": [
      "Confusion Matrix:\n",
      "\n",
      "[[19  0  0]\n",
      " [ 0 13  0]\n",
      " [ 0  0 13]]\n",
      "\n",
      "Classification Report:\n",
      "\n",
      "              precision    recall  f1-score   support\n",
      "\n",
      "           0       1.00      1.00      1.00        19\n",
      "           1       1.00      1.00      1.00        13\n",
      "           2       1.00      1.00      1.00        13\n",
      "\n",
      "    accuracy                           1.00        45\n",
      "   macro avg       1.00      1.00      1.00        45\n",
      "weighted avg       1.00      1.00      1.00        45\n",
      "\n"
     ]
    }
   ],
   "source": [
    "predictions = log_reg.predict(X_test)\n",
    "\n",
    "print_accuracy_reports(predictions, y_test)"
   ]
  }
 ],
 "kernelspec": {
  "display_name": "Python 3",
  "language": "python",
  "name": "python3"
 },
 "language_info": {
  "codemirror_mode": {
   "name": "ipython",
   "version": 3
  },
  "file_extension": ".py",
  "mimetype": "text/x-python",
  "name": "python",
  "nbconvert_exporter": "python",
  "pygments_lexer": "ipython3",
  "version": "3.6.4"
 },
 "metadata": {
  "kernelspec": {
   "display_name": "Python 3",
   "language": "python",
   "name": "python3"
  },
  "language_info": {
   "codemirror_mode": {
    "name": "ipython",
    "version": 3
   },
   "file_extension": ".py",
   "mimetype": "text/x-python",
   "name": "python",
   "nbconvert_exporter": "python",
   "pygments_lexer": "ipython3",
   "version": "3.10.12"
  },
  "papermill": {
   "default_parameters": {},
   "duration": 15.281842,
   "end_time": "2023-09-09T23:05:13.184812",
   "environment_variables": {},
   "exception": null,
   "input_path": "__notebook__.ipynb",
   "output_path": "__notebook__.ipynb",
   "parameters": {},
   "start_time": "2023-09-09T23:04:57.902970",
   "version": "2.4.0"
  }
 },
 "nbformat": 4,
 "nbformat_minor": 5
}
