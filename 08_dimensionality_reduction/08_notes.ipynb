{
 "cells": [
  {
   "cell_type": "markdown",
   "id": "e328f712",
   "metadata": {},
   "source": [
    "# 8. Dimensionality Reduction"
   ]
  },
  {
   "cell_type": "markdown",
   "id": "86179f6a",
   "metadata": {},
   "source": [
    "Many ML problems involve thousands or even millions of features for each training instance, which can not only make training extremely slow & expensive, but also makes it harder to find a good solution. This problem is often referred to as the `curse of dimensionality`.\n",
    "\n",
    "Fortunately, it is often possible to reduce the # of features considerably, turning in an intractable problem into a tractable one. For example, consider the MNIST images dataset:\n",
    "\n",
    "* The pixals on the bottom of the image are almost always white, meaning we could drop them from the training set without losing much information.\n",
    "* Additionally, two neighboring pixels are often highly correlated - if you merge them into a single pixel, you will not lose much information.\n",
    "\n",
    "Aside from speeding up training, dimensionality reduction is also extremely useful for data visualization - reducing the # of dimensions down to two or three make it possible to plot a condensed view of a high-dimensional training set on a graph and gain some important insights by visually detecting patterns, such as clusters."
   ]
  },
  {
   "cell_type": "markdown",
   "id": "a084f9a0",
   "metadata": {},
   "source": [
    "## 2 Main Approaches to Dimensionality Reduction"
   ]
  },
  {
   "cell_type": "markdown",
   "id": "e50d9a80",
   "metadata": {},
   "source": [
    "### Projection\n",
    "\n",
    "In most real world problems, training instances are not spread out uniformly across all dimensions - many fatures almost constant, while others are highly correclated (as discussed for MNIST). As a reuslt, all training instances lie within (or close to) a much lower-dimensional subspace of the high-dimensional space. This sounds very abstract, so let's look at an example:"
   ]
  },
  {
   "cell_type": "code",
   "execution_count": null,
   "id": "de660b91",
   "metadata": {},
   "outputs": [],
   "source": []
  }
 ],
 "metadata": {
  "kernelspec": {
   "display_name": "Python 3 (ipykernel)",
   "language": "python",
   "name": "python3"
  },
  "language_info": {
   "codemirror_mode": {
    "name": "ipython",
    "version": 3
   },
   "file_extension": ".py",
   "mimetype": "text/x-python",
   "name": "python",
   "nbconvert_exporter": "python",
   "pygments_lexer": "ipython3",
   "version": "3.10.9"
  }
 },
 "nbformat": 4,
 "nbformat_minor": 5
}
